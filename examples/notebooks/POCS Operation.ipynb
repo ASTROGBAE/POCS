{
 "cells": [
  {
   "cell_type": "markdown",
   "metadata": {},
   "source": [
    "An instance of `POCS` can be loaded and run as a simulator, which will then allow you to play with various aspects of of `POCS` and allow all of the different parts of the system. \n",
    "\n",
    "Any `INFO` level log messages will be displayed in the notebook but you can check `$PANDIR/logs/panoptes.log` for full debug output"
   ]
  },
  {
   "cell_type": "code",
   "execution_count": 1,
   "metadata": {
    "collapsed": true
   },
   "outputs": [],
   "source": [
    "from IPython.display import display "
   ]
  },
  {
   "cell_type": "code",
   "execution_count": 2,
   "metadata": {
    "collapsed": true
   },
   "outputs": [],
   "source": [
    "# Load the POCS module\n",
    "from pocs import POCS"
   ]
  },
  {
   "cell_type": "code",
   "execution_count": 3,
   "metadata": {
    "collapsed": false
   },
   "outputs": [
    {
     "name": "stderr",
     "output_type": "stream",
     "text": [
      "2016-11-29 12:10:09 ganymede panoptes[1632] INFO Loading state table: simple_state_table\n",
      "2016-11-29 12:10:09 ganymede panoptes[1632] INFO ********************************************************************************\n",
      "2016-11-29 12:10:09 ganymede panoptes[1632] INFO Initializing PANOPTES unit\n",
      "2016-11-29 12:10:09 ganymede panoptes[1632] INFO Welcome GeeBot!\n",
      "2016-11-29 12:10:09 ganymede panoptes[1632] INFO \t observatory\n",
      "2016-11-29 12:10:09 ganymede panoptes[1632] INFO \tInitializing observatory\n",
      "2016-11-29 12:10:09 ganymede panoptes[1632] INFO \t\t Setting up location\n",
      "2016-11-29 12:10:09 ganymede panoptes[1632] INFO \t\t Setting up mount\n",
      "2016-11-29 12:10:09 ganymede panoptes[1632] INFO \t\tUsing simulator mount\n",
      "2016-11-29 12:10:09 ganymede panoptes[1632] INFO \t\t Setting up cameras\n",
      "2016-11-29 12:10:09 ganymede panoptes[1632] INFO \t\t Setting up scheduler\n",
      "2016-11-29 12:10:10 ganymede panoptes[1632] INFO \t Observatory initialized\n",
      "2016-11-29 12:10:11 ganymede root[1632] INFO PANCHAT Hi there!\n"
     ]
    }
   ],
   "source": [
    "# Create an instance of POCS that acts as a simulator\n",
    "pocs = POCS(simulator=['all']) # Could be a list of: 'weather', 'camera', 'mount'"
   ]
  },
  {
   "cell_type": "markdown",
   "metadata": {},
   "source": [
    "The `pocs` instance needs to be initialized, which will set up the cameras, mount, scheduler, etc."
   ]
  },
  {
   "cell_type": "code",
   "execution_count": 4,
   "metadata": {
    "collapsed": false
   },
   "outputs": [
    {
     "name": "stderr",
     "output_type": "stream",
     "text": [
      "2016-11-29 12:10:11 ganymede root[1632] INFO PANCHAT Initializing the system! Woohoo!\n"
     ]
    },
    {
     "data": {
      "text/plain": [
       "True"
      ]
     },
     "execution_count": 4,
     "metadata": {},
     "output_type": "execute_result"
    }
   ],
   "source": [
    "pocs.initialize()"
   ]
  },
  {
   "cell_type": "markdown",
   "metadata": {},
   "source": [
    "During automated operations a script would simply call `pocs.run()` and the state machine would begin. However, the `run()` method is a blocking call so you can't interact with the system any more. Here we manually inspect some items."
   ]
  },
  {
   "cell_type": "code",
   "execution_count": 5,
   "metadata": {
    "collapsed": false
   },
   "outputs": [
    {
     "name": "stdout",
     "output_type": "stream",
     "text": [
      "None\n"
     ]
    }
   ],
   "source": [
    "# Check if we have a current observation:\n",
    "print(pocs.observatory.current_observation)"
   ]
  },
  {
   "cell_type": "code",
   "execution_count": 6,
   "metadata": {
    "collapsed": false
   },
   "outputs": [
    {
     "name": "stderr",
     "output_type": "stream",
     "text": [
      "2016-11-29 12:10:29 ganymede panoptes[1632] INFO Setting new observation to HAT-P-1: 120.0 s exposures in blocks of 10, minimum 60, priority 100\n"
     ]
    },
    {
     "name": "stdout",
     "output_type": "stream",
     "text": [
      "{'Tres 3': 101.54009971920588, 'HD 209458': 102.0216846019211, 'HAT-P-1': 102.1834216095309}\n"
     ]
    }
   ],
   "source": [
    "# Get an observation by running the scheduler. Check the log file for details\n",
    "new_obs = pocs.observatory.get_observation()"
   ]
  },
  {
   "cell_type": "code",
   "execution_count": 7,
   "metadata": {
    "collapsed": false
   },
   "outputs": [
    {
     "name": "stdout",
     "output_type": "stream",
     "text": [
      "HAT-P-1: 120.0 s exposures in blocks of 10, minimum 60, priority 100\n"
     ]
    }
   ],
   "source": [
    "print(pocs.observatory.current_observation)"
   ]
  },
  {
   "cell_type": "code",
   "execution_count": 8,
   "metadata": {
    "collapsed": false
   },
   "outputs": [],
   "source": [
    "# Set a new high priority target. (NOTE this is a totally fake thing)\n",
    "target = {\n",
    "    'name': 'Super Grav Wave Event',\n",
    "    'position': '22h57m47.0s +38d40m30.0s',\n",
    "    'priority': 999,    \n",
    "}\n",
    "\n",
    "pocs.observatory.scheduler.add_observation(target)"
   ]
  },
  {
   "cell_type": "code",
   "execution_count": 9,
   "metadata": {
    "collapsed": false
   },
   "outputs": [
    {
     "name": "stderr",
     "output_type": "stream",
     "text": [
      "2016-11-29 12:10:44 ganymede panoptes[1632] INFO Setting new observation to Super Grav Wave Event: 120.0 s exposures in blocks of 10, minimum 60, priority 999\n"
     ]
    },
    {
     "name": "stdout",
     "output_type": "stream",
     "text": [
      "{'Tres 3': 101.5398514899531, 'HD 209458': 102.02151867777933, 'Super Grav Wave Event': 1001.1832813307522, 'HAT-P-1': 102.18328133075215}\n"
     ]
    }
   ],
   "source": [
    "# Get a new observation, which should be our new event\n",
    "new_obs = pocs.observatory.get_observation()"
   ]
  },
  {
   "cell_type": "code",
   "execution_count": 10,
   "metadata": {
    "collapsed": true
   },
   "outputs": [],
   "source": [
    "pocs.observatory.scheduler.remove_observation('Super Grav Wave Event')"
   ]
  },
  {
   "cell_type": "code",
   "execution_count": 11,
   "metadata": {
    "collapsed": false
   },
   "outputs": [
    {
     "data": {
      "text/plain": [
       "{'EPIC-211089792': <pocs.scheduler.observation.Observation at 0x7f3d8efb49b0>,\n",
       " 'HAT-P-1': <pocs.scheduler.observation.Observation at 0x7f3d8efbf940>,\n",
       " 'HAT-P-20': <pocs.scheduler.observation.Observation at 0x7f3d8efd9b38>,\n",
       " 'HD 189733': <pocs.scheduler.observation.Observation at 0x7f3d8e524cf8>,\n",
       " 'HD 209458': <pocs.scheduler.observation.Observation at 0x7f3d8e525860>,\n",
       " 'KIC 8462852': <pocs.scheduler.observation.Observation at 0x7f3d8e523748>,\n",
       " 'Kepler 1100': <pocs.scheduler.observation.Observation at 0x7f3d8e588908>,\n",
       " 'M42': <pocs.scheduler.observation.Observation at 0x7f3d8efc5898>,\n",
       " 'M44': <pocs.scheduler.observation.Observation at 0x7f3d8efd0828>,\n",
       " 'M45': <pocs.scheduler.observation.Observation at 0x7f3d8cf0a7b8>,\n",
       " 'M5': <pocs.scheduler.observation.Observation at 0x7f3d8cf11748>,\n",
       " 'Qatar-1': <pocs.scheduler.observation.Observation at 0x7f3d8ef9da90>,\n",
       " 'Tres 3': <pocs.scheduler.observation.Observation at 0x7f3d8efaba20>,\n",
       " 'Wasp 104': <pocs.scheduler.observation.Observation at 0x7f3d8e526588>,\n",
       " 'Wasp 11': <pocs.scheduler.observation.Observation at 0x7f3d8ff51be0>,\n",
       " 'Wasp 140': <pocs.scheduler.observation.Observation at 0x7f3d8e526748>,\n",
       " 'Wasp 2': <pocs.scheduler.observation.Observation at 0x7f3d8ff2ada0>,\n",
       " 'Wasp 33': <pocs.scheduler.observation.Observation at 0x7f3d8ff3fcc0>,\n",
       " 'Wasp 35': <pocs.scheduler.observation.Observation at 0x7f3d8efd9b70>,\n",
       " 'Wasp 36': <pocs.scheduler.observation.Observation at 0x7f3d8ff47c50>,\n",
       " 'Wasp 44': <pocs.scheduler.observation.Observation at 0x7f3d8e528cf8>,\n",
       " 'Wasp 77': <pocs.scheduler.observation.Observation at 0x7f3d8ff33d30>}"
      ]
     },
     "execution_count": 11,
     "metadata": {},
     "output_type": "execute_result"
    }
   ],
   "source": [
    "pocs.observatory.scheduler.observations"
   ]
  }
 ],
 "metadata": {
  "anaconda-cloud": {},
  "kernelspec": {
   "display_name": "Python [conda root]",
   "language": "python",
   "name": "conda-root-py"
  },
  "language_info": {
   "codemirror_mode": {
    "name": "ipython",
    "version": 3
   },
   "file_extension": ".py",
   "mimetype": "text/x-python",
   "name": "python",
   "nbconvert_exporter": "python",
   "pygments_lexer": "ipython3",
   "version": "3.5.2"
  }
 },
 "nbformat": 4,
 "nbformat_minor": 1
}
