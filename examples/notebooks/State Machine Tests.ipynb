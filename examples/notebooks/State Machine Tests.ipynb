{
 "cells": [
  {
   "cell_type": "code",
   "execution_count": 1,
   "metadata": {
    "collapsed": false
   },
   "outputs": [
    {
     "name": "stderr",
     "output_type": "stream",
     "text": [
      "/home/wtgee/anaconda3/lib/python3.4/site-packages/IPython/kernel/__init__.py:13: ShimWarning: The `IPython.kernel` package has been deprecated. You should import from ipykernel or jupyter_client instead.\n",
      "  \"You should import from ipykernel or jupyter_client instead.\", ShimWarning)\n",
      "INFO:PanoptesLogger:Adding warning logging to: PanError\n",
      "INFO:PanoptesLogger:Adding warning logging to: SerialData\n",
      "INFO:PanoptesLogger:Adding warning logging to: PanStateMachine\n",
      "INFO:PanoptesLogger:Adding warning logging to: Target\n",
      "INFO:PanoptesLogger:Adding warning logging to: Observation\n",
      "INFO:PanoptesLogger:Adding warning logging to: Scheduler\n",
      "INFO:PanoptesLogger:Adding warning logging to: Observatory\n",
      "INFO:PanoptesLogger:Adding warning logging to: Panoptes\n",
      "INFO:PanoptesLogger:Adding warning logging to: Messaging\n",
      "INFO:PanoptesLogger:Adding warning logging to: EnvironmentalMonitor\n",
      "INFO:PanoptesLogger:Adding warning logging to: Webcams\n",
      "INFO:PanoptesLogger:Adding warning logging to: PanSensors\n"
     ]
    }
   ],
   "source": [
    "# Load the PANOPTES module dir\n",
    "import sys\n",
    "sys.path.append('../..')\n",
    "\n",
    "# For development\n",
    "%load_ext autoreload\n",
    "%autoreload 2\n",
    "\n",
    "from IPython.display import display_pretty\n",
    "\n",
    "from panoptes import Panoptes"
   ]
  },
  {
   "cell_type": "code",
   "execution_count": 2,
   "metadata": {
    "collapsed": false
   },
   "outputs": [
    {
     "name": "stderr",
     "output_type": "stream",
     "text": [
      "INFO:Panoptes:********************************************************************************\n",
      "INFO:Panoptes:Initializing PANOPTES unit\n",
      "INFO:Panoptes:Using default state machine file: simple_state_table\n",
      "INFO:Panoptes:Setting up interrupt handlers for state machine\n",
      "INFO:Panoptes:Loading parked state\n",
      "INFO:Panoptes:Loading parking state\n",
      "INFO:Panoptes:Loading shutdown state\n",
      "INFO:Panoptes:Loading sleeping state\n",
      "INFO:Panoptes:Loading initializing state\n",
      "INFO:Panoptes:Loading scheduling state\n",
      "INFO:Panoptes:Loading slewing state\n",
      "INFO:Panoptes:Loading imaging state\n",
      "INFO:Panoptes:Loading analyzing state\n",
      "INFO:Panoptes:State machine created\n",
      "INFO:Panoptes:Checking config\n",
      "INFO:Panoptes:Welcome PAN 001\n",
      "INFO:Panoptes:Setting up database connection\n",
      "INFO:Panoptes:Setting up weather station\n",
      "INFO:Panoptes:Setting up observatory\n",
      "INFO:Observatory:Initializing observatory\n",
      "INFO:Observatory:\t Setting up observatory details\n",
      "INFO:Observatory:Setting up site details of observatory\n",
      "INFO:Observatory:\t Setting up mount\n",
      "INFO:Observatory:Creating mount: ioptron\n",
      "INFO:PanoptesLogger:Adding warning logging to: AbstractMount\n",
      "INFO:PanoptesLogger:Adding warning logging to: Mount\n",
      "INFO:Mount:Creating iOptron mount\n",
      "INFO:Mount:Setting up commands for mount\n",
      "INFO:Mount:Loading mount commands file: /var/panoptes/POCS/resources//conf_files/mounts/ioptron.yaml\n",
      "INFO:Mount:Mount commands updated from /var/panoptes/POCS/resources//conf_files/mounts/ioptron.yaml\n",
      "INFO:Mount:Mount commands set up\n",
      "INFO:SerialData:SerialData created\n",
      "INFO:Mount:Mount created\n",
      "INFO:Observatory:\t Setting up cameras\n",
      "INFO:Observatory:\t Setting up scheduler\n"
     ]
    }
   ],
   "source": [
    "pan = Panoptes()"
   ]
  },
  {
   "cell_type": "code",
   "execution_count": 3,
   "metadata": {
    "collapsed": false
   },
   "outputs": [
    {
     "data": {
      "text/plain": [
       "'parked'"
      ]
     },
     "execution_count": 3,
     "metadata": {},
     "output_type": "execute_result"
    }
   ],
   "source": [
    "pan.state"
   ]
  },
  {
   "cell_type": "code",
   "execution_count": 5,
   "metadata": {
    "collapsed": false
   },
   "outputs": [
    {
     "name": "stderr",
     "output_type": "stream",
     "text": [
      "INFO:Panoptes:Next state set to exit, leaving loop\n"
     ]
    }
   ],
   "source": [
    "pan.run()"
   ]
  },
  {
   "cell_type": "code",
   "execution_count": null,
   "metadata": {
    "collapsed": true
   },
   "outputs": [],
   "source": []
  }
 ],
 "metadata": {
  "kernelspec": {
   "display_name": "Python 3",
   "language": "python",
   "name": "python3"
  },
  "language_info": {
   "codemirror_mode": {
    "name": "ipython",
    "version": 3
   },
   "file_extension": ".py",
   "mimetype": "text/x-python",
   "name": "python",
   "nbconvert_exporter": "python",
   "pygments_lexer": "ipython3",
   "version": "3.4.3"
  }
 },
 "nbformat": 4,
 "nbformat_minor": 0
}
