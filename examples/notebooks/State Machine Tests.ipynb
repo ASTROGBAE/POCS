{
 "cells": [
  {
   "cell_type": "code",
   "execution_count": 1,
   "metadata": {
    "collapsed": false
   },
   "outputs": [
    {
     "name": "stderr",
     "output_type": "stream",
     "text": [
      "/home/wtgee/anaconda3/lib/python3.4/site-packages/IPython/kernel/__init__.py:13: ShimWarning: The `IPython.kernel` package has been deprecated. You should import from ipykernel or jupyter_client instead.\n",
      "  \"You should import from ipykernel or jupyter_client instead.\", ShimWarning)\n",
      "INFO:PanoptesLogger:Adding warning logging to: PanError\n",
      "INFO:PanoptesLogger:Adding warning logging to: SerialData\n",
      "INFO:PanoptesLogger:Adding warning logging to: PanStateMachine\n",
      "WARNING: OldEarthOrientationDataWarning: Your version of the IERS Bulletin A is 15.8 days old. For best precision (on the order of arcseconds), you must download an up-to-date IERS Bulletin A table. To do so, run:\n",
      "\n",
      ">>> from astroplan import download_IERS_A\n",
      ">>> download_IERS_A()\n",
      " [astroplan.utils]\n",
      "WARNING:astropy:OldEarthOrientationDataWarning: Your version of the IERS Bulletin A is 15.8 days old. For best precision (on the order of arcseconds), you must download an up-to-date IERS Bulletin A table. To do so, run:\n",
      "\n",
      ">>> from astroplan import download_IERS_A\n",
      ">>> download_IERS_A()\n",
      "\n",
      "INFO:PanoptesLogger:Adding warning logging to: Target\n",
      "INFO:PanoptesLogger:Adding warning logging to: Observation\n",
      "INFO:PanoptesLogger:Adding warning logging to: Scheduler\n",
      "INFO:PanoptesLogger:Adding warning logging to: Observatory\n",
      "INFO:PanoptesLogger:Adding warning logging to: Panoptes\n",
      "INFO:PanoptesLogger:Adding warning logging to: Messaging\n",
      "INFO:PanoptesLogger:Adding warning logging to: EnvironmentalMonitor\n",
      "INFO:PanoptesLogger:Adding warning logging to: Webcams\n",
      "INFO:PanoptesLogger:Adding warning logging to: PanSensors\n"
     ]
    }
   ],
   "source": [
    "# Load the PANOPTES module dir\n",
    "import sys\n",
    "sys.path.append('../..')\n",
    "\n",
    "# For development\n",
    "%load_ext autoreload\n",
    "%autoreload 2\n",
    "\n",
    "from IPython.display import display_pretty\n",
    "\n",
    "from panoptes import Panoptes"
   ]
  },
  {
   "cell_type": "code",
   "execution_count": 2,
   "metadata": {
    "collapsed": false
   },
   "outputs": [
    {
     "name": "stdout",
     "output_type": "stream",
     "text": [
      "Downloading http://maia.usno.navy.mil/ser7/finals2000A.all [Done]\n"
     ]
    }
   ],
   "source": [
    ">>> from astroplan import download_IERS_A\n",
    ">>> download_IERS_A()"
   ]
  },
  {
   "cell_type": "code",
   "execution_count": 3,
   "metadata": {
    "collapsed": false
   },
   "outputs": [
    {
     "name": "stderr",
     "output_type": "stream",
     "text": [
      "INFO:Panoptes:********************************************************************************\n",
      "INFO:Panoptes:Initializing PANOPTES unit\n",
      "INFO:Panoptes:Using default state machine file: simple_state_table\n",
      "INFO:Panoptes:Setting up interrupt handlers for state machine\n",
      "INFO:Panoptes:Loading transition: {'dest': 'initializing', 'trigger': 'initialize', 'source': 'parked'}\n",
      "INFO:Panoptes:Returning transition: {'conditions': ['weather_is_safe'], 'dest': 'initializing', 'trigger': 'initialize', 'source': 'parked'}\n",
      "INFO:Panoptes:Loading transition: {'dest': 'initializing', 'trigger': 'initialize', 'source': 'sleeping'}\n",
      "INFO:Panoptes:Returning transition: {'conditions': ['weather_is_safe'], 'dest': 'initializing', 'trigger': 'initialize', 'source': 'sleeping'}\n",
      "INFO:Panoptes:Loading transition: {'dest': 'shutdown', 'trigger': 'shutdown', 'source': 'parked'}\n",
      "INFO:Panoptes:Returning transition: {'conditions': ['weather_is_safe'], 'dest': 'shutdown', 'trigger': 'shutdown', 'source': 'parked'}\n",
      "INFO:Panoptes:Loading transition: {'dest': 'sleeping', 'trigger': 'sleep', 'source': 'shutdown'}\n",
      "INFO:Panoptes:Returning transition: {'conditions': ['weather_is_safe'], 'dest': 'sleeping', 'trigger': 'sleep', 'source': 'shutdown'}\n",
      "INFO:Panoptes:Loading transition: {'dest': 'scheduling', 'trigger': 'schedule', 'source': 'initializing'}\n",
      "INFO:Panoptes:Returning transition: {'conditions': ['weather_is_safe'], 'dest': 'scheduling', 'trigger': 'schedule', 'source': 'initializing'}\n",
      "INFO:Panoptes:Loading transition: {'conditions': 'is_dark', 'dest': 'slewing', 'trigger': 'acquire_target', 'source': 'scheduling'}\n",
      "INFO:Panoptes:Returning transition: {'conditions': ['is_dark', 'weather_is_safe'], 'dest': 'slewing', 'trigger': 'acquire_target', 'source': 'scheduling'}\n",
      "INFO:Panoptes:Loading transition: {'dest': 'imaging', 'trigger': 'image', 'source': 'slewing'}\n",
      "INFO:Panoptes:Returning transition: {'conditions': ['weather_is_safe'], 'dest': 'imaging', 'trigger': 'image', 'source': 'slewing'}\n",
      "INFO:Panoptes:Loading transition: {'dest': 'analyzing', 'trigger': 'analyze', 'source': 'imaging'}\n",
      "INFO:Panoptes:Returning transition: {'conditions': ['weather_is_safe'], 'dest': 'analyzing', 'trigger': 'analyze', 'source': 'imaging'}\n",
      "INFO:Panoptes:Loading transition: {'dest': 'slewing', 'trigger': 'acquire_target', 'source': 'analyzing'}\n",
      "INFO:Panoptes:Returning transition: {'conditions': ['weather_is_safe'], 'dest': 'slewing', 'trigger': 'acquire_target', 'source': 'analyzing'}\n",
      "INFO:Panoptes:Loading parked state\n",
      "INFO:PanoptesLogger:Adding warning logging to: PanState\n",
      "INFO:Panoptes:Loading parking state\n",
      "INFO:Panoptes:Loading shutdown state\n",
      "INFO:Panoptes:Loading sleeping state\n",
      "INFO:Panoptes:Loading initializing state\n",
      "INFO:Panoptes:Loading scheduling state\n",
      "INFO:Panoptes:Loading slewing state\n",
      "INFO:Panoptes:Loading imaging state\n",
      "INFO:Panoptes:Loading analyzing state\n",
      "INFO:Panoptes:State machine created\n",
      "INFO:Panoptes:Checking config\n",
      "INFO:Panoptes:Welcome PAN 001\n",
      "INFO:Panoptes:Setting up database connection\n",
      "INFO:Panoptes:Setting up weather station <class 'panoptes.weather.weather_station.WeatherStationSimulator'>\n",
      "INFO:Panoptes:Setting up observatory\n",
      "INFO:Observatory:Initializing observatory\n",
      "INFO:Observatory:\t Setting up observatory details\n",
      "INFO:Observatory:Setting up site details of observatory\n",
      "INFO:Observatory:\t Setting up mount\n",
      "INFO:Observatory:Creating mount: ioptron\n",
      "INFO:PanoptesLogger:Adding warning logging to: AbstractMount\n",
      "INFO:PanoptesLogger:Adding warning logging to: Mount\n",
      "INFO:Mount:Creating iOptron mount\n",
      "INFO:Mount:Setting up commands for mount\n",
      "INFO:Mount:Loading mount commands file: /var/panoptes/POCS/resources//conf_files/mounts/ioptron.yaml\n",
      "INFO:Mount:Mount commands updated from /var/panoptes/POCS/resources//conf_files/mounts/ioptron.yaml\n",
      "INFO:Mount:Mount commands set up\n",
      "INFO:SerialData:SerialData created\n",
      "INFO:Mount:Mount created\n",
      "INFO:Observatory:\t Setting up cameras\n",
      "INFO:Observatory:\t Setting up scheduler\n",
      "INFO:Observatory:\t Scheduler file: /var/panoptes/POCS/resources/conf_files/targets/default_targets.yaml\n"
     ]
    }
   ],
   "source": [
    "pan = Panoptes()"
   ]
  },
  {
   "cell_type": "code",
   "execution_count": 4,
   "metadata": {
    "collapsed": false
   },
   "outputs": [
    {
     "data": {
      "text/plain": [
       "'parked'"
      ]
     },
     "execution_count": 4,
     "metadata": {},
     "output_type": "execute_result"
    }
   ],
   "source": [
    "pan.state"
   ]
  },
  {
   "cell_type": "code",
   "execution_count": 5,
   "metadata": {
    "collapsed": true
   },
   "outputs": [],
   "source": [
    "pan.weather_station.set_safe()"
   ]
  },
  {
   "cell_type": "code",
   "execution_count": 6,
   "metadata": {
    "collapsed": false
   },
   "outputs": [
    {
     "data": {
      "text/plain": [
       "'safe'"
      ]
     },
     "execution_count": 6,
     "metadata": {},
     "output_type": "execute_result"
    }
   ],
   "source": [
    "pan.weather_station.check_conditions()"
   ]
  },
  {
   "cell_type": "code",
   "execution_count": 7,
   "metadata": {
    "collapsed": false
   },
   "outputs": [],
   "source": [
    "pan.next_state = 'initializing'"
   ]
  },
  {
   "cell_type": "code",
   "execution_count": 8,
   "metadata": {
    "collapsed": false,
    "scrolled": false
   },
   "outputs": [
    {
     "name": "stderr",
     "output_type": "stream",
     "text": [
      "INFO:Panoptes:Inside initializing state\n",
      "INFO:Mount:Initializing panoptes.mount.ioptron mount\n",
      "INFO:Mount:Connecting to mount\n",
      "INFO:Mount:Making serial connection for mount at /dev/ttyUSB0\n",
      "INFO:SerialData:Serial connect called\n",
      "INFO:SerialData:Serial connection established to mount\n",
      "INFO:Mount:Mount connected via serial\n",
      "INFO:Mount:Mount connected: True\n",
      "INFO:Mount:Setting up mount for location\n",
      "INFO:Mount:Mount initialized: True\n",
      "INFO:Mount:Mount unparked\n",
      "INFO:Panoptes:Next state is: scheduling\n",
      "INFO:Panoptes:Inside scheduling state\n",
      "INFO:PanState:Getting target\n",
      "INFO:Scheduler:Reading targets from file: /var/panoptes/POCS/resources/conf_files/targets/default_targets.yaml\n",
      "WARNING: AstropyDeprecationWarning: Passing a frame as a positional argument is now deprecated, use the frame= keyword argument instead. [astropy.coordinates.sky_coordinate]\n",
      "WARNING:astropy:AstropyDeprecationWarning: Passing a frame as a positional argument is now deprecated, use the frame= keyword argument instead.\n",
      "INFO:Scheduler:Evaluating candidate targets\n",
      "INFO:Scheduler:\tTerm Function: <function observable at 0x7ff5f52ee9d8>\n",
      "INFO:Scheduler:\tMerit Value: 1\n",
      "INFO:Scheduler:\tTerm Function: <function observable at 0x7ff5f52ee9d8>\n",
      "INFO:Scheduler:\tMerit Value: 1\n",
      "INFO:Scheduler:\tTerm Function: <function observable at 0x7ff5f52ee9d8>\n",
      "INFO:Scheduler:\tMerit Value: 1\n",
      "INFO:Scheduler:\tTerm Function: <function observable at 0x7ff5f52ee9d8>\n",
      "INFO:Scheduler:\tMerit Value: 1\n",
      "INFO:Scheduler:\tTerm Function: <function observable at 0x7ff5f52ee9d8>\n",
      "INFO:Scheduler:\tMerit Value: 1\n",
      "INFO:Scheduler:\tTerm Function: <function observable at 0x7ff5f52ee9d8>\n",
      "INFO:Scheduler:\tMerit Value: 1\n",
      "INFO:Scheduler:\tTerm Function: <function observable at 0x7ff5f52ee9d8>\n",
      "INFO:Scheduler:\tMerit Value: 1\n",
      "INFO:Scheduler:Chosen target is M 42 with priority 120.0\n",
      "INFO:PanState:Target: M 42\n",
      "INFO:PanState:Mount set to target: M 42\n",
      "INFO:Panoptes:Next state is: slewing\n",
      "INFO:Panoptes:Inside slewing state\n",
      "INFO:PanState:Slewing to target\n",
      "INFO:Mount:Mount response: 1\n",
      "INFO:Mount:Slewing to target\n",
      "INFO:Panoptes:Next state is: imaging\n",
      "INFO:Panoptes:Inside imaging state\n",
      "INFO:PanState:I'm finding exoplanets!\n",
      "INFO:PanState:Imaging for 120 seconds\n",
      "INFO:PanState:Imaging for 105 seconds\n",
      "INFO:PanState:Imaging for 90 seconds\n",
      "INFO:PanState:Imaging for 75 seconds\n",
      "INFO:PanState:Imaging for 60 seconds\n",
      "INFO:PanState:Imaging for 45 seconds\n",
      "INFO:PanState:Imaging for 30 seconds\n",
      "INFO:PanState:Imaging for 15 seconds\n",
      "INFO:Panoptes:Next state is: analyzing\n",
      "INFO:Panoptes:Inside analyzing state\n",
      "INFO:PanState:Analyzing the images.\n",
      "INFO:Panoptes:Next state is: parking\n",
      "INFO:Panoptes:Inside parking state\n",
      "INFO:Mount:Initializing panoptes.mount.ioptron mount\n",
      "INFO:Mount:Setting up mount for location\n",
      "INFO:Mount:Mount initialized: True\n",
      "INFO:Mount:Park Coordinates RA-Dec: <SkyCoord (ICRS): (ra, dec) in deg\n",
      "    (282.93623654, -10.0)>\n",
      "INFO:Panoptes:Next state is: parked\n",
      "INFO:Panoptes:Inside parked state\n",
      "WARNING:Panoptes:Received exit signal\n",
      "INFO:Panoptes:Next state is: exit\n",
      "INFO:Panoptes:Next state set to exit, leaving loop\n"
     ]
    }
   ],
   "source": [
    "pan.run()"
   ]
  }
 ],
 "metadata": {
  "kernelspec": {
   "display_name": "Python 3",
   "language": "python",
   "name": "python3"
  },
  "language_info": {
   "codemirror_mode": {
    "name": "ipython",
    "version": 3
   },
   "file_extension": ".py",
   "mimetype": "text/x-python",
   "name": "python",
   "nbconvert_exporter": "python",
   "pygments_lexer": "ipython3",
   "version": "3.4.3"
  }
 },
 "nbformat": 4,
 "nbformat_minor": 0
}
