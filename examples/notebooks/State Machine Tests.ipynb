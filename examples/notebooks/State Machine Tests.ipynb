{
 "cells": [
  {
   "cell_type": "code",
   "execution_count": 17,
   "metadata": {
    "collapsed": false
   },
   "outputs": [
    {
     "name": "stderr",
     "output_type": "stream",
     "text": [
      "INFO:PanoptesLogger:Adding warning logging to: PanStateMachine\n"
     ]
    },
    {
     "name": "stdout",
     "output_type": "stream",
     "text": [
      "The autoreload extension is already loaded. To reload it, use:\n",
      "  %reload_ext autoreload\n"
     ]
    }
   ],
   "source": [
    "# Load the PANOPTES module dir\n",
    "import sys\n",
    "sys.path.append('../..')\n",
    "\n",
    "# For development\n",
    "%load_ext autoreload\n",
    "%autoreload 2\n",
    "\n",
    "from IPython.display import display_pretty\n",
    "\n",
    "from panoptes import Panoptes"
   ]
  },
  {
   "cell_type": "code",
   "execution_count": 18,
   "metadata": {
    "collapsed": false
   },
   "outputs": [
    {
     "name": "stderr",
     "output_type": "stream",
     "text": [
      "INFO:Panoptes:********************************************************************************\n",
      "INFO:Panoptes:Initializing PANOPTES unit\n",
      "INFO:Panoptes:Using default state machine file: simple_state_table\n",
      "INFO:Panoptes:Setting up interrupt handlers for state machine\n",
      "INFO:Panoptes:Loading transition: {'dest': 'initializing', 'trigger': 'initialize', 'source': 'parked'}\n",
      "INFO:Panoptes:Returning transition: {'dest': 'initializing', 'trigger': 'initialize', 'conditions': ['weather_is_safe'], 'source': 'parked'}\n",
      "INFO:Panoptes:Loading transition: {'dest': 'initializing', 'trigger': 'initialize', 'source': 'sleeping'}\n",
      "INFO:Panoptes:Returning transition: {'dest': 'initializing', 'trigger': 'initialize', 'conditions': ['weather_is_safe'], 'source': 'sleeping'}\n",
      "INFO:Panoptes:Loading transition: {'dest': 'shutdown', 'trigger': 'shutdown', 'source': 'parked'}\n",
      "INFO:Panoptes:Returning transition: {'dest': 'shutdown', 'trigger': 'shutdown', 'conditions': ['weather_is_safe'], 'source': 'parked'}\n",
      "INFO:Panoptes:Loading transition: {'dest': 'sleeping', 'trigger': 'sleep', 'source': 'shutdown'}\n",
      "INFO:Panoptes:Returning transition: {'dest': 'sleeping', 'trigger': 'sleep', 'conditions': ['weather_is_safe'], 'source': 'shutdown'}\n",
      "INFO:Panoptes:Loading transition: {'dest': 'scheduling', 'trigger': 'schedule', 'source': 'initializing'}\n",
      "INFO:Panoptes:Returning transition: {'dest': 'scheduling', 'trigger': 'schedule', 'conditions': ['weather_is_safe'], 'source': 'initializing'}\n",
      "INFO:Panoptes:Loading transition: {'dest': 'slewing', 'trigger': 'acquire_target', 'conditions': 'is_dark', 'source': 'scheduling'}\n",
      "INFO:Panoptes:Returning transition: {'dest': 'slewing', 'trigger': 'acquire_target', 'conditions': ['is_dark', 'weather_is_safe'], 'source': 'scheduling'}\n",
      "INFO:Panoptes:Loading transition: {'dest': 'imaging', 'trigger': 'image', 'source': 'slewing'}\n",
      "INFO:Panoptes:Returning transition: {'dest': 'imaging', 'trigger': 'image', 'conditions': ['weather_is_safe'], 'source': 'slewing'}\n",
      "INFO:Panoptes:Loading transition: {'dest': 'analyzing', 'trigger': 'analyze', 'source': 'imaging'}\n",
      "INFO:Panoptes:Returning transition: {'dest': 'analyzing', 'trigger': 'analyze', 'conditions': ['weather_is_safe'], 'source': 'imaging'}\n",
      "INFO:Panoptes:Loading transition: {'dest': 'slewing', 'trigger': 'acquire_target', 'source': 'analyzing'}\n",
      "INFO:Panoptes:Returning transition: {'dest': 'slewing', 'trigger': 'acquire_target', 'conditions': ['weather_is_safe'], 'source': 'analyzing'}\n",
      "INFO:Panoptes:Loading parked state\n",
      "INFO:Panoptes:Loading parking state\n",
      "INFO:Panoptes:Loading shutdown state\n",
      "INFO:Panoptes:Loading sleeping state\n",
      "INFO:Panoptes:Loading initializing state\n",
      "INFO:Panoptes:Loading scheduling state\n",
      "INFO:Panoptes:Loading slewing state\n",
      "INFO:Panoptes:Loading imaging state\n",
      "INFO:Panoptes:Loading analyzing state\n",
      "INFO:Panoptes:State machine created\n",
      "INFO:Panoptes:Checking config\n",
      "INFO:Panoptes:Welcome PAN 001\n",
      "INFO:Panoptes:Setting up database connection\n",
      "INFO:Panoptes:Setting up weather station <class 'panoptes.weather.weather_station.WeatherStationSimulator'>\n",
      "INFO:Panoptes:Setting up observatory\n",
      "INFO:Observatory:Initializing observatory\n",
      "INFO:Observatory:\t Setting up observatory details\n",
      "INFO:Observatory:Setting up site details of observatory\n",
      "INFO:Observatory:\t Setting up mount\n",
      "INFO:Observatory:Creating mount: ioptron\n",
      "INFO:Mount:Creating iOptron mount\n",
      "INFO:Mount:Setting up commands for mount\n",
      "INFO:Mount:Mount commands set up\n",
      "INFO:SerialData:SerialData created\n",
      "INFO:Mount:Mount created\n",
      "INFO:Observatory:\t Setting up cameras\n",
      "INFO:Observatory:\t Setting up scheduler\n",
      "INFO:Observatory:\t Scheduler file: /var/panoptes/POCS/resources/conf_files/targets/default_targets.yaml\n"
     ]
    }
   ],
   "source": [
    "pan = Panoptes()"
   ]
  },
  {
   "cell_type": "code",
   "execution_count": 19,
   "metadata": {
    "collapsed": false
   },
   "outputs": [
    {
     "data": {
      "text/plain": [
       "'parked'"
      ]
     },
     "execution_count": 19,
     "metadata": {},
     "output_type": "execute_result"
    }
   ],
   "source": [
    "pan.state"
   ]
  },
  {
   "cell_type": "code",
   "execution_count": 20,
   "metadata": {
    "collapsed": true
   },
   "outputs": [],
   "source": [
    "pan.weather_station.set_safe()"
   ]
  },
  {
   "cell_type": "code",
   "execution_count": 21,
   "metadata": {
    "collapsed": false
   },
   "outputs": [
    {
     "data": {
      "text/plain": [
       "'safe'"
      ]
     },
     "execution_count": 21,
     "metadata": {},
     "output_type": "execute_result"
    }
   ],
   "source": [
    "pan.weather_station.check_conditions()"
   ]
  },
  {
   "cell_type": "code",
   "execution_count": 23,
   "metadata": {
    "collapsed": false
   },
   "outputs": [],
   "source": [
    "pan.next_state = 'initializing'"
   ]
  },
  {
   "cell_type": "code",
   "execution_count": 24,
   "metadata": {
    "collapsed": false,
    "scrolled": false
   },
   "outputs": [
    {
     "name": "stderr",
     "output_type": "stream",
     "text": [
      "INFO:Panoptes:Inside initializing state\n",
      "INFO:Mount:Initializing panoptes.mount.ioptron mount\n",
      "INFO:Mount:Connecting to mount\n",
      "INFO:Mount:Making serial connection for mount at /dev/ttyUSB0\n",
      "INFO:SerialData:Serial connect called\n",
      "WARNING:Mount:Could not create serial connection to mount.\n",
      "WARNING:Mount:NO MOUNT CONTROL AVAILABLE\n",
      "WARNING:PanError:('../../panoptes/mount/mount.py', 149, 'connect', None)\n",
      "ERROR:PanError:BadSerialConnection: Cannot create serial connect for mount at port /dev/ttyUSB0\n",
      "WARNING:PanState:Problem initializing mount\n",
      "INFO:Panoptes:Next state is: parking\n",
      "INFO:Panoptes:Inside parking state\n",
      "WARNING:Mount:Mount has not been initialized\n",
      "WARNING:Panoptes:Make sure the mount is initialized\n",
      "WARNING:Panoptes:Received exit signal\n",
      "INFO:Panoptes:Next state is: exit\n"
     ]
    },
    {
     "ename": "DuplicateKeyError",
     "evalue": "E11000 duplicate key error index: panoptes.state_information.$_id_  dup key: { : ObjectId('55f33d7155899f30216eec69') }",
     "output_type": "error",
     "traceback": [
      "\u001b[1;31m---------------------------------------------------------------------------\u001b[0m",
      "\u001b[1;31mDuplicateKeyError\u001b[0m                         Traceback (most recent call last)",
      "\u001b[1;32m<ipython-input-24-1e41b1352ec3>\u001b[0m in \u001b[0;36m<module>\u001b[1;34m()\u001b[0m\n\u001b[1;32m----> 1\u001b[1;33m \u001b[0mpan\u001b[0m\u001b[1;33m.\u001b[0m\u001b[0mrun\u001b[0m\u001b[1;33m(\u001b[0m\u001b[1;33m)\u001b[0m\u001b[1;33m\u001b[0m\u001b[0m\n\u001b[0m",
      "\u001b[1;32m/var/panoptes/POCS/panoptes/state_machine/transitions_fsm.py\u001b[0m in \u001b[0;36mrun\u001b[1;34m(self)\u001b[0m\n\u001b[0;32m     96\u001b[0m                     \u001b[1;31m# Call it, otherwise exit loop\u001b[0m\u001b[1;33m\u001b[0m\u001b[1;33m\u001b[0m\u001b[0m\n\u001b[0;32m     97\u001b[0m                     \u001b[1;32mtry\u001b[0m\u001b[1;33m:\u001b[0m\u001b[1;33m\u001b[0m\u001b[0m\n\u001b[1;32m---> 98\u001b[1;33m                         \u001b[0mgetattr\u001b[0m\u001b[1;33m(\u001b[0m\u001b[0mself\u001b[0m\u001b[1;33m,\u001b[0m \u001b[0mto_next_state\u001b[0m\u001b[1;33m)\u001b[0m\u001b[1;33m(\u001b[0m\u001b[1;33m)\u001b[0m\u001b[1;33m\u001b[0m\u001b[0m\n\u001b[0m\u001b[0;32m     99\u001b[0m                     \u001b[1;32mexcept\u001b[0m \u001b[0mTypeError\u001b[0m\u001b[1;33m:\u001b[0m\u001b[1;33m\u001b[0m\u001b[0m\n\u001b[0;32m    100\u001b[0m                         \u001b[0mself\u001b[0m\u001b[1;33m.\u001b[0m\u001b[0mlogger\u001b[0m\u001b[1;33m.\u001b[0m\u001b[0mwarning\u001b[0m\u001b[1;33m(\u001b[0m\u001b[1;34m\"Can't go to next state, exiting\"\u001b[0m\u001b[1;33m)\u001b[0m\u001b[1;33m\u001b[0m\u001b[0m\n",
      "\u001b[1;32m/home/wtgee/anaconda3/lib/python3.4/site-packages/transitions/core.py\u001b[0m in \u001b[0;36mtrigger\u001b[1;34m(self, *args, **kwargs)\u001b[0m\n\u001b[0;32m    221\u001b[0m                           self.machine, self.machine.model, *args, **kwargs)\n\u001b[0;32m    222\u001b[0m         \u001b[1;32mfor\u001b[0m \u001b[0mt\u001b[0m \u001b[1;32min\u001b[0m \u001b[0mself\u001b[0m\u001b[1;33m.\u001b[0m\u001b[0mtransitions\u001b[0m\u001b[1;33m[\u001b[0m\u001b[0mstate_name\u001b[0m\u001b[1;33m]\u001b[0m\u001b[1;33m:\u001b[0m\u001b[1;33m\u001b[0m\u001b[0m\n\u001b[1;32m--> 223\u001b[1;33m             \u001b[1;32mif\u001b[0m \u001b[0mt\u001b[0m\u001b[1;33m.\u001b[0m\u001b[0mexecute\u001b[0m\u001b[1;33m(\u001b[0m\u001b[0mevent\u001b[0m\u001b[1;33m)\u001b[0m\u001b[1;33m:\u001b[0m\u001b[1;33m\u001b[0m\u001b[0m\n\u001b[0m\u001b[0;32m    224\u001b[0m                 \u001b[1;32mreturn\u001b[0m \u001b[1;32mTrue\u001b[0m\u001b[1;33m\u001b[0m\u001b[0m\n\u001b[0;32m    225\u001b[0m         \u001b[1;32mreturn\u001b[0m \u001b[1;32mFalse\u001b[0m\u001b[1;33m\u001b[0m\u001b[0m\n",
      "\u001b[1;32m/home/wtgee/anaconda3/lib/python3.4/site-packages/transitions/core.py\u001b[0m in \u001b[0;36mexecute\u001b[1;34m(self, event_data)\u001b[0m\n\u001b[0;32m    143\u001b[0m         \u001b[0mmachine\u001b[0m\u001b[1;33m.\u001b[0m\u001b[0mget_state\u001b[0m\u001b[1;33m(\u001b[0m\u001b[0mself\u001b[0m\u001b[1;33m.\u001b[0m\u001b[0mdest\u001b[0m\u001b[1;33m)\u001b[0m\u001b[1;33m.\u001b[0m\u001b[0menter\u001b[0m\u001b[1;33m(\u001b[0m\u001b[0mevent_data\u001b[0m\u001b[1;33m)\u001b[0m\u001b[1;33m\u001b[0m\u001b[0m\n\u001b[0;32m    144\u001b[0m         \u001b[1;32mfor\u001b[0m \u001b[0mfunc\u001b[0m \u001b[1;32min\u001b[0m \u001b[0mself\u001b[0m\u001b[1;33m.\u001b[0m\u001b[0mafter\u001b[0m\u001b[1;33m:\u001b[0m\u001b[1;33m\u001b[0m\u001b[0m\n\u001b[1;32m--> 145\u001b[1;33m             \u001b[0mmachine\u001b[0m\u001b[1;33m.\u001b[0m\u001b[0mcallback\u001b[0m\u001b[1;33m(\u001b[0m\u001b[0mgetattr\u001b[0m\u001b[1;33m(\u001b[0m\u001b[0mevent_data\u001b[0m\u001b[1;33m.\u001b[0m\u001b[0mmodel\u001b[0m\u001b[1;33m,\u001b[0m \u001b[0mfunc\u001b[0m\u001b[1;33m)\u001b[0m\u001b[1;33m,\u001b[0m \u001b[0mevent_data\u001b[0m\u001b[1;33m)\u001b[0m\u001b[1;33m\u001b[0m\u001b[0m\n\u001b[0m\u001b[0;32m    146\u001b[0m             \u001b[0mlogger\u001b[0m\u001b[1;33m.\u001b[0m\u001b[0minfo\u001b[0m\u001b[1;33m(\u001b[0m\u001b[1;34m\"Executed callback '%s' after transition.\"\u001b[0m\u001b[1;33m,\u001b[0m \u001b[0mfunc\u001b[0m\u001b[1;33m)\u001b[0m\u001b[1;33m\u001b[0m\u001b[0m\n\u001b[0;32m    147\u001b[0m         \u001b[1;32mreturn\u001b[0m \u001b[1;32mTrue\u001b[0m\u001b[1;33m\u001b[0m\u001b[0m\n",
      "\u001b[1;32m/home/wtgee/anaconda3/lib/python3.4/site-packages/transitions/core.py\u001b[0m in \u001b[0;36mcallback\u001b[1;34m(self, func, event_data)\u001b[0m\n\u001b[0;32m    452\u001b[0m         \"\"\"\n\u001b[0;32m    453\u001b[0m         \u001b[1;32mif\u001b[0m \u001b[0mself\u001b[0m\u001b[1;33m.\u001b[0m\u001b[0msend_event\u001b[0m\u001b[1;33m:\u001b[0m\u001b[1;33m\u001b[0m\u001b[0m\n\u001b[1;32m--> 454\u001b[1;33m             \u001b[0mfunc\u001b[0m\u001b[1;33m(\u001b[0m\u001b[0mevent_data\u001b[0m\u001b[1;33m)\u001b[0m\u001b[1;33m\u001b[0m\u001b[0m\n\u001b[0m\u001b[0;32m    455\u001b[0m         \u001b[1;32melse\u001b[0m\u001b[1;33m:\u001b[0m\u001b[1;33m\u001b[0m\u001b[0m\n\u001b[0;32m    456\u001b[0m             \u001b[0mfunc\u001b[0m\u001b[1;33m(\u001b[0m\u001b[1;33m*\u001b[0m\u001b[0mevent_data\u001b[0m\u001b[1;33m.\u001b[0m\u001b[0margs\u001b[0m\u001b[1;33m,\u001b[0m \u001b[1;33m**\u001b[0m\u001b[0mevent_data\u001b[0m\u001b[1;33m.\u001b[0m\u001b[0mkwargs\u001b[0m\u001b[1;33m)\u001b[0m\u001b[1;33m\u001b[0m\u001b[0m\n",
      "\u001b[1;32m/var/panoptes/POCS/panoptes/state_machine/transitions_fsm.py\u001b[0m in \u001b[0;36mexit_state\u001b[1;34m(self, event_data)\u001b[0m\n\u001b[0;32m    125\u001b[0m \u001b[1;33m\u001b[0m\u001b[0m\n\u001b[0;32m    126\u001b[0m         \u001b[0mself\u001b[0m\u001b[1;33m.\u001b[0m\u001b[0m_state_stats\u001b[0m\u001b[1;33m[\u001b[0m\u001b[1;34m'stop_time'\u001b[0m\u001b[1;33m]\u001b[0m \u001b[1;33m=\u001b[0m \u001b[0mdatetime\u001b[0m\u001b[1;33m.\u001b[0m\u001b[0mdatetime\u001b[0m\u001b[1;33m.\u001b[0m\u001b[0mutcnow\u001b[0m\u001b[1;33m(\u001b[0m\u001b[1;33m)\u001b[0m\u001b[1;33m\u001b[0m\u001b[0m\n\u001b[1;32m--> 127\u001b[1;33m         \u001b[0mself\u001b[0m\u001b[1;33m.\u001b[0m\u001b[0mstate_information\u001b[0m\u001b[1;33m.\u001b[0m\u001b[0minsert\u001b[0m\u001b[1;33m(\u001b[0m\u001b[0mself\u001b[0m\u001b[1;33m.\u001b[0m\u001b[0m_state_stats\u001b[0m\u001b[1;33m)\u001b[0m\u001b[1;33m\u001b[0m\u001b[0m\n\u001b[0m\u001b[0;32m    128\u001b[0m \u001b[1;33m\u001b[0m\u001b[0m\n\u001b[0;32m    129\u001b[0m     \u001b[1;32mdef\u001b[0m \u001b[0mexecute\u001b[0m\u001b[1;33m(\u001b[0m\u001b[0mself\u001b[0m\u001b[1;33m,\u001b[0m \u001b[0mevent_data\u001b[0m\u001b[1;33m)\u001b[0m\u001b[1;33m:\u001b[0m\u001b[1;33m\u001b[0m\u001b[0m\n",
      "\u001b[1;32m/home/wtgee/anaconda3/lib/python3.4/site-packages/pymongo/collection.py\u001b[0m in \u001b[0;36minsert\u001b[1;34m(self, doc_or_docs, manipulate, check_keys, continue_on_error, **kwargs)\u001b[0m\n\u001b[0;32m   1924\u001b[0m         \u001b[1;32mwith\u001b[0m \u001b[0mself\u001b[0m\u001b[1;33m.\u001b[0m\u001b[0m_socket_for_writes\u001b[0m\u001b[1;33m(\u001b[0m\u001b[1;33m)\u001b[0m \u001b[1;32mas\u001b[0m \u001b[0msock_info\u001b[0m\u001b[1;33m:\u001b[0m\u001b[1;33m\u001b[0m\u001b[0m\n\u001b[0;32m   1925\u001b[0m             return self._insert(sock_info, doc_or_docs, not continue_on_error,\n\u001b[1;32m-> 1926\u001b[1;33m                                 check_keys, manipulate, write_concern)\n\u001b[0m\u001b[0;32m   1927\u001b[0m \u001b[1;33m\u001b[0m\u001b[0m\n\u001b[0;32m   1928\u001b[0m     def update(self, spec, document, upsert=False, manipulate=False,\n",
      "\u001b[1;32m/home/wtgee/anaconda3/lib/python3.4/site-packages/pymongo/collection.py\u001b[0m in \u001b[0;36m_insert\u001b[1;34m(self, sock_info, docs, ordered, check_keys, manipulate, write_concern)\u001b[0m\n\u001b[0;32m    434\u001b[0m             message._do_batched_insert(self.__full_name, gen(), check_keys,\n\u001b[0;32m    435\u001b[0m                                        \u001b[0msafe\u001b[0m\u001b[1;33m,\u001b[0m \u001b[0mconcern\u001b[0m\u001b[1;33m,\u001b[0m \u001b[1;32mnot\u001b[0m \u001b[0mordered\u001b[0m\u001b[1;33m,\u001b[0m\u001b[1;33m\u001b[0m\u001b[0m\n\u001b[1;32m--> 436\u001b[1;33m                                        self.codec_options, sock_info)\n\u001b[0m\u001b[0;32m    437\u001b[0m         \u001b[1;32mif\u001b[0m \u001b[0mreturn_one\u001b[0m\u001b[1;33m:\u001b[0m\u001b[1;33m\u001b[0m\u001b[0m\n\u001b[0;32m    438\u001b[0m             \u001b[1;32mreturn\u001b[0m \u001b[0mids\u001b[0m\u001b[1;33m[\u001b[0m\u001b[1;36m0\u001b[0m\u001b[1;33m]\u001b[0m\u001b[1;33m\u001b[0m\u001b[0m\n",
      "\u001b[1;32m/home/wtgee/anaconda3/lib/python3.4/site-packages/pymongo/pool.py\u001b[0m in \u001b[0;36mlegacy_write\u001b[1;34m(self, request_id, msg, max_doc_size, with_last_error)\u001b[0m\n\u001b[0;32m    235\u001b[0m         \u001b[1;32mif\u001b[0m \u001b[0mwith_last_error\u001b[0m\u001b[1;33m:\u001b[0m\u001b[1;33m\u001b[0m\u001b[0m\n\u001b[0;32m    236\u001b[0m             \u001b[0mresponse\u001b[0m \u001b[1;33m=\u001b[0m \u001b[0mself\u001b[0m\u001b[1;33m.\u001b[0m\u001b[0mreceive_message\u001b[0m\u001b[1;33m(\u001b[0m\u001b[1;36m1\u001b[0m\u001b[1;33m,\u001b[0m \u001b[0mrequest_id\u001b[0m\u001b[1;33m)\u001b[0m\u001b[1;33m\u001b[0m\u001b[0m\n\u001b[1;32m--> 237\u001b[1;33m             \u001b[1;32mreturn\u001b[0m \u001b[0mhelpers\u001b[0m\u001b[1;33m.\u001b[0m\u001b[0m_check_gle_response\u001b[0m\u001b[1;33m(\u001b[0m\u001b[0mresponse\u001b[0m\u001b[1;33m)\u001b[0m\u001b[1;33m\u001b[0m\u001b[0m\n\u001b[0m\u001b[0;32m    238\u001b[0m \u001b[1;33m\u001b[0m\u001b[0m\n\u001b[0;32m    239\u001b[0m     \u001b[1;32mdef\u001b[0m \u001b[0mwrite_command\u001b[0m\u001b[1;33m(\u001b[0m\u001b[0mself\u001b[0m\u001b[1;33m,\u001b[0m \u001b[0mrequest_id\u001b[0m\u001b[1;33m,\u001b[0m \u001b[0mmsg\u001b[0m\u001b[1;33m)\u001b[0m\u001b[1;33m:\u001b[0m\u001b[1;33m\u001b[0m\u001b[0m\n",
      "\u001b[1;32m/home/wtgee/anaconda3/lib/python3.4/site-packages/pymongo/helpers.py\u001b[0m in \u001b[0;36m_check_gle_response\u001b[1;34m(response)\u001b[0m\n\u001b[0;32m    225\u001b[0m     \u001b[0mcode\u001b[0m \u001b[1;33m=\u001b[0m \u001b[0mdetails\u001b[0m\u001b[1;33m.\u001b[0m\u001b[0mget\u001b[0m\u001b[1;33m(\u001b[0m\u001b[1;34m\"code\"\u001b[0m\u001b[1;33m)\u001b[0m\u001b[1;33m\u001b[0m\u001b[0m\n\u001b[0;32m    226\u001b[0m     \u001b[1;32mif\u001b[0m \u001b[0mcode\u001b[0m \u001b[1;32min\u001b[0m \u001b[1;33m(\u001b[0m\u001b[1;36m11000\u001b[0m\u001b[1;33m,\u001b[0m \u001b[1;36m11001\u001b[0m\u001b[1;33m,\u001b[0m \u001b[1;36m12582\u001b[0m\u001b[1;33m)\u001b[0m\u001b[1;33m:\u001b[0m\u001b[1;33m\u001b[0m\u001b[0m\n\u001b[1;32m--> 227\u001b[1;33m         \u001b[1;32mraise\u001b[0m \u001b[0mDuplicateKeyError\u001b[0m\u001b[1;33m(\u001b[0m\u001b[0mdetails\u001b[0m\u001b[1;33m[\u001b[0m\u001b[1;34m\"err\"\u001b[0m\u001b[1;33m]\u001b[0m\u001b[1;33m,\u001b[0m \u001b[0mcode\u001b[0m\u001b[1;33m,\u001b[0m \u001b[0mresult\u001b[0m\u001b[1;33m)\u001b[0m\u001b[1;33m\u001b[0m\u001b[0m\n\u001b[0m\u001b[0;32m    228\u001b[0m     \u001b[1;32mraise\u001b[0m \u001b[0mOperationFailure\u001b[0m\u001b[1;33m(\u001b[0m\u001b[0mdetails\u001b[0m\u001b[1;33m[\u001b[0m\u001b[1;34m\"err\"\u001b[0m\u001b[1;33m]\u001b[0m\u001b[1;33m,\u001b[0m \u001b[0mcode\u001b[0m\u001b[1;33m,\u001b[0m \u001b[0mresult\u001b[0m\u001b[1;33m)\u001b[0m\u001b[1;33m\u001b[0m\u001b[0m\n\u001b[0;32m    229\u001b[0m \u001b[1;33m\u001b[0m\u001b[0m\n",
      "\u001b[1;31mDuplicateKeyError\u001b[0m: E11000 duplicate key error index: panoptes.state_information.$_id_  dup key: { : ObjectId('55f33d7155899f30216eec69') }"
     ]
    }
   ],
   "source": [
    "pan.run()"
   ]
  },
  {
   "cell_type": "code",
   "execution_count": null,
   "metadata": {
    "collapsed": true
   },
   "outputs": [],
   "source": []
  }
 ],
 "metadata": {
  "kernelspec": {
   "display_name": "Python 3",
   "language": "python",
   "name": "python3"
  },
  "language_info": {
   "codemirror_mode": {
    "name": "ipython",
    "version": 3
   },
   "file_extension": ".py",
   "mimetype": "text/x-python",
   "name": "python",
   "nbconvert_exporter": "python",
   "pygments_lexer": "ipython3",
   "version": "3.4.3"
  }
 },
 "nbformat": 4,
 "nbformat_minor": 0
}
