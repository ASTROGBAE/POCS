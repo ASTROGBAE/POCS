{
 "cells": [
  {
   "cell_type": "code",
   "execution_count": 2,
   "metadata": {
    "collapsed": false
   },
   "outputs": [
    {
     "name": "stderr",
     "output_type": "stream",
     "text": [
      "/home/wtgee/anaconda3/lib/python3.4/site-packages/IPython/kernel/__init__.py:13: ShimWarning: The `IPython.kernel` package has been deprecated. You should import from ipykernel or jupyter_client instead.\n",
      "  \"You should import from ipykernel or jupyter_client instead.\", ShimWarning)\n"
     ]
    }
   ],
   "source": [
    "# Load the PANOPTES module dir\n",
    "import sys\n",
    "sys.path.append('../..')\n",
    "\n",
    "# For development\n",
    "%load_ext autoreload\n",
    "%autoreload 2\n",
    "\n",
    "from panoptes import Panoptes"
   ]
  },
  {
   "cell_type": "code",
   "execution_count": 3,
   "metadata": {
    "collapsed": false,
    "scrolled": true
   },
   "outputs": [
    {
     "name": "stderr",
     "output_type": "stream",
     "text": [
      "INFO:Panoptes:********************************************************************************\n",
      "INFO:Panoptes:Initializing PANOPTES unit\n",
      "INFO:Panoptes:Using default state machine file: simple_state_table\n",
      "INFO:Panoptes:Setting up interrupt handlers for state machine\n",
      "INFO:Panoptes:State machine created\n",
      "INFO:Panoptes:Checking config\n",
      "INFO:Panoptes:Welcome PAN 001\n",
      "INFO:Panoptes:Setting up database connection\n",
      "INFO:Panoptes:Setting up weather station <class 'panoptes.weather.weather_station.WeatherStationSimulator'>\n",
      "INFO:Panoptes:Setting up observatory\n",
      "INFO:Observatory:Initializing observatory\n",
      "INFO:Observatory:\t Setting up observatory details\n",
      "INFO:Observatory:Setting up site details of observatory\n",
      "INFO:Observatory:\t Setting up mount\n",
      "INFO:Observatory:Creating mount: ioptron\n",
      "INFO:Mount:Creating iOptron mount\n",
      "INFO:Mount:Setting up commands for mount\n",
      "INFO:Mount:Loading mount commands file: /var/panoptes/POCS/resources//conf_files/mounts/ioptron.yaml\n",
      "INFO:Mount:Mount commands updated from /var/panoptes/POCS/resources//conf_files/mounts/ioptron.yaml\n",
      "INFO:Mount:Mount commands set up\n",
      "INFO:SerialData:SerialData created\n",
      "INFO:Mount:Mount created\n",
      "INFO:Observatory:\t Setting up cameras\n",
      "INFO:Observatory:\t Setting up scheduler\n",
      "INFO:Observatory:\t Scheduler file: /var/panoptes/POCS/resources/conf_files/targets/default_targets.yaml\n",
      "WARNING:Scheduler:Cannot load target list: None\n"
     ]
    }
   ],
   "source": [
    "pan = Panoptes()"
   ]
  },
  {
   "cell_type": "code",
   "execution_count": 4,
   "metadata": {
    "collapsed": false
   },
   "outputs": [
    {
     "data": {
      "text/plain": [
       "'parked'"
      ]
     },
     "execution_count": 4,
     "metadata": {},
     "output_type": "execute_result"
    }
   ],
   "source": [
    "pan.state"
   ]
  },
  {
   "cell_type": "code",
   "execution_count": 5,
   "metadata": {
    "collapsed": true
   },
   "outputs": [],
   "source": [
    "pan.weather_station.set_safe()"
   ]
  },
  {
   "cell_type": "code",
   "execution_count": 6,
   "metadata": {
    "collapsed": false
   },
   "outputs": [
    {
     "data": {
      "text/plain": [
       "'safe'"
      ]
     },
     "execution_count": 6,
     "metadata": {},
     "output_type": "execute_result"
    }
   ],
   "source": [
    "pan.weather_station.check_conditions()"
   ]
  },
  {
   "cell_type": "code",
   "execution_count": 7,
   "metadata": {
    "collapsed": false
   },
   "outputs": [],
   "source": [
    "pan.next_state = 'initializing'"
   ]
  },
  {
   "cell_type": "code",
   "execution_count": 8,
   "metadata": {
    "collapsed": false,
    "scrolled": true
   },
   "outputs": [
    {
     "name": "stderr",
     "output_type": "stream",
     "text": [
      "INFO:Mount:Initializing panoptes.mount.ioptron mount\n",
      "INFO:Mount:Connecting to mount\n",
      "INFO:Mount:Making serial connection for mount at /dev/ttyUSB0\n",
      "INFO:SerialData:Serial connect called\n",
      "INFO:SerialData:Serial connection established to mount\n",
      "INFO:Mount:Mount connected via serial\n",
      "INFO:Mount:Mount connected: True\n",
      "INFO:Mount:Setting up mount for location\n",
      "INFO:Mount:Mount initialized: True\n",
      "INFO:Mount:Mount unparked\n",
      "INFO:Panoptes:Next state is: scheduling\n",
      "INFO:Panoptes:Next state is: slewing\n",
      "INFO:PanState:Slewing to target\n",
      "INFO:Panoptes:Next state is: imaging\n",
      "INFO:PanState:I'm finding exoplanets!\n",
      "INFO:PanState:Remaining images: 2\n",
      "INFO:PanState:Imaging for 120 seconds\n",
      "INFO:PanState:Imaging for 105 seconds\n",
      "INFO:PanState:Imaging for 90 seconds\n",
      "INFO:PanState:Imaging for 75 seconds\n",
      "INFO:PanState:Imaging for 60 seconds\n",
      "INFO:PanState:Imaging for 45 seconds\n",
      "INFO:PanState:Imaging for 30 seconds\n",
      "INFO:PanState:Imaging for 15 seconds\n",
      "INFO:PanState:Remaining images: 1\n",
      "INFO:PanState:Imaging for 120 seconds\n",
      "INFO:PanState:Imaging for 105 seconds\n",
      "INFO:PanState:Imaging for 90 seconds\n",
      "INFO:PanState:Imaging for 75 seconds\n",
      "INFO:PanState:Imaging for 60 seconds\n",
      "INFO:PanState:Imaging for 45 seconds\n",
      "INFO:PanState:Imaging for 30 seconds\n",
      "INFO:PanState:Imaging for 15 seconds\n",
      "INFO:Panoptes:Next state is: analyzing\n",
      "INFO:PanState:Analyzing the images.\n",
      "INFO:Panoptes:Next state is: scheduling\n",
      "INFO:Panoptes:Next state is: slewing\n",
      "INFO:PanState:Slewing to target\n",
      "WARNING:Mount:Problem with slew_to_target\n",
      "WARNING:PanState:Problem slewing. Sending back to scheduling\n",
      "INFO:Panoptes:Next state is: scheduling\n",
      "INFO:Panoptes:Next state is: slewing\n",
      "INFO:PanState:Slewing to target\n",
      "WARNING:Mount:Problem with slew_to_target\n",
      "WARNING:PanState:Problem slewing. Sending back to scheduling\n",
      "INFO:Panoptes:Next state is: scheduling\n",
      "INFO:Panoptes:Next state is: slewing\n",
      "INFO:PanState:Slewing to target\n",
      "WARNING:Mount:Problem with slew_to_target\n",
      "WARNING:PanState:Problem slewing. Sending back to scheduling\n",
      "INFO:Panoptes:Next state is: scheduling\n",
      "WARNING:Panoptes:Problem calling `main` for state scheduling\n",
      "INFO:Panoptes:Next state is: parking\n",
      "INFO:Mount:Initializing panoptes.mount.ioptron mount\n",
      "INFO:Mount:Setting up mount for location\n",
      "INFO:Mount:Mount initialized: True\n",
      "INFO:Mount:Park Coordinates RA-Dec: <SkyCoord (ICRS): (ra, dec) in deg\n",
      "    (2.39405563, -10.0)>\n",
      "INFO:Panoptes:Next state is: parked\n",
      "WARNING:Panoptes:Received exit signal\n",
      "INFO:Panoptes:Next state is: exit\n",
      "INFO:Panoptes:Next state set to exit, leaving loop\n"
     ]
    }
   ],
   "source": [
    "pan.run()"
   ]
  },
  {
   "cell_type": "code",
   "execution_count": 9,
   "metadata": {
    "collapsed": false
   },
   "outputs": [
    {
     "name": "stderr",
     "output_type": "stream",
     "text": [
      "INFO:Mount:Park Coordinates RA-Dec: <SkyCoord (ICRS): (ra, dec) in deg\n",
      "    (2.49054601, -10.0)>\n"
     ]
    },
    {
     "data": {
      "text/plain": [
       "1"
      ]
     },
     "execution_count": 9,
     "metadata": {},
     "output_type": "execute_result"
    }
   ],
   "source": [
    "mount = pan.observatory.mount\n",
    "mount.park()"
   ]
  },
  {
   "cell_type": "code",
   "execution_count": 10,
   "metadata": {
    "collapsed": false
   },
   "outputs": [
    {
     "name": "stderr",
     "output_type": "stream",
     "text": [
      "INFO:Mount:Initializing panoptes.mount.ioptron mount\n",
      "INFO:Mount:Setting up mount for location\n",
      "INFO:Mount:Mount initialized: True\n"
     ]
    },
    {
     "data": {
      "text/plain": [
       "True"
      ]
     },
     "execution_count": 10,
     "metadata": {},
     "output_type": "execute_result"
    }
   ],
   "source": [
    "mount = pan.observatory.mount\n",
    "mount.is_initialized = False\n",
    "mount.initialize()"
   ]
  },
  {
   "cell_type": "code",
   "execution_count": 11,
   "metadata": {
    "collapsed": false
   },
   "outputs": [
    {
     "name": "stderr",
     "output_type": "stream",
     "text": [
      "INFO:Mount:Mount unparked\n"
     ]
    },
    {
     "data": {
      "text/plain": [
       "1"
      ]
     },
     "execution_count": 11,
     "metadata": {},
     "output_type": "execute_result"
    }
   ],
   "source": [
    "pan.observatory.mount.unpark()\n",
    "pan.observatory.mount.slew_to_home()"
   ]
  },
  {
   "cell_type": "code",
   "execution_count": null,
   "metadata": {
    "collapsed": true
   },
   "outputs": [],
   "source": []
  }
 ],
 "metadata": {
  "kernelspec": {
   "display_name": "Python 3",
   "language": "python",
   "name": "python3"
  },
  "language_info": {
   "codemirror_mode": {
    "name": "ipython",
    "version": 3
   },
   "file_extension": ".py",
   "mimetype": "text/x-python",
   "name": "python",
   "nbconvert_exporter": "python",
   "pygments_lexer": "ipython3",
   "version": "3.4.3"
  }
 },
 "nbformat": 4,
 "nbformat_minor": 0
}
