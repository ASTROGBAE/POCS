{
 "cells": [
  {
   "cell_type": "code",
   "execution_count": null,
   "metadata": {
    "collapsed": false
   },
   "outputs": [],
   "source": [
    "# Load the PANOPTES module dir\n",
    "import sys\n",
    "sys.path.append('../..')\n",
    "\n",
    "# For development\n",
    "%load_ext autoreload\n",
    "%autoreload 2\n",
    "\n",
    "from IPython.display import display_pretty\n",
    "\n",
    "from panoptes import Panoptes"
   ]
  },
  {
   "cell_type": "code",
   "execution_count": null,
   "metadata": {
    "collapsed": false
   },
   "outputs": [],
   "source": [
    "pan = Panoptes()"
   ]
  },
  {
   "cell_type": "code",
   "execution_count": 12,
   "metadata": {
    "collapsed": false
   },
   "outputs": [
    {
     "data": {
      "text/plain": [
       "'parked'"
      ]
     },
     "execution_count": 12,
     "metadata": {},
     "output_type": "execute_result"
    }
   ],
   "source": [
    "pan.state"
   ]
  },
  {
   "cell_type": "code",
   "execution_count": 13,
   "metadata": {
    "collapsed": true
   },
   "outputs": [],
   "source": [
    "pan.weather_station.set_safe()"
   ]
  },
  {
   "cell_type": "code",
   "execution_count": 14,
   "metadata": {
    "collapsed": false
   },
   "outputs": [
    {
     "data": {
      "text/plain": [
       "'safe'"
      ]
     },
     "execution_count": 14,
     "metadata": {},
     "output_type": "execute_result"
    }
   ],
   "source": [
    "pan.weather_station.check_conditions()"
   ]
  },
  {
   "cell_type": "code",
   "execution_count": null,
   "metadata": {
    "collapsed": false
   },
   "outputs": [],
   "source": [
    "pan.next_state = 'initializing'"
   ]
  },
  {
   "cell_type": "code",
   "execution_count": null,
   "metadata": {
    "collapsed": false,
    "scrolled": false
   },
   "outputs": [
    {
     "name": "stderr",
     "output_type": "stream",
     "text": [
      "INFO:Panoptes:Before going parked from to_initializing\n",
      "INFO:Panoptes:Inside initializing state\n",
      "INFO:Mount:Initializing panoptes.mount.ioptron mount\n",
      "INFO:Mount:Connecting to mount\n",
      "INFO:Mount:Making serial connection for mount at /dev/ttyUSB0\n",
      "INFO:SerialData:Serial connect called\n",
      "INFO:SerialData:Serial connection established to mount\n",
      "INFO:Mount:Mount connected via serial\n",
      "INFO:Mount:Mount connected: True\n",
      "INFO:Mount:Setting up mount for location\n",
      "INFO:Mount:Mount initialized: True\n",
      "INFO:Mount:Mount unparked\n",
      "INFO:Panoptes:initializing returned scheduling\n",
      "INFO:Panoptes:Next state is: scheduling\n",
      "INFO:Panoptes:After going to_initializing from initializing\n",
      "INFO:Panoptes:Before going initializing from to_scheduling\n",
      "INFO:Panoptes:Inside scheduling state\n",
      "INFO:PanState:Getting target\n",
      "INFO:Scheduler:Reading targets from file: /var/panoptes/POCS/resources/conf_files/targets/default_targets.yaml\n",
      "WARNING: AstropyDeprecationWarning: Passing a frame as a positional argument is now deprecated, use the frame= keyword argument instead. [astropy.coordinates.sky_coordinate]\n",
      "WARNING:astropy:AstropyDeprecationWarning: Passing a frame as a positional argument is now deprecated, use the frame= keyword argument instead.\n",
      "INFO:Scheduler:Evaluating candidate targets\n",
      "INFO:Scheduler:\tTerm Function: <function observable at 0x7f9c5a0479d8>\n",
      "INFO:Scheduler:\tMerit Value: 1\n",
      "INFO:Scheduler:\tTerm Function: <function observable at 0x7f9c5a0479d8>\n",
      "INFO:Scheduler:\tMerit Value: 1\n",
      "INFO:Scheduler:\tTerm Function: <function observable at 0x7f9c5a0479d8>\n",
      "INFO:Scheduler:\tMerit Value: 1\n",
      "INFO:Scheduler:\tTerm Function: <function observable at 0x7f9c5a0479d8>\n",
      "INFO:Scheduler:\tMerit Value: 1\n",
      "INFO:Scheduler:\tTerm Function: <function observable at 0x7f9c5a0479d8>\n",
      "INFO:Scheduler:\tMerit Value: 1\n",
      "INFO:Scheduler:\tTerm Function: <function observable at 0x7f9c5a0479d8>\n",
      "INFO:Scheduler:\tMerit Value: 1\n",
      "INFO:Scheduler:\tTerm Function: <function observable at 0x7f9c5a0479d8>\n",
      "INFO:Scheduler:\tMerit Value: 1\n",
      "INFO:Scheduler:Chosen target is M 42 with priority 120.0\n",
      "INFO:PanState:Target: M 42\n",
      "INFO:PanState:Mount set to target: M 42\n",
      "INFO:Panoptes:scheduling returned slewing\n",
      "INFO:Panoptes:Next state is: slewing\n",
      "INFO:Panoptes:After going to_scheduling from scheduling\n",
      "INFO:Panoptes:Before going scheduling from to_slewing\n",
      "INFO:Panoptes:Inside slewing state\n",
      "INFO:PanState:Slewing to target\n",
      "INFO:Mount:Mount response: 1\n",
      "INFO:Mount:Slewing to target\n",
      "INFO:Panoptes:Sleeping slewing for 3 seconds\n",
      "INFO:Panoptes:Sleeping slewing for 3 seconds\n",
      "INFO:Panoptes:Sleeping slewing for 3 seconds\n",
      "INFO:Panoptes:Sleeping slewing for 3 seconds\n",
      "INFO:Panoptes:Sleeping slewing for 3 seconds\n",
      "INFO:Panoptes:Sleeping slewing for 3 seconds\n",
      "INFO:Panoptes:slewing returned imaging\n",
      "INFO:Panoptes:Next state is: imaging\n",
      "INFO:Panoptes:After going to_slewing from slewing\n",
      "INFO:Panoptes:Before going slewing from to_imaging\n",
      "INFO:Panoptes:Inside imaging state\n",
      "INFO:PanState:I'm finding exoplanets!\n",
      "INFO:PanState:Imaging for 120 seconds\n",
      "INFO:Panoptes:Sleeping imaging for 15 seconds\n"
     ]
    }
   ],
   "source": [
    "pan.run()"
   ]
  },
  {
   "cell_type": "code",
   "execution_count": null,
   "metadata": {
    "collapsed": true
   },
   "outputs": [],
   "source": []
  },
  {
   "cell_type": "code",
   "execution_count": null,
   "metadata": {
    "collapsed": true
   },
   "outputs": [],
   "source": []
  },
  {
   "cell_type": "code",
   "execution_count": null,
   "metadata": {
    "collapsed": true
   },
   "outputs": [],
   "source": []
  }
 ],
 "metadata": {
  "kernelspec": {
   "display_name": "Python 3",
   "language": "python",
   "name": "python3"
  },
  "language_info": {
   "codemirror_mode": {
    "name": "ipython",
    "version": 3
   },
   "file_extension": ".py",
   "mimetype": "text/x-python",
   "name": "python",
   "nbconvert_exporter": "python",
   "pygments_lexer": "ipython3",
   "version": "3.4.3"
  }
 },
 "nbformat": 4,
 "nbformat_minor": 0
}
