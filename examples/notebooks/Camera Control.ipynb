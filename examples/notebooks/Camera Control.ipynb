{
 "cells": [
  {
   "cell_type": "code",
   "execution_count": 1,
   "metadata": {
    "collapsed": false
   },
   "outputs": [],
   "source": [
    "import time\n",
    "from astropy.time import Time\n",
    "import astropy.units as u"
   ]
  },
  {
   "cell_type": "code",
   "execution_count": null,
   "metadata": {
    "collapsed": false
   },
   "outputs": [
    {
     "name": "stderr",
     "output_type": "stream",
     "text": [
      "INFO:PanoptesLogger:\n",
      "\n",
      "INFO:PanoptesLogger:********************************************************************************\n",
      "INFO:PanoptesLogger:\n",
      "\n",
      "DEBUG:PanoptesLogger:Adding info logging to: PanError\n",
      "DEBUG:PanoptesLogger:Adding info logging to: SerialData\n",
      "DEBUG:PanoptesLogger:Adding info logging to: PanStateMachine\n",
      "DEBUG:PanoptesLogger:Adding info logging to: WeatherStation\n",
      "DEBUG:PanoptesLogger:Adding info logging to: Observation\n",
      "DEBUG:PanoptesLogger:Adding info logging to: Target\n",
      "DEBUG:PanoptesLogger:Adding info logging to: Scheduler\n",
      "DEBUG:PanoptesLogger:Adding info logging to: SchedulerSimple\n",
      "DEBUG:PanoptesLogger:Adding info logging to: PanIndiServer\n",
      "DEBUG:PanoptesLogger:Adding info logging to: PanIndiDevice\n",
      "DEBUG:PanoptesLogger:Adding info logging to: Observatory\n",
      "DEBUG:PanoptesLogger:Adding info logging to: Panoptes\n",
      "DEBUG:PanoptesLogger:Adding info logging to: Messaging\n",
      "DEBUG:PanoptesLogger:Adding info logging to: EnvironmentalMonitor\n",
      "DEBUG:PanoptesLogger:Adding info logging to: Webcams\n",
      "DEBUG:PanoptesLogger:Adding info logging to: PanSensors\n"
     ]
    }
   ],
   "source": [
    "# Load the PANOPTES module dir\n",
    "import sys\n",
    "sys.path.append('../../')\n",
    "\n",
    "# For development\n",
    "%load_ext autoreload\n",
    "%autoreload 2\n",
    "\n",
    "from panoptes.utils.images import *\n",
    "from panoptes import Panoptes"
   ]
  },
  {
   "cell_type": "code",
   "execution_count": null,
   "metadata": {
    "collapsed": false
   },
   "outputs": [
    {
     "name": "stderr",
     "output_type": "stream",
     "text": [
      "INFO:Panoptes:Initializing PANOPTES unit\n",
      "INFO:Panoptes:Using default state machine file: simple_state_table\n",
      "INFO:Panoptes:Setting up interrupt handlers for state machine\n",
      "DEBUG:Panoptes:Loading transition: {'source': 'parked', 'trigger': 'initialize', 'dest': 'initializing'}\n",
      "DEBUG:Panoptes:Returning transition: {'source': 'parked', 'conditions': ['weather_is_safe'], 'trigger': 'initialize', 'dest': 'initializing'}\n",
      "DEBUG:Panoptes:Loading transition: {'source': 'sleeping', 'trigger': 'initialize', 'dest': 'initializing'}\n",
      "DEBUG:Panoptes:Returning transition: {'source': 'sleeping', 'conditions': ['weather_is_safe'], 'trigger': 'initialize', 'dest': 'initializing'}\n",
      "DEBUG:Panoptes:Loading transition: {'source': 'parked', 'trigger': 'shutdown', 'dest': 'shutdown'}\n",
      "DEBUG:Panoptes:Returning transition: {'source': 'parked', 'conditions': ['weather_is_safe'], 'trigger': 'shutdown', 'dest': 'shutdown'}\n",
      "DEBUG:Panoptes:Loading transition: {'source': 'shutdown', 'trigger': 'sleep', 'dest': 'sleeping'}\n",
      "DEBUG:Panoptes:Returning transition: {'source': 'shutdown', 'conditions': ['weather_is_safe'], 'trigger': 'sleep', 'dest': 'sleeping'}\n",
      "DEBUG:Panoptes:Loading transition: {'source': 'initializing', 'trigger': 'schedule', 'dest': 'scheduling'}\n",
      "DEBUG:Panoptes:Returning transition: {'source': 'initializing', 'conditions': ['weather_is_safe'], 'trigger': 'schedule', 'dest': 'scheduling'}\n",
      "DEBUG:Panoptes:Loading transition: {'dest': 'slewing', 'source': 'scheduling', 'trigger': 'acquire_target', 'conditions': 'is_dark'}\n",
      "DEBUG:Panoptes:Returning transition: {'dest': 'slewing', 'source': 'scheduling', 'trigger': 'acquire_target', 'conditions': ['is_dark', 'weather_is_safe']}\n",
      "DEBUG:Panoptes:Loading transition: {'source': 'slewing', 'trigger': 'image', 'dest': 'imaging'}\n",
      "DEBUG:Panoptes:Returning transition: {'source': 'slewing', 'conditions': ['weather_is_safe'], 'trigger': 'image', 'dest': 'imaging'}\n",
      "DEBUG:Panoptes:Loading transition: {'source': 'imaging', 'trigger': 'analyze', 'dest': 'analyzing'}\n",
      "DEBUG:Panoptes:Returning transition: {'source': 'imaging', 'conditions': ['weather_is_safe'], 'trigger': 'analyze', 'dest': 'analyzing'}\n",
      "DEBUG:Panoptes:Loading transition: {'source': 'analyzing', 'trigger': 'acquire_target', 'dest': 'slewing'}\n",
      "DEBUG:Panoptes:Returning transition: {'source': 'analyzing', 'conditions': ['weather_is_safe'], 'trigger': 'acquire_target', 'dest': 'slewing'}\n",
      "DEBUG:Panoptes:Loading parked state\n",
      "DEBUG:PanoptesLogger:Adding info logging to: PanState\n",
      "DEBUG:Panoptes:Loading parking state\n",
      "DEBUG:Panoptes:Loading shutdown state\n",
      "INFO:PanState:In shtudwon\n",
      "DEBUG:Panoptes:Loading sleeping state\n",
      "DEBUG:Panoptes:Loading initializing state\n",
      "DEBUG:Panoptes:Loading scheduling state\n",
      "DEBUG:Panoptes:Loading slewing state\n",
      "DEBUG:Panoptes:Loading imaging state\n",
      "DEBUG:Panoptes:Loading analyzing state\n",
      "INFO:Panoptes:State machine created\n",
      "INFO:Panoptes:Checking config\n",
      "INFO:Panoptes:Welcome PAN 001\n",
      "INFO:Panoptes:Setting up PAN 001:\n",
      "INFO:Panoptes:\t database connection\n",
      "INFO:Panoptes:\t weather station\n",
      "DEBUG:Panoptes:Creating weather station <class 'panoptes.weather.weather_station.WeatherStationMongo'>\n",
      "DEBUG:WeatherStation:Getting weather station connection to mongodb\n",
      "DEBUG:WeatherStation:Weather station connection: Collection(Database(MongoClient('localhost', 27017), 'panoptes'), 'sensors')\n",
      "INFO:Panoptes:\t observatory\n",
      "INFO:Observatory:Initializing observatory\n",
      "INFO:Observatory:\t Setting up location\n",
      "INFO:Observatory:Setting up site details of observatory\n",
      "DEBUG:Observatory:location set: {'pressure': <Quantity 0.68 bar>, 'timezone': 'US/Hawaii', 'elevation': <Quantity 3400.0 m>, 'horizon': <Quantity 18.0 deg>, 'longitude': <Quantity -155.58 deg>, 'latitude': <Quantity 19.54 deg>, 'name': 'Mauna Loa Observatory'}\n",
      "DEBUG:Observatory:setting earth_location: {'pressure': <Quantity 0.68 bar>, 'timezone': 'US/Hawaii', 'elevation': <Quantity 3400.0 m>, 'horizon': <Quantity 18.0 deg>, 'longitude': <Quantity -155.58 deg>, 'latitude': <Quantity 19.54 deg>, 'name': 'Mauna Loa Observatory'}\n",
      "DEBUG:PanIndiServer:Starting INDI Server: ['/usr/bin/indiserver', '-v', '-m', '100', '-f', '/tmp/pan_indiFIFO']\n",
      "DEBUG:PanIndiServer:INDI server started. PID: 5614\n",
      "DEBUG:PanIndiServer:Loading driver\n",
      "DEBUG:PanIndiServer:Command to FIFO server: start indi_simulator_ccd -n \"PAN_CCD_SIMULATOR\" \n",
      "\n"
     ]
    }
   ],
   "source": [
    "pan = Panoptes()"
   ]
  },
  {
   "cell_type": "code",
   "execution_count": null,
   "metadata": {
    "collapsed": false
   },
   "outputs": [],
   "source": [
    "!indi_getprop"
   ]
  }
 ],
 "metadata": {
  "kernelspec": {
   "display_name": "Python 3",
   "language": "python",
   "name": "python3"
  },
  "language_info": {
   "codemirror_mode": {
    "name": "ipython",
    "version": 3
   },
   "file_extension": ".py",
   "mimetype": "text/x-python",
   "name": "python",
   "nbconvert_exporter": "python",
   "pygments_lexer": "ipython3",
   "version": "3.4.3"
  }
 },
 "nbformat": 4,
 "nbformat_minor": 0
}
