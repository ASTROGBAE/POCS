{
 "cells": [
  {
   "cell_type": "code",
   "execution_count": 1,
   "metadata": {
    "collapsed": false
   },
   "outputs": [],
   "source": [
    "# Load the PANOPTES module dir\n",
    "import sys\n",
    "sys.path.append('../..')\n",
    "\n",
    "import astropy.units as u\n",
    "from astropy.time import Time\n",
    "from astropy.coordinates import SkyCoord\n",
    "\n",
    "import time\n",
    "\n",
    "# For development\n",
    "%load_ext autoreload\n",
    "%autoreload 2"
   ]
  },
  {
   "cell_type": "code",
   "execution_count": 2,
   "metadata": {
    "collapsed": false
   },
   "outputs": [
    {
     "name": "stderr",
     "output_type": "stream",
     "text": [
      "INFO:PanoptesLogger:Adding warning logging to: PanError\n",
      "INFO:PanoptesLogger:Adding warning logging to: SerialData\n",
      "INFO:PanoptesLogger:Adding warning logging to: Target\n",
      "INFO:PanoptesLogger:Adding warning logging to: Observation\n",
      "INFO:PanoptesLogger:Adding warning logging to: Scheduler\n",
      "INFO:PanoptesLogger:Adding warning logging to: Observatory\n",
      "INFO:PanoptesLogger:Adding warning logging to: Panoptes\n"
     ]
    }
   ],
   "source": [
    "from panoptes import Panoptes"
   ]
  },
  {
   "cell_type": "code",
   "execution_count": 3,
   "metadata": {
    "collapsed": false
   },
   "outputs": [
    {
     "name": "stderr",
     "output_type": "stream",
     "text": [
      "INFO:Panoptes:********************************************************************************\n",
      "INFO:Panoptes:Initializing PANOPTES unit\n",
      "INFO:Panoptes:Checking config\n",
      "INFO:Panoptes:Welcome PAN 001\n",
      "INFO:Panoptes:Setting up database connection\n",
      "INFO:Panoptes:Setting up observatory\n",
      "INFO:Observatory:Initializing observatory\n",
      "INFO:Observatory:\t Setting up observatory details\n",
      "INFO:Observatory:Setting up site details of observatory\n",
      "INFO:Observatory:\t Setting up mount\n",
      "INFO:Observatory:Creating mount: ioptron\n",
      "INFO:PanoptesLogger:Adding warning logging to: AbstractMount\n",
      "INFO:PanoptesLogger:Adding warning logging to: Mount\n",
      "INFO:Mount:Creating iOptron mount\n",
      "INFO:Mount:Setting up commands for mount\n",
      "INFO:Mount:Loading mount commands file: /var/panoptes/POCS/resources//conf_files/mounts/ioptron.yaml\n",
      "INFO:Mount:Mount commands updated from /var/panoptes/POCS/resources//conf_files/mounts/ioptron.yaml\n",
      "INFO:Mount:Mount commands set up\n",
      "INFO:SerialData:SerialData created\n",
      "INFO:Mount:Mount created\n",
      "INFO:Observatory:\t Setting up cameras\n",
      "INFO:Observatory:\t Setting up scheduler\n"
     ]
    }
   ],
   "source": [
    "pan = Panoptes()"
   ]
  },
  {
   "cell_type": "code",
   "execution_count": 4,
   "metadata": {
    "collapsed": false
   },
   "outputs": [
    {
     "name": "stderr",
     "output_type": "stream",
     "text": [
      "INFO:Mount:Initializing panoptes.mount.ioptron mount\n",
      "INFO:Mount:Connecting to mount\n",
      "INFO:Mount:Making serial connection for mount at /dev/ttyUSB0\n",
      "INFO:SerialData:Serial connect called\n",
      "INFO:SerialData:Serial connection established to mount\n",
      "INFO:Mount:Mount connected via serial\n",
      "INFO:Mount:Mount Query & Params: version None\n",
      "INFO:Mount:Mount Query & Params: mount_info None\n",
      "INFO:Mount:Setting up mount for location\n",
      "INFO:Mount:Mount Query & Params: set_long -560088 arcsec\n",
      "INFO:Mount:Mount Query & Params: set_lat +070344 arcsec\n",
      "INFO:Mount:Mount Query & Params: disable_daylight_savings None\n",
      "INFO:Mount:Mount Query & Params: set_gmt_offset -600\n",
      "INFO:Mount:Mount Query & Params: set_local_time 112637\n",
      "INFO:Mount:Mount Query & Params: set_local_date 150817\n",
      "INFO:Mount:Mount initialized: True\n"
     ]
    },
    {
     "data": {
      "text/plain": [
       "True"
      ]
     },
     "execution_count": 4,
     "metadata": {},
     "output_type": "execute_result"
    }
   ],
   "source": [
    "mount = pan.observatory.mount\n",
    "mount.is_initialized = False\n",
    "mount.initialize()"
   ]
  },
  {
   "cell_type": "code",
   "execution_count": 5,
   "metadata": {
    "collapsed": false
   },
   "outputs": [
    {
     "name": "stderr",
     "output_type": "stream",
     "text": [
      "INFO:Mount:Mount Query & Params: unpark None\n",
      "INFO:Mount:Mount unparked\n",
      "INFO:Mount:Mount Query & Params: goto_home None\n"
     ]
    },
    {
     "data": {
      "text/plain": [
       "'1'"
      ]
     },
     "execution_count": 5,
     "metadata": {},
     "output_type": "execute_result"
    }
   ],
   "source": [
    "mount.unpark()\n",
    "mount.slew_to_home()"
   ]
  },
  {
   "cell_type": "code",
   "execution_count": 6,
   "metadata": {
    "collapsed": false
   },
   "outputs": [
    {
     "name": "stderr",
     "output_type": "stream",
     "text": [
      "INFO:Mount:Mount Query & Params: set_ra 71304985\n",
      "INFO:Mount:Mount Query & Params: set_dec +5400000\n",
      "INFO:Mount:Mount Query & Params: park None\n"
     ]
    },
    {
     "data": {
      "text/plain": [
       "'1'"
      ]
     },
     "execution_count": 6,
     "metadata": {},
     "output_type": "execute_result"
    }
   ],
   "source": [
    "mount.park()"
   ]
  },
  {
   "cell_type": "markdown",
   "metadata": {},
   "source": [
    "Now that we have tested that it is working, let's try to slew around to a few different targets in various locations and then move back to park.\n",
    "\n",
    "*Note: I am picking targets that are available for me right now.*"
   ]
  },
  {
   "cell_type": "code",
   "execution_count": 35,
   "metadata": {
    "collapsed": false
   },
   "outputs": [
    {
     "name": "stderr",
     "output_type": "stream",
     "text": [
      "INFO:Mount:Mount Query & Params: set_ra 24308917\n",
      "INFO:Mount:Mount Send: :Sr24308917#\n",
      "INFO:Mount:Mount Read: 1\n",
      "INFO:Mount:Mount Query & Params: set_dec -6017802\n",
      "INFO:Mount:Mount Send: :Sd-6017802#\n",
      "INFO:Mount:Mount Read: 1\n"
     ]
    },
    {
     "data": {
      "text/plain": [
       "True"
      ]
     },
     "execution_count": 35,
     "metadata": {},
     "output_type": "execute_result"
    }
   ],
   "source": [
    "mount.set_target_coordinates(SkyCoord.from_name('Sirius'))"
   ]
  },
  {
   "cell_type": "code",
   "execution_count": 36,
   "metadata": {
    "collapsed": false
   },
   "outputs": [
    {
     "name": "stderr",
     "output_type": "stream",
     "text": [
      "INFO:Mount:Mount Query & Params: slew_to_target None\n",
      "INFO:Mount:Mount Send: :MS#\n",
      "INFO:Mount:Mount Read: 1\n"
     ]
    },
    {
     "data": {
      "text/plain": [
       "'1'"
      ]
     },
     "execution_count": 36,
     "metadata": {},
     "output_type": "execute_result"
    }
   ],
   "source": [
    "mount.slew_to_target()"
   ]
  },
  {
   "cell_type": "code",
   "execution_count": 47,
   "metadata": {
    "collapsed": false
   },
   "outputs": [
    {
     "name": "stderr",
     "output_type": "stream",
     "text": [
      "INFO:Mount:Mount Query & Params: get_status None\n",
      "INFO:Mount:Mount Send: :GAS#\n",
      "INFO:Mount:Mount Read: 110521#\n"
     ]
    },
    {
     "data": {
      "text/plain": [
       "{'gps': 'On',\n",
       " 'hemisphere': 'Northern',\n",
       " 'movement_speed': '64x sidereal',\n",
       " 'system': 'Tracking (PEC disabled)',\n",
       " 'time_source': 'Hand Controller',\n",
       " 'tracking': 'Sidereal'}"
      ]
     },
     "execution_count": 47,
     "metadata": {},
     "output_type": "execute_result"
    }
   ],
   "source": [
    "mount.status()"
   ]
  },
  {
   "cell_type": "code",
   "execution_count": 48,
   "metadata": {
    "collapsed": false
   },
   "outputs": [
    {
     "name": "stderr",
     "output_type": "stream",
     "text": [
      "INFO:Mount:Mount Query & Params: get_coordinates None\n",
      "INFO:Mount:Mount Send: :GEC#\n",
      "INFO:Mount:Mount Read: -0601778424309150#\n",
      "INFO:Mount:Mount coordinates: <_sre.SRE_Match object; span=(0, 17), match='-0601778424309150'>\n"
     ]
    },
    {
     "name": "stdout",
     "output_type": "stream",
     "text": [
      "2015-08-17 21:44:07.583484\n",
      "<SkyCoord (ICRS): (ra, dec) in deg\n",
      "    (101.288125, -16.71606667)>"
     ]
    },
    {
     "name": "stderr",
     "output_type": "stream",
     "text": [
      "INFO:Mount:Mount Query & Params: get_status None\n",
      "INFO:Mount:Mount Send: :GAS#\n",
      "INFO:Mount:Mount Read: 110521#\n"
     ]
    },
    {
     "name": "stdout",
     "output_type": "stream",
     "text": [
      "\n",
      "{'hemisphere': 'Northern', 'gps': 'On', 'movement_speed': '64x sidereal', 'system': 'Tracking (PEC disabled)', 'tracking': 'Sidereal', 'time_source': 'Hand Controller'}\n",
      "2015-08-17 21:49:08.714522"
     ]
    },
    {
     "name": "stderr",
     "output_type": "stream",
     "text": [
      "INFO:Mount:Mount Query & Params: get_coordinates None\n",
      "INFO:Mount:Mount Send: :GEC#\n",
      "INFO:Mount:Mount Read: -0601778424309260#\n",
      "INFO:Mount:Mount coordinates: <_sre.SRE_Match object; span=(0, 17), match='-0601778424309260'>\n"
     ]
    },
    {
     "name": "stdout",
     "output_type": "stream",
     "text": [
      "\n",
      "<SkyCoord (ICRS): (ra, dec) in deg\n",
      "    (101.28858333, -16.71606667)>"
     ]
    },
    {
     "name": "stderr",
     "output_type": "stream",
     "text": [
      "INFO:Mount:Mount Query & Params: get_status None\n",
      "INFO:Mount:Mount Send: :GAS#\n",
      "INFO:Mount:Mount Read: 110521#\n"
     ]
    },
    {
     "name": "stdout",
     "output_type": "stream",
     "text": [
      "\n",
      "{'hemisphere': 'Northern', 'gps': 'On', 'movement_speed': '64x sidereal', 'system': 'Tracking (PEC disabled)', 'tracking': 'Sidereal', 'time_source': 'Hand Controller'}"
     ]
    },
    {
     "name": "stderr",
     "output_type": "stream",
     "text": [
      "INFO:Mount:Mount Query & Params: set_ra 72639771\n",
      "INFO:Mount:Mount Send: :Sr72639771#\n",
      "INFO:Mount:Mount Read: 1\n",
      "INFO:Mount:Mount Query & Params: set_dec +5400000\n",
      "INFO:Mount:Mount Send: :Sd+5400000#\n",
      "INFO:Mount:Mount Read: 1\n",
      "INFO:Mount:Mount Query & Params: park None\n",
      "INFO:Mount:Mount Send: :MP1#\n",
      "INFO:Mount:Mount Read: 1\n"
     ]
    },
    {
     "name": "stdout",
     "output_type": "stream",
     "text": [
      "\n",
      "2015-08-17 21:49:11.286701"
     ]
    },
    {
     "name": "stderr",
     "output_type": "stream",
     "text": [
      "INFO:Mount:Mount Query & Params: get_coordinates None\n",
      "INFO:Mount:Mount Send: :GEC#\n",
      "INFO:Mount:Mount Read: -0601778424309230#\n",
      "INFO:Mount:Mount coordinates: <_sre.SRE_Match object; span=(0, 17), match='-0601778424309230'>\n"
     ]
    },
    {
     "name": "stdout",
     "output_type": "stream",
     "text": [
      "\n",
      "<SkyCoord (ICRS): (ra, dec) in deg\n",
      "    (101.28845833, -16.71606667)>"
     ]
    },
    {
     "name": "stderr",
     "output_type": "stream",
     "text": [
      "INFO:Mount:Mount Query & Params: get_status None\n",
      "INFO:Mount:Mount Send: :GAS#\n",
      "INFO:Mount:Mount Read: 120521#\n"
     ]
    },
    {
     "name": "stdout",
     "output_type": "stream",
     "text": [
      "\n",
      "{'hemisphere': 'Northern', 'gps': 'On', 'movement_speed': '64x sidereal', 'system': 'Slewing', 'tracking': 'Sidereal', 'time_source': 'Hand Controller'}\n"
     ]
    }
   ],
   "source": [
    "# Let's track this for some minutes\n",
    "print(Time.now())\n",
    "print(mount.get_current_coordinates())\n",
    "print(mount.status())\n",
    "\n",
    "time.sleep(60*5)\n",
    "\n",
    "print(Time.now())\n",
    "print(mount.get_current_coordinates())\n",
    "print(mount.status())\n",
    "\n",
    "mount.park()\n",
    "\n",
    "print(Time.now())\n",
    "print(mount.get_current_coordinates())\n",
    "print(mount.status())"
   ]
  },
  {
   "cell_type": "code",
   "execution_count": 50,
   "metadata": {
    "collapsed": false
   },
   "outputs": [
    {
     "data": {
      "text/plain": [
       "True"
      ]
     },
     "execution_count": 50,
     "metadata": {},
     "output_type": "execute_result"
    }
   ],
   "source": [
    "mount.is_parked"
   ]
  },
  {
   "cell_type": "markdown",
   "metadata": {},
   "source": [
    "We notice that our coordinates stayed the same after we issued park command. That is because the `park` command is non-blocking, so it issued the command but then immediately reported the coordinates."
   ]
  },
  {
   "cell_type": "markdown",
   "metadata": {},
   "source": [
    "Let's try tracking Regulus through the meridian"
   ]
  },
  {
   "cell_type": "code",
   "execution_count": 52,
   "metadata": {
    "collapsed": false
   },
   "outputs": [
    {
     "name": "stderr",
     "output_type": "stream",
     "text": [
      "INFO:Mount:Mount Query & Params: set_ra 36502311\n",
      "INFO:Mount:Mount Send: :Sr36502311#\n",
      "INFO:Mount:Mount Read: 1\n",
      "INFO:Mount:Mount Query & Params: set_dec +4308195\n",
      "INFO:Mount:Mount Send: :Sd+4308195#\n",
      "INFO:Mount:Mount Read: 1\n"
     ]
    },
    {
     "data": {
      "text/plain": [
       "True"
      ]
     },
     "execution_count": 52,
     "metadata": {},
     "output_type": "execute_result"
    }
   ],
   "source": [
    "mount.set_target_coordinates(SkyCoord.from_name('Regulus'))"
   ]
  },
  {
   "cell_type": "code",
   "execution_count": 53,
   "metadata": {
    "collapsed": false
   },
   "outputs": [
    {
     "name": "stderr",
     "output_type": "stream",
     "text": [
      "INFO:Mount:Mount Query & Params: unpark None\n",
      "INFO:Mount:Mount Send: :MP0#\n",
      "INFO:Mount:Mount Read: 1\n",
      "INFO:Mount:Mount unparked\n",
      "INFO:Mount:Mount Query & Params: slew_to_target None\n",
      "INFO:Mount:Mount Send: :MS#\n",
      "INFO:Mount:Mount Read: 1\n"
     ]
    },
    {
     "data": {
      "text/plain": [
       "'1'"
      ]
     },
     "execution_count": 53,
     "metadata": {},
     "output_type": "execute_result"
    }
   ],
   "source": [
    "mount.unpark()\n",
    "mount.slew_to_target()"
   ]
  },
  {
   "cell_type": "code",
   "execution_count": 54,
   "metadata": {
    "collapsed": false
   },
   "outputs": [
    {
     "name": "stderr",
     "output_type": "stream",
     "text": [
      "INFO:Mount:Mount Query & Params: get_coordinates None\n",
      "INFO:Mount:Mount Send: :GEC#\n",
      "INFO:Mount:Mount Read: +0430820636502360#\n",
      "INFO:Mount:Mount coordinates: <_sre.SRE_Match object; span=(0, 17), match='+0430820636502360'>\n"
     ]
    },
    {
     "name": "stdout",
     "output_type": "stream",
     "text": [
      "2015-08-17 22:23:51.884711\n",
      "<SkyCoord (ICRS): (ra, dec) in deg\n",
      "    (152.09316667, 11.96723889)>"
     ]
    },
    {
     "name": "stderr",
     "output_type": "stream",
     "text": [
      "INFO:Mount:Mount Query & Params: get_status None\n",
      "INFO:Mount:Mount Send: :GAS#\n",
      "INFO:Mount:Mount Read: 110521#\n"
     ]
    },
    {
     "name": "stdout",
     "output_type": "stream",
     "text": [
      "\n",
      "{'hemisphere': 'Northern', 'gps': 'On', 'movement_speed': '64x sidereal', 'system': 'Tracking (PEC disabled)', 'tracking': 'Sidereal', 'time_source': 'Hand Controller'}\n",
      "2015-08-17 23:53:53.011405"
     ]
    },
    {
     "name": "stderr",
     "output_type": "stream",
     "text": [
      "INFO:Mount:Mount Query & Params: get_coordinates None\n",
      "INFO:Mount:Mount Send: :GEC#\n",
      "INFO:Mount:Mount Read: +0430820636502320#\n",
      "INFO:Mount:Mount coordinates: <_sre.SRE_Match object; span=(0, 17), match='+0430820636502320'>\n"
     ]
    },
    {
     "name": "stdout",
     "output_type": "stream",
     "text": [
      "\n",
      "<SkyCoord (ICRS): (ra, dec) in deg\n",
      "    (152.093, 11.96723889)>"
     ]
    },
    {
     "name": "stderr",
     "output_type": "stream",
     "text": [
      "INFO:Mount:Mount Query & Params: get_status None\n",
      "INFO:Mount:Mount Send: :GAS#\n",
      "INFO:Mount:Mount Read: 110521#\n"
     ]
    },
    {
     "name": "stdout",
     "output_type": "stream",
     "text": [
      "\n",
      "{'hemisphere': 'Northern', 'gps': 'On', 'movement_speed': '64x sidereal', 'system': 'Tracking (PEC disabled)', 'tracking': 'Sidereal', 'time_source': 'Hand Controller'}"
     ]
    },
    {
     "name": "stderr",
     "output_type": "stream",
     "text": [
      "INFO:Mount:Mount Query & Params: set_ra 80144552\n",
      "INFO:Mount:Mount Send: :Sr80144552#\n",
      "INFO:Mount:Mount Read: 1\n",
      "INFO:Mount:Mount Query & Params: set_dec +5400000\n",
      "INFO:Mount:Mount Send: :Sd+5400000#\n",
      "INFO:Mount:Mount Read: 1\n",
      "INFO:Mount:Mount Query & Params: park None\n",
      "INFO:Mount:Mount Send: :MP1#\n",
      "INFO:Mount:Mount Read: 1\n"
     ]
    },
    {
     "name": "stdout",
     "output_type": "stream",
     "text": [
      "\n",
      "2015-08-17 23:53:55.569408"
     ]
    },
    {
     "name": "stderr",
     "output_type": "stream",
     "text": [
      "INFO:Mount:Mount Query & Params: get_coordinates None\n",
      "INFO:Mount:Mount Send: :GEC#\n",
      "INFO:Mount:Mount Read: +0430820636502210#\n",
      "INFO:Mount:Mount coordinates: <_sre.SRE_Match object; span=(0, 17), match='+0430820636502210'>\n"
     ]
    },
    {
     "name": "stdout",
     "output_type": "stream",
     "text": [
      "\n",
      "<SkyCoord (ICRS): (ra, dec) in deg\n",
      "    (152.09254167, 11.96723889)>"
     ]
    },
    {
     "name": "stderr",
     "output_type": "stream",
     "text": [
      "INFO:Mount:Mount Query & Params: get_status None\n",
      "INFO:Mount:Mount Send: :GAS#\n",
      "INFO:Mount:Mount Read: 120521#\n"
     ]
    },
    {
     "name": "stdout",
     "output_type": "stream",
     "text": [
      "\n",
      "{'hemisphere': 'Northern', 'gps': 'On', 'movement_speed': '64x sidereal', 'system': 'Slewing', 'tracking': 'Sidereal', 'time_source': 'Hand Controller'}\n"
     ]
    }
   ],
   "source": [
    "print(Time.now())\n",
    "print(mount.get_current_coordinates())\n",
    "print(mount.status())\n",
    "\n",
    "# 1.5 hours\n",
    "time.sleep(60*90)\n",
    "\n",
    "print(Time.now())\n",
    "print(mount.get_current_coordinates())\n",
    "print(mount.status())\n",
    "\n",
    "mount.park()\n",
    "\n",
    "print(Time.now())\n",
    "print(mount.get_current_coordinates())\n",
    "print(mount.status())"
   ]
  },
  {
   "cell_type": "code",
   "execution_count": 55,
   "metadata": {
    "collapsed": false
   },
   "outputs": [
    {
     "name": "stderr",
     "output_type": "stream",
     "text": [
      "INFO:Mount:Mount Query & Params: get_status None\n",
      "INFO:Mount:Mount Send: :GAS#\n",
      "INFO:Mount:Mount Read: 120521#\n"
     ]
    },
    {
     "data": {
      "text/plain": [
       "{'gps': 'On',\n",
       " 'hemisphere': 'Northern',\n",
       " 'movement_speed': '64x sidereal',\n",
       " 'system': 'Slewing',\n",
       " 'time_source': 'Hand Controller',\n",
       " 'tracking': 'Sidereal'}"
      ]
     },
     "execution_count": 55,
     "metadata": {},
     "output_type": "execute_result"
    }
   ],
   "source": [
    "mount.status()"
   ]
  }
 ],
 "metadata": {
  "kernelspec": {
   "display_name": "Python 3",
   "language": "python",
   "name": "python3"
  },
  "language_info": {
   "codemirror_mode": {
    "name": "ipython",
    "version": 3
   },
   "file_extension": ".py",
   "mimetype": "text/x-python",
   "name": "python",
   "nbconvert_exporter": "python",
   "pygments_lexer": "ipython3",
   "version": "3.4.3"
  }
 },
 "nbformat": 4,
 "nbformat_minor": 0
}
