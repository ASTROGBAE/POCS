{
 "cells": [
  {
   "cell_type": "code",
   "execution_count": 1,
   "metadata": {
    "collapsed": false
   },
   "outputs": [
    {
     "name": "stderr",
     "output_type": "stream",
     "text": [
      "/home/wtgee/anaconda3/lib/python3.4/site-packages/IPython/kernel/__init__.py:13: ShimWarning: The `IPython.kernel` package has been deprecated. You should import from ipykernel or jupyter_client instead.\n",
      "  \"You should import from ipykernel or jupyter_client instead.\", ShimWarning)\n"
     ]
    }
   ],
   "source": [
    "# Load the PANOPTES module dir\n",
    "import sys\n",
    "sys.path.append('../..')\n",
    "\n",
    "import astropy.units as u\n",
    "from astropy.time import Time\n",
    "from astropy.coordinates import SkyCoord\n",
    "\n",
    "import time\n",
    "\n",
    "# For development\n",
    "%load_ext autoreload\n",
    "%autoreload 2"
   ]
  },
  {
   "cell_type": "code",
   "execution_count": 2,
   "metadata": {
    "collapsed": false
   },
   "outputs": [
    {
     "name": "stderr",
     "output_type": "stream",
     "text": [
      "INFO:PanoptesLogger:Adding warning logging to: PanError\n",
      "INFO:PanoptesLogger:Adding warning logging to: SerialData\n",
      "INFO:PanoptesLogger:Adding warning logging to: PanStateMachine\n",
      "INFO:PanoptesLogger:Adding warning logging to: Target\n",
      "INFO:PanoptesLogger:Adding warning logging to: Observation\n",
      "INFO:PanoptesLogger:Adding warning logging to: Scheduler\n",
      "INFO:PanoptesLogger:Adding warning logging to: Observatory\n",
      "INFO:PanoptesLogger:Adding warning logging to: Panoptes\n",
      "INFO:PanoptesLogger:Adding warning logging to: Messaging\n",
      "INFO:PanoptesLogger:Adding warning logging to: EnvironmentalMonitor\n",
      "INFO:PanoptesLogger:Adding warning logging to: Webcams\n",
      "INFO:PanoptesLogger:Adding warning logging to: PanSensors\n"
     ]
    }
   ],
   "source": [
    "from panoptes import Panoptes"
   ]
  },
  {
   "cell_type": "code",
   "execution_count": 3,
   "metadata": {
    "collapsed": false
   },
   "outputs": [
    {
     "name": "stderr",
     "output_type": "stream",
     "text": [
      "INFO:Panoptes:********************************************************************************\n",
      "INFO:Panoptes:Initializing PANOPTES unit\n",
      "INFO:Panoptes:Using default state machine file: simple_state_table\n",
      "INFO:Panoptes:Setting up interrupt handlers for state machine\n",
      "INFO:Panoptes:State machine created\n",
      "INFO:Panoptes:Checking config\n",
      "INFO:Panoptes:Welcome PAN 001\n",
      "INFO:Panoptes:Setting up database connection\n",
      "INFO:Panoptes:Setting up observatory\n",
      "INFO:Observatory:Initializing observatory\n",
      "INFO:Observatory:\t Setting up observatory details\n",
      "INFO:Observatory:Setting up site details of observatory\n",
      "INFO:Observatory:\t Setting up mount\n",
      "INFO:Observatory:Creating mount: ioptron\n",
      "INFO:PanoptesLogger:Adding warning logging to: AbstractMount\n",
      "INFO:PanoptesLogger:Adding warning logging to: Mount\n",
      "INFO:Mount:Creating iOptron mount\n",
      "INFO:Mount:Setting up commands for mount\n",
      "INFO:Mount:Loading mount commands file: /var/panoptes/POCS/resources//conf_files/mounts/ioptron.yaml\n",
      "INFO:Mount:Mount commands updated from /var/panoptes/POCS/resources//conf_files/mounts/ioptron.yaml\n",
      "INFO:Mount:Mount commands set up\n",
      "INFO:SerialData:SerialData created\n",
      "INFO:Mount:Mount created\n",
      "INFO:Observatory:\t Setting up cameras\n",
      "INFO:Observatory:\t Setting up scheduler\n"
     ]
    }
   ],
   "source": [
    "pan = Panoptes()"
   ]
  },
  {
   "cell_type": "code",
   "execution_count": 5,
   "metadata": {
    "collapsed": false
   },
   "outputs": [
    {
     "name": "stderr",
     "output_type": "stream",
     "text": [
      "INFO:Mount:Initializing panoptes.mount.ioptron mount\n",
      "INFO:Mount:Connecting to mount\n",
      "INFO:Mount:Making serial connection for mount at /dev/ttyUSB0\n",
      "INFO:SerialData:Serial connect called\n",
      "INFO:SerialData:Serial connection established to mount\n",
      "INFO:Mount:Mount connected via serial\n",
      "INFO:Mount:Mount connected: True\n",
      "INFO:Mount:Setting up mount for location\n",
      "INFO:Mount:Mount initialized: True\n"
     ]
    },
    {
     "data": {
      "text/plain": [
       "True"
      ]
     },
     "execution_count": 5,
     "metadata": {},
     "output_type": "execute_result"
    }
   ],
   "source": [
    "mount = pan.observatory.mount\n",
    "mount.is_initialized = False\n",
    "mount.initialize()"
   ]
  },
  {
   "cell_type": "code",
   "execution_count": 15,
   "metadata": {
    "collapsed": false
   },
   "outputs": [
    {
     "name": "stderr",
     "output_type": "stream",
     "text": [
      "INFO:Mount:Park Coordinates RA-Dec: <SkyCoord (ICRS): (ra, dec) in deg\n",
      "    (334.94805382, -10.0)>\n"
     ]
    },
    {
     "data": {
      "text/plain": [
       "1"
      ]
     },
     "execution_count": 15,
     "metadata": {},
     "output_type": "execute_result"
    }
   ],
   "source": [
    "mount.park()"
   ]
  },
  {
   "cell_type": "code",
   "execution_count": 16,
   "metadata": {
    "collapsed": false
   },
   "outputs": [
    {
     "name": "stderr",
     "output_type": "stream",
     "text": [
      "INFO:Mount:Mount unparked\n"
     ]
    },
    {
     "data": {
      "text/plain": [
       "1"
      ]
     },
     "execution_count": 16,
     "metadata": {},
     "output_type": "execute_result"
    }
   ],
   "source": [
    "mount.unpark()\n",
    "mount.slew_to_home()"
   ]
  },
  {
   "cell_type": "code",
   "execution_count": 13,
   "metadata": {
    "collapsed": false
   },
   "outputs": [
    {
     "name": "stderr",
     "output_type": "stream",
     "text": [
      "INFO:Mount:Mount response: 1\n",
      "INFO:Mount:Slewing to target\n"
     ]
    },
    {
     "name": "stdout",
     "output_type": "stream",
     "text": [
      "<SkyCoord (ICRS): (ra, dec) in deg\n",
      "    (201.29824736, -11.16131948)>\n"
     ]
    }
   ],
   "source": [
    "target = SkyCoord.from_name('Spica')\n",
    "print(target)\n",
    "\n",
    "if mount.set_target_coordinates(target):\n",
    "    mount.slew_to_target()"
   ]
  },
  {
   "cell_type": "code",
   "execution_count": 11,
   "metadata": {
    "collapsed": false
   },
   "outputs": [
    {
     "name": "stderr",
     "output_type": "stream",
     "text": [
      "INFO:Mount:Mount response: 1\n",
      "INFO:Mount:Slewing to target\n"
     ]
    },
    {
     "name": "stdout",
     "output_type": "stream",
     "text": [
      "<SkyCoord (ICRS): (ra, dec) in deg\n",
      "    (101.28715533, -16.71611586)>\n"
     ]
    }
   ],
   "source": [
    "target = SkyCoord.from_name('Sirius')\n",
    "print(target)\n",
    "\n",
    "if mount.set_target_coordinates(target):\n",
    "    mount.slew_to_target()"
   ]
  },
  {
   "cell_type": "code",
   "execution_count": 15,
   "metadata": {
    "collapsed": false
   },
   "outputs": [
    {
     "name": "stderr",
     "output_type": "stream",
     "text": [
      "INFO:Mount:Mount coordinates: <_sre.SRE_Match object; span=(0, 17), match='+2079891322486350'>\n"
     ]
    },
    {
     "data": {
      "text/plain": [
       "<SkyCoord (ICRS): (ra, dec) in deg\n",
       "    (93.693125, 57.77475833)>"
      ]
     },
     "execution_count": 15,
     "metadata": {},
     "output_type": "execute_result"
    }
   ],
   "source": [
    "mount.get_current_coordinates()"
   ]
  },
  {
   "cell_type": "code",
   "execution_count": 11,
   "metadata": {
    "collapsed": false
   },
   "outputs": [
    {
     "name": "stderr",
     "output_type": "stream",
     "text": [
      "INFO:Mount:Park Coordinates RA-Dec: <SkyCoord (ICRS): (ra, dec) in deg\n",
      "    (339.9051387, -10.0)>\n"
     ]
    },
    {
     "data": {
      "text/plain": [
       "1"
      ]
     },
     "execution_count": 11,
     "metadata": {},
     "output_type": "execute_result"
    }
   ],
   "source": [
    "mount.park()"
   ]
  }
 ],
 "metadata": {
  "kernelspec": {
   "display_name": "Python 3",
   "language": "python",
   "name": "python3"
  },
  "language_info": {
   "codemirror_mode": {
    "name": "ipython",
    "version": 3
   },
   "file_extension": ".py",
   "mimetype": "text/x-python",
   "name": "python",
   "nbconvert_exporter": "python",
   "pygments_lexer": "ipython3",
   "version": "3.4.3"
  }
 },
 "nbformat": 4,
 "nbformat_minor": 0
}
