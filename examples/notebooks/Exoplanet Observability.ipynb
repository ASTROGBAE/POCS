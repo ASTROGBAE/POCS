{
 "cells": [
  {
   "cell_type": "code",
   "execution_count": 1,
   "metadata": {
    "collapsed": false
   },
   "outputs": [
    {
     "name": "stderr",
     "output_type": "stream",
     "text": [
      "/home/wtgee/anaconda3/lib/python3.4/site-packages/IPython/kernel/__init__.py:13: ShimWarning: The `IPython.kernel` package has been deprecated. You should import from ipykernel or jupyter_client instead.\n",
      "  \"You should import from ipykernel or jupyter_client instead.\", ShimWarning)\n"
     ]
    }
   ],
   "source": [
    "import numpy as np\n",
    "import astropy.units as u\n",
    "import astropy.coordinates as coord\n",
    "from astropy.time import Time\n",
    "from astropy.coordinates import SkyCoord, EarthLocation, AltAz\n",
    "\n",
    "from astroquery import open_exoplanet_catalogue as oec\n",
    "\n",
    "%matplotlib inline\n",
    "import matplotlib.pyplot as plt\n",
    "\n",
    "import IPython.display as display\n",
    "\n",
    "# Load the PANOPTES module dir\n",
    "import sys\n",
    "sys.path.append('../..')\n",
    "\n",
    "# For development\n",
    "%load_ext autoreload\n",
    "%autoreload 2\n",
    "\n",
    "import matplotlib\n",
    "matplotlib.style.use('ggplot')"
   ]
  },
  {
   "cell_type": "code",
   "execution_count": 2,
   "metadata": {
    "collapsed": false
   },
   "outputs": [],
   "source": [
    "from astroplan import Observer, FixedTarget\n",
    "from astroplan.plots import plot_sky, plot_airmass\n",
    "\n",
    "from astroplan import (AltitudeConstraint, AirmassConstraint, AtNightConstraint)\n",
    "from astroplan import is_observable, is_always_observable, time_grid_from_range"
   ]
  },
  {
   "cell_type": "markdown",
   "metadata": {},
   "source": [
    "### Downloads\n",
    "\n",
    "Below are two files that should be download to work with the notebook below. The system should be smart about handling the caching but they may take a while initially"
   ]
  },
  {
   "cell_type": "code",
   "execution_count": 3,
   "metadata": {
    "collapsed": true
   },
   "outputs": [],
   "source": [
    "from astropy.utils.data import download_file\n",
    "from astropy.utils import iers\n",
    "iers.IERS.iers_table = iers.IERS_A.open(download_file(iers.IERS_A_URL, cache=True))\n",
    "\n",
    "# getting the catalogue from the default remote source\n",
    "oec_catalog = oec.get_catalogue()"
   ]
  },
  {
   "cell_type": "code",
   "execution_count": 4,
   "metadata": {
    "collapsed": false
   },
   "outputs": [
    {
     "name": "stderr",
     "output_type": "stream",
     "text": [
      "INFO:PanoptesLogger:Adding warning logging to: PanError\n",
      "INFO:PanoptesLogger:Adding warning logging to: SerialData\n",
      "INFO:PanoptesLogger:Adding warning logging to: Target\n",
      "INFO:PanoptesLogger:Adding warning logging to: Observation\n",
      "INFO:PanoptesLogger:Adding warning logging to: Scheduler\n",
      "INFO:PanoptesLogger:Adding warning logging to: Observatory\n",
      "INFO:PanoptesLogger:Adding warning logging to: Panoptes\n",
      "INFO:PanoptesLogger:Adding warning logging to: Messaging\n",
      "INFO:PanoptesLogger:Adding warning logging to: EnvironmentalMonitor\n",
      "INFO:PanoptesLogger:Adding warning logging to: WeatherStation\n",
      "INFO:PanoptesLogger:Adding warning logging to: Webcams\n",
      "INFO:PanoptesLogger:Adding warning logging to: PanSensors\n"
     ]
    }
   ],
   "source": [
    "# Import our base class\n",
    "from panoptes import Panoptes"
   ]
  },
  {
   "cell_type": "code",
   "execution_count": 5,
   "metadata": {
    "collapsed": false
   },
   "outputs": [
    {
     "name": "stderr",
     "output_type": "stream",
     "text": [
      "INFO:Panoptes:********************************************************************************\n",
      "INFO:Panoptes:Initializing PANOPTES unit\n",
      "INFO:Panoptes:Checking config\n",
      "INFO:Panoptes:Welcome PAN 001\n",
      "INFO:Panoptes:Setting up database connection\n",
      "INFO:Panoptes:Setting up observatory\n",
      "INFO:Observatory:Initializing observatory\n",
      "INFO:Observatory:\t Setting up observatory details\n",
      "INFO:Observatory:Setting up site details of observatory\n",
      "INFO:Observatory:\t Setting up mount\n",
      "INFO:Observatory:Creating mount: ioptron\n",
      "INFO:PanoptesLogger:Adding warning logging to: AbstractMount\n",
      "INFO:PanoptesLogger:Adding warning logging to: Mount\n",
      "INFO:Mount:Creating iOptron mount\n",
      "INFO:Mount:Setting up commands for mount\n",
      "INFO:Mount:Loading mount commands file: /var/panoptes/POCS/resources//conf_files/mounts/ioptron.yaml\n",
      "INFO:Mount:Mount commands updated from /var/panoptes/POCS/resources//conf_files/mounts/ioptron.yaml\n",
      "INFO:Mount:Mount commands set up\n",
      "INFO:SerialData:SerialData created\n",
      "INFO:Mount:Mount created\n",
      "INFO:Observatory:\t Setting up cameras\n",
      "INFO:Observatory:\t Setting up scheduler\n"
     ]
    }
   ],
   "source": [
    "# Get an instance of our Panoptes object\n",
    "pan = Panoptes()"
   ]
  },
  {
   "cell_type": "code",
   "execution_count": 9,
   "metadata": {
    "collapsed": false
   },
   "outputs": [
    {
     "data": {
      "text/plain": [
       "'http://var2.astro.cz/ETD/predict_detail.php?STARNAME=WASP-69&PLANET=b&delka=-155.58 deg&sirka=19.54 deg'"
      ]
     },
     "execution_count": 9,
     "metadata": {},
     "output_type": "execute_result"
    }
   ],
   "source": [
    "lon = pan.observatory.location.longitude\n",
    "lat = pan.observatory.location.latitude\n",
    "\n",
    "target_name = 'WASP-69'\n",
    "\n",
    "exo_transit_url = 'http://var2.astro.cz/ETD/predict_detail.php?STARNAME={}&PLANET=b&delka={}&sirka={:2.02f}'.format(target_name,lon, lat)\n",
    "exo_transit_url"
   ]
  },
  {
   "cell_type": "code",
   "execution_count": 10,
   "metadata": {
    "collapsed": false
   },
   "outputs": [
    {
     "data": {
      "text/html": [
       "\n",
       "        <iframe\n",
       "            width=\"900\"\n",
       "            height=\"400\"\n",
       "            src=\"http://var2.astro.cz/ETD/predict_detail.php?STARNAME=WASP-69&PLANET=b&delka=-155.58 deg&sirka=19.54 deg\"\n",
       "            frameborder=\"0\"\n",
       "            allowfullscreen\n",
       "        ></iframe>\n",
       "        "
      ],
      "text/plain": [
       "<IPython.lib.display.IFrame at 0x7f9ddb7094e0>"
      ]
     },
     "execution_count": 10,
     "metadata": {},
     "output_type": "execute_result"
    }
   ],
   "source": [
    "display.IFrame(exo_transit_url, 900, 400)"
   ]
  },
  {
   "cell_type": "code",
   "execution_count": 4,
   "metadata": {
    "collapsed": false
   },
   "outputs": [
    {
     "ename": "NameError",
     "evalue": "name 'target_name' is not defined",
     "output_type": "error",
     "traceback": [
      "\u001b[1;31m---------------------------------------------------------------------------\u001b[0m",
      "\u001b[1;31mNameError\u001b[0m                                 Traceback (most recent call last)",
      "\u001b[1;32m<ipython-input-4-647a86669cca>\u001b[0m in \u001b[0;36m<module>\u001b[1;34m()\u001b[0m\n\u001b[0;32m      1\u001b[0m \u001b[1;31m# Get our target\u001b[0m\u001b[1;33m\u001b[0m\u001b[1;33m\u001b[0m\u001b[0m\n\u001b[1;32m----> 2\u001b[1;33m \u001b[0mwasp69\u001b[0m \u001b[1;33m=\u001b[0m \u001b[0mSkyCoord\u001b[0m\u001b[1;33m.\u001b[0m\u001b[0mfrom_name\u001b[0m\u001b[1;33m(\u001b[0m\u001b[0mtarget_name\u001b[0m\u001b[1;33m)\u001b[0m\u001b[1;33m\u001b[0m\u001b[0m\n\u001b[0m\u001b[0;32m      3\u001b[0m \u001b[0mtarget\u001b[0m \u001b[1;33m=\u001b[0m \u001b[0mFixedTarget\u001b[0m\u001b[1;33m(\u001b[0m\u001b[0mwasp69\u001b[0m\u001b[1;33m,\u001b[0m \u001b[0mname\u001b[0m\u001b[1;33m=\u001b[0m\u001b[1;34m\"Wasp-69\"\u001b[0m\u001b[1;33m)\u001b[0m\u001b[1;33m\u001b[0m\u001b[0m\n",
      "\u001b[1;31mNameError\u001b[0m: name 'target_name' is not defined"
     ]
    }
   ],
   "source": [
    "# Get our target\n",
    "wasp69 = SkyCoord.from_name(target_name)\n",
    "target = FixedTarget(wasp69, name=\"Wasp-69\")"
   ]
  },
  {
   "cell_type": "code",
   "execution_count": 20,
   "metadata": {
    "collapsed": false
   },
   "outputs": [
    {
     "data": {
      "text/plain": [
       "'2015-09-06 05:48:44.825'"
      ]
     },
     "execution_count": 20,
     "metadata": {},
     "output_type": "execute_result"
    }
   ],
   "source": [
    "evening = pan.observatory.twilight_evening_astronomical(Time.now())\n",
    "evening.iso"
   ]
  },
  {
   "cell_type": "code",
   "execution_count": 21,
   "metadata": {
    "collapsed": false
   },
   "outputs": [
    {
     "data": {
      "text/plain": [
       "'2015-09-05 14:53:35.481'"
      ]
     },
     "execution_count": 21,
     "metadata": {},
     "output_type": "execute_result"
    }
   ],
   "source": [
    "morning = pan.observatory.twilight_morning_astronomical(Time.now())\n",
    "morning.iso"
   ]
  },
  {
   "cell_type": "code",
   "execution_count": 40,
   "metadata": {
    "collapsed": false
   },
   "outputs": [
    {
     "data": {
      "text/plain": [
       "<Time object: scale='utc' format='jd' value=[ 2457271.12054955  2457271.14138289  2457271.16221622  2457271.18304955\n",
       "  2457271.20388289  2457271.22471622  2457271.24554955  2457271.26638289\n",
       "  2457271.28721622  2457271.30804956  2457271.32888289  2457271.34971622\n",
       "  2457271.37054956  2457271.39138289  2457271.41221622  2457271.43304956\n",
       "  2457271.45388289  2457271.47471622  2457271.49554956  2457271.51638289\n",
       "  2457271.53721622  2457271.55804956  2457271.57888289  2457271.59971622\n",
       "  2457271.62054956  2457271.64138289  2457271.66221622  2457271.68304956\n",
       "  2457271.70388289  2457271.72471623]>"
      ]
     },
     "execution_count": 40,
     "metadata": {},
     "output_type": "execute_result"
    }
   ],
   "source": [
    "time_range = time_grid_from_range((morning,evening))\n",
    "\n",
    "time_range"
   ]
  },
  {
   "cell_type": "code",
   "execution_count": 41,
   "metadata": {
    "collapsed": false
   },
   "outputs": [],
   "source": [
    "constraints = [AltitudeConstraint(10*u.deg, 80*u.deg),\n",
    "               AirmassConstraint(5), AtNightConstraint.twilight_civil()]"
   ]
  },
  {
   "cell_type": "code",
   "execution_count": 42,
   "metadata": {
    "collapsed": false
   },
   "outputs": [
    {
     "data": {
      "text/plain": [
       "array([False], dtype=bool)"
      ]
     },
     "execution_count": 42,
     "metadata": {},
     "output_type": "execute_result"
    }
   ],
   "source": [
    "ever_observable = is_observable(constraints, pan.observatory, [target], time_range=time_range)\n",
    "ever_observable"
   ]
  },
  {
   "cell_type": "code",
   "execution_count": 43,
   "metadata": {
    "collapsed": false
   },
   "outputs": [
    {
     "data": {
      "text/plain": [
       "array([False], dtype=bool)"
      ]
     },
     "execution_count": 43,
     "metadata": {},
     "output_type": "execute_result"
    }
   ],
   "source": [
    "always_observable = is_always_observable(constraints, pan.observatory, [target], time_range=time_range)\n",
    "always_observable"
   ]
  },
  {
   "cell_type": "code",
   "execution_count": 44,
   "metadata": {
    "collapsed": false
   },
   "outputs": [
    {
     "name": "stderr",
     "output_type": "stream",
     "text": [
      "WARNING: PlotBelowHorizonWarning: Target \"Wasp-69\" is below the horizon at time: 2457271.120549554 [astroplan.plots.sky]\n",
      "WARNING:astropy:PlotBelowHorizonWarning: Target \"Wasp-69\" is below the horizon at time: 2457271.120549554\n",
      "WARNING: PlotBelowHorizonWarning: Target \"Wasp-69\" is below the horizon at time: 2457271.1413828875 [astroplan.plots.sky]\n",
      "WARNING:astropy:PlotBelowHorizonWarning: Target \"Wasp-69\" is below the horizon at time: 2457271.1413828875\n",
      "WARNING: PlotBelowHorizonWarning: Target \"Wasp-69\" is below the horizon at time: 2457271.162216221 [astroplan.plots.sky]\n",
      "WARNING:astropy:PlotBelowHorizonWarning: Target \"Wasp-69\" is below the horizon at time: 2457271.162216221\n",
      "WARNING: PlotBelowHorizonWarning: Target \"Wasp-69\" is below the horizon at time: 2457271.1830495545 [astroplan.plots.sky]\n",
      "WARNING:astropy:PlotBelowHorizonWarning: Target \"Wasp-69\" is below the horizon at time: 2457271.1830495545\n",
      "WARNING: PlotBelowHorizonWarning: Target \"Wasp-69\" is below the horizon at time: 2457271.203882888 [astroplan.plots.sky]\n",
      "WARNING:astropy:PlotBelowHorizonWarning: Target \"Wasp-69\" is below the horizon at time: 2457271.203882888\n",
      "WARNING: PlotBelowHorizonWarning: Target \"Wasp-69\" is below the horizon at time: 2457271.2247162214 [astroplan.plots.sky]\n",
      "WARNING:astropy:PlotBelowHorizonWarning: Target \"Wasp-69\" is below the horizon at time: 2457271.2247162214\n",
      "WARNING: PlotBelowHorizonWarning: Target \"Wasp-69\" is below the horizon at time: 2457271.245549555 [astroplan.plots.sky]\n",
      "WARNING:astropy:PlotBelowHorizonWarning: Target \"Wasp-69\" is below the horizon at time: 2457271.245549555\n",
      "WARNING: PlotBelowHorizonWarning: Target \"Wasp-69\" is below the horizon at time: 2457271.2663828884 [astroplan.plots.sky]\n",
      "WARNING:astropy:PlotBelowHorizonWarning: Target \"Wasp-69\" is below the horizon at time: 2457271.2663828884\n",
      "WARNING: PlotBelowHorizonWarning: Target \"Wasp-69\" is below the horizon at time: 2457271.287216222 [astroplan.plots.sky]\n",
      "WARNING:astropy:PlotBelowHorizonWarning: Target \"Wasp-69\" is below the horizon at time: 2457271.287216222\n",
      "WARNING: PlotBelowHorizonWarning: Target \"Wasp-69\" is below the horizon at time: 2457271.3080495554 [astroplan.plots.sky]\n",
      "WARNING:astropy:PlotBelowHorizonWarning: Target \"Wasp-69\" is below the horizon at time: 2457271.3080495554\n",
      "WARNING: PlotBelowHorizonWarning: Target \"Wasp-69\" is below the horizon at time: 2457271.328882889 [astroplan.plots.sky]\n",
      "WARNING:astropy:PlotBelowHorizonWarning: Target \"Wasp-69\" is below the horizon at time: 2457271.328882889\n",
      "WARNING: PlotBelowHorizonWarning: Target \"Wasp-69\" is below the horizon at time: 2457271.3497162224 [astroplan.plots.sky]\n",
      "WARNING:astropy:PlotBelowHorizonWarning: Target \"Wasp-69\" is below the horizon at time: 2457271.3497162224\n",
      "WARNING: PlotBelowHorizonWarning: Target \"Wasp-69\" is below the horizon at time: 2457271.370549556 [astroplan.plots.sky]\n",
      "WARNING:astropy:PlotBelowHorizonWarning: Target \"Wasp-69\" is below the horizon at time: 2457271.370549556\n",
      "WARNING: PlotBelowHorizonWarning: Target \"Wasp-69\" is below the horizon at time: 2457271.3913828894 [astroplan.plots.sky]\n",
      "WARNING:astropy:PlotBelowHorizonWarning: Target \"Wasp-69\" is below the horizon at time: 2457271.3913828894\n",
      "WARNING: PlotBelowHorizonWarning: Target \"Wasp-69\" is below the horizon at time: 2457271.412216223 [astroplan.plots.sky]\n",
      "WARNING:astropy:PlotBelowHorizonWarning: Target \"Wasp-69\" is below the horizon at time: 2457271.412216223\n",
      "WARNING: PlotBelowHorizonWarning: Target \"Wasp-69\" is below the horizon at time: 2457271.4330495563 [astroplan.plots.sky]\n",
      "WARNING:astropy:PlotBelowHorizonWarning: Target \"Wasp-69\" is below the horizon at time: 2457271.4330495563\n",
      "WARNING: PlotBelowHorizonWarning: Target \"Wasp-69\" is below the horizon at time: 2457271.45388289 [astroplan.plots.sky]\n",
      "WARNING:astropy:PlotBelowHorizonWarning: Target \"Wasp-69\" is below the horizon at time: 2457271.45388289\n",
      "WARNING: PlotBelowHorizonWarning: Target \"Wasp-69\" is below the horizon at time: 2457271.4747162233 [astroplan.plots.sky]\n",
      "WARNING:astropy:PlotBelowHorizonWarning: Target \"Wasp-69\" is below the horizon at time: 2457271.4747162233\n",
      "WARNING: PlotBelowHorizonWarning: Target \"Wasp-69\" is below the horizon at time: 2457271.495549557 [astroplan.plots.sky]\n",
      "WARNING:astropy:PlotBelowHorizonWarning: Target \"Wasp-69\" is below the horizon at time: 2457271.495549557\n",
      "WARNING: PlotBelowHorizonWarning: Target \"Wasp-69\" is below the horizon at time: 2457271.5163828903 [astroplan.plots.sky]\n",
      "WARNING:astropy:PlotBelowHorizonWarning: Target \"Wasp-69\" is below the horizon at time: 2457271.5163828903\n",
      "WARNING: PlotBelowHorizonWarning: Target \"Wasp-69\" is below the horizon at time: 2457271.537216224 [astroplan.plots.sky]\n",
      "WARNING:astropy:PlotBelowHorizonWarning: Target \"Wasp-69\" is below the horizon at time: 2457271.537216224\n",
      "WARNING: PlotBelowHorizonWarning: Target \"Wasp-69\" is below the horizon at time: 2457271.5580495573 [astroplan.plots.sky]\n",
      "WARNING:astropy:PlotBelowHorizonWarning: Target \"Wasp-69\" is below the horizon at time: 2457271.5580495573\n",
      "WARNING: PlotBelowHorizonWarning: Target \"Wasp-69\" is below the horizon at time: 2457271.5788828908 [astroplan.plots.sky]\n",
      "WARNING:astropy:PlotBelowHorizonWarning: Target \"Wasp-69\" is below the horizon at time: 2457271.5788828908\n",
      "WARNING: PlotBelowHorizonWarning: Target \"Wasp-69\" is below the horizon at time: 2457271.5997162242 [astroplan.plots.sky]\n",
      "WARNING:astropy:PlotBelowHorizonWarning: Target \"Wasp-69\" is below the horizon at time: 2457271.5997162242\n"
     ]
    },
    {
     "data": {
      "text/plain": [
       "<matplotlib.axes._subplots.PolarAxesSubplot at 0x7f9ddb05c1d0>"
      ]
     },
     "execution_count": 44,
     "metadata": {},
     "output_type": "execute_result"
    },
    {
     "data": {
      "image/png": "[encoded data removed]",
      "text/plain": [
       "<matplotlib.figure.Figure at 0x7f9ddb17c278>"
      ]
     },
     "metadata": {},
     "output_type": "display_data"
    }
   ],
   "source": [
    "plot_sky(target, pan.observatory, time_range)"
   ]
  },
  {
   "cell_type": "code",
   "execution_count": 47,
   "metadata": {
    "collapsed": false
   },
   "outputs": [
    {
     "data": {
      "text/plain": [
       "<matplotlib.axes._subplots.AxesSubplot at 0x7f9ddb0295f8>"
      ]
     },
     "execution_count": 47,
     "metadata": {},
     "output_type": "execute_result"
    },
    {
     "data": {
      "image/png": "[encoded data removed]",
      "text/plain": [
       "<matplotlib.figure.Figure at 0x7f9ddb034860>"
      ]
     },
     "metadata": {},
     "output_type": "display_data"
    }
   ],
   "source": [
    "plot_airmass(target, pan.observatory, Time.now())"
   ]
  },
  {
   "cell_type": "code",
   "execution_count": null,
   "metadata": {
    "collapsed": true
   },
   "outputs": [],
   "source": []
  },
  {
   "cell_type": "code",
   "execution_count": null,
   "metadata": {
    "collapsed": true
   },
   "outputs": [],
   "source": []
  },
  {
   "cell_type": "code",
   "execution_count": null,
   "metadata": {
    "collapsed": true
   },
   "outputs": [],
   "source": []
  },
  {
   "cell_type": "code",
   "execution_count": null,
   "metadata": {
    "collapsed": true
   },
   "outputs": [],
   "source": []
  },
  {
   "cell_type": "code",
   "execution_count": null,
   "metadata": {
    "collapsed": false
   },
   "outputs": [],
   "source": [
    "# Get the AltAz for the object\n",
    "wasp33b_altaz = wasp33b.transform_to(AltAz(obstime=midnight+delta_midnight, location=pan.observatory.location))"
   ]
  },
  {
   "cell_type": "code",
   "execution_count": null,
   "metadata": {
    "collapsed": false
   },
   "outputs": [],
   "source": [
    "plt.figure(figsize=(12,9))\n",
    "\n",
    "plt.plot(delta_midnight, sun_altaz.alt, color='y', label='Sun')  \n",
    "plt.scatter(delta_midnight, wasp33b_altaz.alt, c='g', label='WASP-33b', lw=0, s=8)  \n",
    "\n",
    "plt.fill_between(delta_midnight, 0, 90, sun_altaz.alt < -0*u.deg, color='b', alpha=0.25, zorder=0)  \n",
    "plt.fill_between(delta_midnight, 0, 90, sun_altaz.alt < -18*u.deg, color='b', alpha=0.05, zorder=0)  \n",
    "\n",
    "plt.hlines(30, -12, 12, linestyles='dashed', label='Horizon Line')\n",
    "\n",
    "plt.title(\"Observability for {} at {} \\n {}\".format('WASP-33b', pan.observatory.name, midnight.value))\n",
    "plt.legend(loc='upper left')\n",
    "plt.xlim(-12, 12)  \n",
    "plt.xticks(np.arange(13)*2 -12)  \n",
    "plt.ylim(0, 90)  \n",
    "plt.xlabel('Hours from EDT Midnight')  \n",
    "plt.ylabel('Altitude [deg]')   "
   ]
  },
  {
   "cell_type": "code",
   "execution_count": null,
   "metadata": {
    "collapsed": false
   },
   "outputs": [],
   "source": [
    "target = wasp33b\n",
    "observer = pan.observatory\n",
    "observe_time = Time.now()\n",
    "\n",
    "plt.figure(figsize=(12,9))\n",
    "plot_parallactic(target, observer, observe_time)\n",
    "plt.show()"
   ]
  }
 ],
 "metadata": {
  "kernelspec": {
   "display_name": "Python 3",
   "language": "python",
   "name": "python3"
  },
  "language_info": {
   "codemirror_mode": {
    "name": "ipython",
    "version": 3
   },
   "file_extension": ".py",
   "mimetype": "text/x-python",
   "name": "python",
   "nbconvert_exporter": "python",
   "pygments_lexer": "ipython3",
   "version": "3.4.3"
  }
 },
 "nbformat": 4,
 "nbformat_minor": 0
}
