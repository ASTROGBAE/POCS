{
 "cells": [
  {
   "cell_type": "markdown",
   "metadata": {},
   "source": [
    "For getting RA/Dec from x,y,z accelermoter values:  \n",
    "http://www.instructables.com/id/Accelerometer-Gyro-Tutorial/?ALLSTEPS\n",
    "\n",
    "For generating a plot of those RA/Dec values:  \n",
    "http://balbuceosastropy.blogspot.com/2013/09/the-mollweide-projection.html"
   ]
  },
  {
   "cell_type": "code",
   "execution_count": 13,
   "metadata": {
    "collapsed": false
   },
   "outputs": [],
   "source": [
    "from astropy.utils.data import download_file\n",
    "from astropy.utils import iers\n",
    "iers.IERS.iers_table = iers.IERS_A.open(download_file(iers.IERS_A_URL, cache=True))"
   ]
  },
  {
   "cell_type": "code",
   "execution_count": 14,
   "metadata": {
    "collapsed": false
   },
   "outputs": [],
   "source": [
    "import numpy as np\n",
    "import astropy.units as u\n",
    "import astropy.coordinates as coord\n",
    "from astropy.time import Time\n",
    "from astropy.coordinates import SkyCoord, EarthLocation, AltAz\n",
    "\n",
    "%matplotlib inline\n",
    "import matplotlib.pyplot as plt\n",
    "import ephem # to make coordinate systems conversions"
   ]
  },
  {
   "cell_type": "markdown",
   "metadata": {},
   "source": [
    "Here is a sensor reading that we are going to try and emulate. The RA/Dec as given by the mount is below\n",
    "\n",
    "```\n",
    "{\n",
    "        \"_id\" : ObjectId(\"549c7c39a1cc1400b84857e4\"),\n",
    "        \"data\" : {\n",
    "                \"/dev/arduino_0\" : {\n",
    "                        \"humidity\" : 18.6,\n",
    "                        \"count\" : 1328843835,\n",
    "                        \"temp_02\" : 23.56,\n",
    "                        \"temp_00\" : 22.8,\n",
    "                        \"voltages\" : {\n",
    "                                \"ac\" : 5,\n",
    "                                \"dc\" : 12.75\n",
    "                        },\n",
    "                        \"temp_01\" : 24.5,\n",
    "                        \"fan\" : 1,\n",
    "                        \"temp_03\" : 27\n",
    "                },\n",
    "                \"/dev/arduino_1\" : {\n",
    "                        \"accelerometer\" : {\n",
    "                                \"o\" : 7,\n",
    "                                \"z\" : 0,\n",
    "                                \"y\" : -0.02,\n",
    "                                \"x\" : -0.99\n",
    "                        },\n",
    "                        \"humidity\" : 99.9,\n",
    "                        \"count\" : 1324468826,\n",
    "                        \"temp_01\" : 16.8\n",
    "                }\n",
    "        },\n",
    "        \"date\" : ISODate(\"2015-07-15T04:01:54.163Z\"),\n",
    "        \"status\" : \"current\",\n",
    "        \"type\" : \"environment\"\n",
    "}\n",
    "```  \n",
    "\n",
    "```\n",
    "<SkyCoord (ICRS): (ra, dec) in deg \n",
    "    (16.84008333, -16.55122222)>\n",
    "\n",
    "```\n",
    "\n",
    "MLO Stats:\n",
    "http://www.esrl.noaa.gov/gmd/obop/mlo/aboutus/siteInformation/mlosite.html"
   ]
  },
  {
   "cell_type": "code",
   "execution_count": 5,
   "metadata": {
    "collapsed": false
   },
   "outputs": [],
   "source": [
    "x = -0.99\n",
    "y = -0.02\n",
    "z = 0.\n",
    "\n",
    "mlo_lat = 19.54 * u.deg\n",
    "mlo_long = -155.58 * u.deg\n",
    "mlo_height = 3397 * u.m\n",
    "\n",
    "mlo = EarthLocation(lat=mlo_lat, lon=mlo_long, height=mlo_height)\n",
    "utc_offset = -10 * u.hour\n",
    "\n",
    "time = Time('2015-07-15 04:01:54.163') - utc_offset"
   ]
  },
  {
   "cell_type": "code",
   "execution_count": 43,
   "metadata": {
    "collapsed": true
   },
   "outputs": [],
   "source": [
    "def position_1(x, y, z, long, lat):\n",
    "    \"\"\" Calculate the HA/Dec from accelerometer values \"\"\"\n",
    "    R_x = x\n",
    "    R_y = y\n",
    "    R_z = z\n",
    "\n",
    "    # Compute the direction vector\n",
    "    R = np.sqrt(R_x**2 + R_y**2 + R_z**2)\n",
    "\n",
    "    # Get the angles\n",
    "    A_xr = np.arccos(R_x / R) * u.radian\n",
    "    A_yr = np.arccos(R_y / R) * u.radian\n",
    "    A_zr = np.arccos(R_z / R) * u.radian\n",
    "    \n",
    "    alt = -A_zr\n",
    "    az = 90 * u.deg - A_xr\n",
    "    \n",
    "    dec = np.arcsin( \n",
    "        np.sin(alt) * np.sin(lat) + \n",
    "        np.cos(lat) * np.cos(long) * np.cos(az) \n",
    "    )\n",
    "    \n",
    "    ha = np.arccos(\n",
    "        np.cos(long) * (1/np.cos(dec)) - \n",
    "        np.tan(dec) * np.tan(long)\n",
    "    )\n",
    "    \n",
    "    return (ha, dec)\n",
    "    \n",
    "    \"\"\"\n",
    "    ha_1 = (90 * u.deg) + np.arccos(A_yr.to(u.deg)/long)\n",
    "    ha_2 = (90 * u.deg) - np.arccos(A_yr.to(u.deg)/long)\n",
    "    print(ha_1, ha_2)\n",
    "    \n",
    "    d_y1 = (A_xr.to(u.deg) * np.sin(long)) - (A_zr.to(u.deg) * np.cos(long) * np.cos(ha_1))\n",
    "    d_y2 = (A_xr.to(u.deg) * np.sin(long)) - (A_zr.to(u.deg) * np.cos(long) * np.cos(ha_2))\n",
    "    print(d_y1, d_y2)\n",
    "    \n",
    "    coords2 = coord.SkyCoord(ra=ha_1, dec=d_y2)    \n",
    "    \n",
    "    print(coords2.ra.to(u.hourangle))\n",
    "    print(coords2.dec)\n",
    "    \n",
    "    return coords2\n",
    "    \"\"\""
   ]
  },
  {
   "cell_type": "code",
   "execution_count": 52,
   "metadata": {
    "collapsed": false
   },
   "outputs": [],
   "source": [
    "ha, dec = position_1(x,y,z,mlo_long, mlo_lat)"
   ]
  },
  {
   "cell_type": "code",
   "execution_count": 55,
   "metadata": {
    "collapsed": false
   },
   "outputs": [
    {
     "data": {
      "text/latex": [
       "$9.5552866 \\; \\mathrm{{}^{h}}$"
      ],
      "text/plain": [
       "<Quantity 9.555286613117243 hourangle>"
      ]
     },
     "execution_count": 55,
     "metadata": {},
     "output_type": "execute_result"
    }
   ],
   "source": [
    "ha.to(u.hourangle)"
   ]
  },
  {
   "cell_type": "code",
   "execution_count": 54,
   "metadata": {
    "collapsed": false
   },
   "outputs": [
    {
     "data": {
      "text/latex": [
       "$-20.597247 \\; \\mathrm{{}^{\\circ}}$"
      ],
      "text/plain": [
       "<Quantity -20.59724748349843 deg>"
      ]
     },
     "execution_count": 54,
     "metadata": {},
     "output_type": "execute_result"
    }
   ],
   "source": [
    "dec.to(u.deg)"
   ]
  },
  {
   "cell_type": "code",
   "execution_count": 34,
   "metadata": {
    "collapsed": false
   },
   "outputs": [],
   "source": [
    "coords.location = mlo"
   ]
  },
  {
   "cell_type": "code",
   "execution_count": 38,
   "metadata": {
    "collapsed": false
   },
   "outputs": [
    {
     "data": {
      "text/latex": [
       "$14^\\mathrm{h}23^\\mathrm{m}28.3115^\\mathrm{s}$"
      ],
      "text/plain": [
       "<Longitude 14.391197648490559 hourangle>"
      ]
     },
     "execution_count": 38,
     "metadata": {},
     "output_type": "execute_result"
    }
   ],
   "source": [
    "coords.ra.to(u.hourangle)"
   ]
  },
  {
   "cell_type": "code",
   "execution_count": 37,
   "metadata": {
    "collapsed": false
   },
   "outputs": [
    {
     "data": {
      "text/plain": [
       "<SkyCoord (AltAz: obstime=2015-07-15 14:01:54.163, location=(-5478043.662679353, -2487256.852071931, 2120911.9170668446) m, pressure=0.0 hPa, temperature=0.0 deg_C, relative_humidity=0, obswl=1.0 micron):01:54.163, location=(-5478043.662679353, -2487256.852071931, 2120911.9170668446) m, pressure=0.0 hPa, temperature=0.0 deg_C, relative_humidity=0, obswl=1.0 micron): (az, alt) in deg\n",
       "    (277.48832646, -41.94480764)>"
      ]
     },
     "execution_count": 37,
     "metadata": {},
     "output_type": "execute_result"
    }
   ],
   "source": [
    "altaz = coords.transform_to(AltAz(obstime=time,location=mlo))  \n",
    "altaz"
   ]
  },
  {
   "cell_type": "code",
   "execution_count": 62,
   "metadata": {
    "collapsed": false
   },
   "outputs": [],
   "source": [
    "def plot_mwd(RA,Dec,org=0,title='Mollweide projection', projection='mollweide'):\n",
    "    ''' RA, Dec are arrays of the same length.\n",
    "    RA takes values in [0,360), Dec in [-90,90],\n",
    "    which represent angles in degrees.\n",
    "    org is the origin of the plot, 0 or a multiple of 30 degrees in [0,360).\n",
    "    title is the title of the figure.\n",
    "    projection is the kind of projection: 'mollweide', 'aitoff', 'hammer', 'lambert'\n",
    "    '''\n",
    "    x = np.remainder(RA+360-org,360) # shift RA values\n",
    "    x[x > 180] -= 360                # scale conversion to [-180, 180]\n",
    "    x=-x                             # reverse the scale: East to the left\n",
    "    \n",
    "    # Setup the figure\n",
    "    fig = plt.figure(figsize=(10, 5))\n",
    "    ax = fig.add_subplot(111, projection=projection, axisbg ='LightCyan')\n",
    "    \n",
    "    # Generate the scatter plot\n",
    "    ax.scatter(np.radians(x),np.radians(Dec))  # convert degrees to radians\n",
    "    \n",
    "    # Setup longitude lines\n",
    "    tick_labels = np.array([150, 120, 90, 60, 30, 0, 330, 300, 270, 240, 210])\n",
    "    tick_labels = np.remainder(tick_labels+360+org,360)\n",
    "    ax.set_xticklabels(tick_labels)\n",
    "\n",
    "    ax.set_title(title)\n",
    "    ax.title.set_fontsize(15)\n",
    "\n",
    "    ax.set_xlabel(\"RA\")\n",
    "    ax.xaxis.label.set_fontsize(12)\n",
    "    \n",
    "    ax.set_ylabel(\"Dec\")\n",
    "    ax.yaxis.label.set_fontsize(12)\n",
    "    \n",
    "    ax.grid(True)"
   ]
  },
  {
   "cell_type": "code",
   "execution_count": 16,
   "metadata": {
    "collapsed": false
   },
   "outputs": [],
   "source": [
    "ra = np.array([x.ra.degree])\n",
    "dec = np.array([x.dec.degree])"
   ]
  },
  {
   "cell_type": "code",
   "execution_count": 17,
   "metadata": {
    "collapsed": false
   },
   "outputs": [
    {
     "data": {
      "image/png": "[encoded data removed]",
      "text/plain": [
       "<matplotlib.figure.Figure at 0x7f4a3fab7358>"
      ]
     },
     "metadata": {},
     "output_type": "display_data"
    }
   ],
   "source": [
    "plot_mwd(ra,dec)"
   ]
  }
 ],
 "metadata": {
  "kernelspec": {
   "display_name": "Python 3",
   "language": "python",
   "name": "python3"
  },
  "language_info": {
   "codemirror_mode": {
    "name": "ipython",
    "version": 3
   },
   "file_extension": ".py",
   "mimetype": "text/x-python",
   "name": "python",
   "nbconvert_exporter": "python",
   "pygments_lexer": "ipython3",
   "version": "3.4.3"
  }
 },
 "nbformat": 4,
 "nbformat_minor": 0
}
