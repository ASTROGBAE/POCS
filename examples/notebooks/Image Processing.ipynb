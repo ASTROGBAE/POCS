{
 "cells": [
  {
   "cell_type": "code",
   "execution_count": 1,
   "metadata": {
    "collapsed": false
   },
   "outputs": [
    {
     "name": "stderr",
     "output_type": "stream",
     "text": [
      "/home/panoptes/anaconda3/lib/python3.4/site-packages/IPython/kernel/__init__.py:13: ShimWarning: The `IPython.kernel` package has been deprecated. You should import from ipykernel or jupyter_client instead.\n",
      "  \"You should import from ipykernel or jupyter_client instead.\", ShimWarning)\n"
     ]
    }
   ],
   "source": [
    "from matplotlib import pyplot as plt\n",
    "from astropy.io import fits\n",
    "import numpy as np\n",
    "from scipy import ndimage\n",
    "import re\n",
    "import glob\n",
    "\n",
    "from astropy.utils.data import get_file_contents\n",
    "import astropy.units as u\n",
    "\n",
    "%matplotlib inline\n",
    "from IPython.utils import io"
   ]
  },
  {
   "cell_type": "code",
   "execution_count": 2,
   "metadata": {
    "collapsed": false
   },
   "outputs": [
    {
     "name": "stderr",
     "output_type": "stream",
     "text": [
      "INFO:PanoptesLogger:\n",
      "\n",
      "INFO:PanoptesLogger:********************************************************************************\n",
      "INFO:PanoptesLogger:\n",
      "\n",
      "DEBUG:PanoptesLogger:Adding warning logging to: PanError\n",
      "DEBUG:PanoptesLogger:Adding warning logging to: SerialData\n",
      "DEBUG:PanoptesLogger:Adding warning logging to: PanStateMachine\n",
      "DEBUG:PanoptesLogger:Adding warning logging to: AbstractCamera\n",
      "DEBUG:PanoptesLogger:Adding warning logging to: Observation\n",
      "DEBUG:PanoptesLogger:Adding warning logging to: Target\n",
      "DEBUG:PanoptesLogger:Adding warning logging to: Scheduler\n",
      "DEBUG:PanoptesLogger:Adding warning logging to: Observatory\n",
      "DEBUG:PanoptesLogger:Adding warning logging to: Panoptes\n",
      "DEBUG:PanoptesLogger:Adding warning logging to: Messaging\n",
      "DEBUG:PanoptesLogger:Adding warning logging to: EnvironmentalMonitor\n",
      "DEBUG:PanoptesLogger:Adding warning logging to: Webcams\n",
      "DEBUG:PanoptesLogger:Adding warning logging to: PanSensors\n"
     ]
    }
   ],
   "source": [
    "# Load the PANOPTES module dir\n",
    "import sys\n",
    "sys.path.append('../..')\n",
    "\n",
    "# For development\n",
    "%load_ext autoreload\n",
    "%autoreload 2\n",
    "\n",
    "from panoptes.utils.images import *"
   ]
  },
  {
   "cell_type": "code",
   "execution_count": 4,
   "metadata": {
    "collapsed": false
   },
   "outputs": [
    {
     "name": "stdout",
     "output_type": "stream",
     "text": [
      "/media/panoptes/panoptesdataMLO/images/20150920/raw\n"
     ]
    }
   ],
   "source": [
    "cd $d"
   ]
  },
  {
   "cell_type": "code",
   "execution_count": 34,
   "metadata": {
    "collapsed": false
   },
   "outputs": [
    {
     "data": {
      "text/plain": [
       "['/var/panoptes/images/20150920/raw/01_11.cr2',\n",
       " '/var/panoptes/images/20150920/raw/01_12.cr2',\n",
       " '/var/panoptes/images/20150920/raw/01_120.cr2',\n",
       " '/var/panoptes/images/20150920/raw/01_121.cr2',\n",
       " '/var/panoptes/images/20150920/raw/01_122.cr2',\n",
       " '/var/panoptes/images/20150920/raw/01_123.cr2',\n",
       " '/var/panoptes/images/20150920/raw/01_124.cr2',\n",
       " '/var/panoptes/images/20150920/raw/01_125.cr2',\n",
       " '/var/panoptes/images/20150920/raw/01_126.cr2',\n",
       " '/var/panoptes/images/20150920/raw/01_127.cr2',\n",
       " '/var/panoptes/images/20150920/raw/01_128.cr2',\n",
       " '/var/panoptes/images/20150920/raw/01_129.cr2',\n",
       " '/var/panoptes/images/20150920/raw/01_140.cr2',\n",
       " '/var/panoptes/images/20150920/raw/01_141.cr2',\n",
       " '/var/panoptes/images/20150920/raw/01_142.cr2',\n",
       " '/var/panoptes/images/20150920/raw/01_143.cr2',\n",
       " '/var/panoptes/images/20150920/raw/01_144.cr2',\n",
       " '/var/panoptes/images/20150920/raw/01_145.cr2',\n",
       " '/var/panoptes/images/20150920/raw/01_146.cr2',\n",
       " '/var/panoptes/images/20150920/raw/01_150.cr2',\n",
       " '/var/panoptes/images/20150920/raw/01_151.cr2',\n",
       " '/var/panoptes/images/20150920/raw/01_152.cr2',\n",
       " '/var/panoptes/images/20150920/raw/01_153.cr2',\n",
       " '/var/panoptes/images/20150920/raw/01_154.cr2',\n",
       " '/var/panoptes/images/20150920/raw/01_155.cr2',\n",
       " '/var/panoptes/images/20150920/raw/01_156.cr2',\n",
       " '/var/panoptes/images/20150920/raw/01_157.cr2',\n",
       " '/var/panoptes/images/20150920/raw/01_158.cr2',\n",
       " '/var/panoptes/images/20150920/raw/01_159.cr2',\n",
       " '/var/panoptes/images/20150920/raw/01_160.cr2',\n",
       " '/var/panoptes/images/20150920/raw/01_161.cr2',\n",
       " '/var/panoptes/images/20150920/raw/01_162.cr2',\n",
       " '/var/panoptes/images/20150920/raw/01_163.cr2',\n",
       " '/var/panoptes/images/20150920/raw/01_164.cr2',\n",
       " '/var/panoptes/images/20150920/raw/01_165.cr2',\n",
       " '/var/panoptes/images/20150920/raw/01_166.cr2',\n",
       " '/var/panoptes/images/20150920/raw/01_167.cr2',\n",
       " '/var/panoptes/images/20150920/raw/01_168.cr2',\n",
       " '/var/panoptes/images/20150920/raw/01_169.cr2',\n",
       " '/var/panoptes/images/20150920/raw/01_170.cr2',\n",
       " '/var/panoptes/images/20150920/raw/01_171.cr2',\n",
       " '/var/panoptes/images/20150920/raw/01_172.cr2',\n",
       " '/var/panoptes/images/20150920/raw/01_173.cr2',\n",
       " '/var/panoptes/images/20150920/raw/01_174.cr2',\n",
       " '/var/panoptes/images/20150920/raw/01_175.cr2',\n",
       " '/var/panoptes/images/20150920/raw/01_176.cr2',\n",
       " '/var/panoptes/images/20150920/raw/01_177.cr2',\n",
       " '/var/panoptes/images/20150920/raw/01_178.cr2',\n",
       " '/var/panoptes/images/20150920/raw/01_179.cr2',\n",
       " '/var/panoptes/images/20150920/raw/01_180.cr2',\n",
       " '/var/panoptes/images/20150920/raw/01_181.cr2',\n",
       " '/var/panoptes/images/20150920/raw/01_182.cr2',\n",
       " '/var/panoptes/images/20150920/raw/01_183.cr2',\n",
       " '/var/panoptes/images/20150920/raw/01_184.cr2',\n",
       " '/var/panoptes/images/20150920/raw/01_185.cr2',\n",
       " '/var/panoptes/images/20150920/raw/01_186.cr2',\n",
       " '/var/panoptes/images/20150920/raw/01_187.cr2',\n",
       " '/var/panoptes/images/20150920/raw/01_188.cr2',\n",
       " '/var/panoptes/images/20150920/raw/01_189.cr2',\n",
       " '/var/panoptes/images/20150920/raw/01_190.cr2',\n",
       " '/var/panoptes/images/20150920/raw/01_191.cr2',\n",
       " '/var/panoptes/images/20150920/raw/01_192.cr2',\n",
       " '/var/panoptes/images/20150920/raw/01_193.cr2',\n",
       " '/var/panoptes/images/20150920/raw/01_194.cr2',\n",
       " '/var/panoptes/images/20150920/raw/01_195.cr2',\n",
       " '/var/panoptes/images/20150920/raw/01_196.cr2',\n",
       " '/var/panoptes/images/20150920/raw/01_197.cr2',\n",
       " '/var/panoptes/images/20150920/raw/01_198.cr2',\n",
       " '/var/panoptes/images/20150920/raw/01_199.cr2']"
      ]
     },
     "execution_count": 34,
     "metadata": {},
     "output_type": "execute_result"
    }
   ],
   "source": [
    "cr2_files = glob.glob('{}/01_1*.cr2'.format(d))\n",
    "cr2_files.sort()\n",
    "cr2_files"
   ]
  },
  {
   "cell_type": "code",
   "execution_count": 35,
   "metadata": {
    "collapsed": false
   },
   "outputs": [],
   "source": [
    "pixel_scale = ((206.265) * (18.5 * u.micron) / (85 * u.mm)).cgs * u.arcsecond"
   ]
  },
  {
   "cell_type": "code",
   "execution_count": 44,
   "metadata": {
    "collapsed": false
   },
   "outputs": [
    {
     "name": "stdout",
     "output_type": "stream",
     "text": [
      "Automatic pdb calling has been turned ON\n"
     ]
    }
   ],
   "source": [
    "%pdb"
   ]
  },
  {
   "cell_type": "code",
   "execution_count": 47,
   "metadata": {
    "collapsed": false
   },
   "outputs": [],
   "source": [
    "def compare(f0, f1, pixel_scale=0.):\n",
    "    raw_data_00 = read_pgm(cr2_to_pgm(f0))\n",
    "    raw_data_01 = read_pgm(cr2_to_pgm(f1))\n",
    "\n",
    "    \n",
    "    x0, y0 = measure_offset(raw_data_00,raw_data_01, box_width=250)\n",
    "    \n",
    "    #with io.capture_output() as captured:    \n",
    "    #    !/var/panoptes/bin/measure_offset $f0 $f1 \n",
    "        \n",
    "    #x1 = float(get_file_contents('xcent.txt'))\n",
    "    #y1 = float(get_file_contents('ycent.txt'))\n",
    "\n",
    "    #return ( x0, y0, x1, y1 )\n",
    "    return (x0, y1)"
   ]
  },
  {
   "cell_type": "code",
   "execution_count": null,
   "metadata": {
    "collapsed": false
   },
   "outputs": [
    {
     "name": "stdout",
     "output_type": "stream",
     "text": [
      "0\n"
     ]
    },
    {
     "ename": "IndexError",
     "evalue": "too many indices for array",
     "output_type": "error",
     "traceback": [
      "\u001b[1;31m---------------------------------------------------------------------------\u001b[0m",
      "\u001b[1;31mIndexError\u001b[0m                                Traceback (most recent call last)",
      "\u001b[1;32m<ipython-input-48-9448d4701470>\u001b[0m in \u001b[0;36m<module>\u001b[1;34m()\u001b[0m\n\u001b[0;32m      4\u001b[0m     \u001b[1;32mif\u001b[0m \u001b[0mi\u001b[0m \u001b[1;33m<\u001b[0m \u001b[0mlen\u001b[0m\u001b[1;33m(\u001b[0m\u001b[0mcr2_files\u001b[0m\u001b[1;33m)\u001b[0m \u001b[1;33m-\u001b[0m \u001b[1;36m1\u001b[0m\u001b[1;33m:\u001b[0m\u001b[1;33m\u001b[0m\u001b[0m\n\u001b[0;32m      5\u001b[0m         \u001b[0mprint\u001b[0m\u001b[1;33m(\u001b[0m\u001b[0mi\u001b[0m\u001b[1;33m)\u001b[0m\u001b[1;33m\u001b[0m\u001b[0m\n\u001b[1;32m----> 6\u001b[1;33m         \u001b[0mcomparison\u001b[0m\u001b[1;33m[\u001b[0m\u001b[0mi\u001b[0m\u001b[1;33m]\u001b[0m \u001b[1;33m=\u001b[0m \u001b[0mcompare\u001b[0m\u001b[1;33m(\u001b[0m\u001b[0mcr2_files\u001b[0m\u001b[1;33m[\u001b[0m\u001b[0mi\u001b[0m\u001b[1;33m]\u001b[0m\u001b[1;33m,\u001b[0m \u001b[0mcr2_files\u001b[0m\u001b[1;33m[\u001b[0m\u001b[0mi\u001b[0m\u001b[1;33m+\u001b[0m\u001b[1;36m1\u001b[0m\u001b[1;33m]\u001b[0m\u001b[1;33m,\u001b[0m \u001b[0mpixel_scale\u001b[0m\u001b[1;33m)\u001b[0m\u001b[1;33m\u001b[0m\u001b[0m\n\u001b[0m\u001b[0;32m      7\u001b[0m \u001b[1;33m\u001b[0m\u001b[0m\n\u001b[0;32m      8\u001b[0m \u001b[0mcomparison\u001b[0m\u001b[1;33m\u001b[0m\u001b[0m\n",
      "\u001b[1;32m<ipython-input-47-10a700b318d4>\u001b[0m in \u001b[0;36mcompare\u001b[1;34m(f0, f1, pixel_scale)\u001b[0m\n\u001b[0;32m      4\u001b[0m \u001b[1;33m\u001b[0m\u001b[0m\n\u001b[0;32m      5\u001b[0m \u001b[1;33m\u001b[0m\u001b[0m\n\u001b[1;32m----> 6\u001b[1;33m     \u001b[0mx0\u001b[0m\u001b[1;33m,\u001b[0m \u001b[0my0\u001b[0m \u001b[1;33m=\u001b[0m \u001b[0mmeasure_offset\u001b[0m\u001b[1;33m(\u001b[0m\u001b[0mraw_data_00\u001b[0m\u001b[1;33m,\u001b[0m\u001b[0mraw_data_01\u001b[0m\u001b[1;33m,\u001b[0m \u001b[0mbox_width\u001b[0m\u001b[1;33m=\u001b[0m\u001b[1;36m250\u001b[0m\u001b[1;33m)\u001b[0m\u001b[1;33m\u001b[0m\u001b[0m\n\u001b[0m\u001b[0;32m      7\u001b[0m \u001b[1;33m\u001b[0m\u001b[0m\n\u001b[0;32m      8\u001b[0m     \u001b[1;31m#with io.capture_output() as captured:\u001b[0m\u001b[1;33m\u001b[0m\u001b[1;33m\u001b[0m\u001b[0m\n",
      "\u001b[1;32m/var/panoptes/POCS/panoptes/utils/images.py\u001b[0m in \u001b[0;36mmeasure_offset\u001b[1;34m(d0, d1, box_width)\u001b[0m\n\u001b[0;32m    108\u001b[0m     \u001b[0msame_target\u001b[0m \u001b[1;33m=\u001b[0m \u001b[0mnearby\u001b[0m\u001b[1;33m(\u001b[0m\u001b[0mpeaks_01\u001b[0m\u001b[1;33m,\u001b[0m \u001b[0mpeaks_02\u001b[0m\u001b[1;33m)\u001b[0m\u001b[1;33m\u001b[0m\u001b[0m\n\u001b[0;32m    109\u001b[0m \u001b[1;33m\u001b[0m\u001b[0m\n\u001b[1;32m--> 110\u001b[1;33m     \u001b[0my_mean\u001b[0m \u001b[1;33m=\u001b[0m \u001b[0msame_target\u001b[0m\u001b[1;33m[\u001b[0m\u001b[1;33m:\u001b[0m\u001b[1;33m,\u001b[0m\u001b[1;36m1\u001b[0m\u001b[1;33m]\u001b[0m\u001b[1;33m.\u001b[0m\u001b[0mmean\u001b[0m\u001b[1;33m(\u001b[0m\u001b[1;33m)\u001b[0m\u001b[1;33m\u001b[0m\u001b[0m\n\u001b[0m\u001b[0;32m    111\u001b[0m     \u001b[0mx_mean\u001b[0m \u001b[1;33m=\u001b[0m \u001b[0msame_target\u001b[0m\u001b[1;33m[\u001b[0m\u001b[1;33m:\u001b[0m\u001b[1;33m,\u001b[0m\u001b[1;36m0\u001b[0m\u001b[1;33m]\u001b[0m\u001b[1;33m.\u001b[0m\u001b[0mmean\u001b[0m\u001b[1;33m(\u001b[0m\u001b[1;33m)\u001b[0m\u001b[1;33m\u001b[0m\u001b[0m\n\u001b[0;32m    112\u001b[0m     \u001b[1;32mreturn\u001b[0m \u001b[1;33m(\u001b[0m\u001b[0my_mean\u001b[0m\u001b[1;33m,\u001b[0m \u001b[1;33m-\u001b[0m\u001b[0mx_mean\u001b[0m\u001b[1;33m)\u001b[0m\u001b[1;33m\u001b[0m\u001b[0m\n",
      "\u001b[1;31mIndexError\u001b[0m: too many indices for array"
     ]
    },
    {
     "name": "stdout",
     "output_type": "stream",
     "text": [
      "> \u001b[1;32m/var/panoptes/POCS/panoptes/utils/images.py\u001b[0m(110)\u001b[0;36mmeasure_offset\u001b[1;34m()\u001b[0m\n",
      "\u001b[1;32m    109 \u001b[1;33m\u001b[1;33m\u001b[0m\u001b[0m\n",
      "\u001b[0m\u001b[1;32m--> 110 \u001b[1;33m    \u001b[0my_mean\u001b[0m \u001b[1;33m=\u001b[0m \u001b[0msame_target\u001b[0m\u001b[1;33m[\u001b[0m\u001b[1;33m:\u001b[0m\u001b[1;33m,\u001b[0m\u001b[1;36m1\u001b[0m\u001b[1;33m]\u001b[0m\u001b[1;33m.\u001b[0m\u001b[0mmean\u001b[0m\u001b[1;33m(\u001b[0m\u001b[1;33m)\u001b[0m\u001b[1;33m\u001b[0m\u001b[0m\n",
      "\u001b[0m\u001b[1;32m    111 \u001b[1;33m    \u001b[0mx_mean\u001b[0m \u001b[1;33m=\u001b[0m \u001b[0msame_target\u001b[0m\u001b[1;33m[\u001b[0m\u001b[1;33m:\u001b[0m\u001b[1;33m,\u001b[0m\u001b[1;36m0\u001b[0m\u001b[1;33m]\u001b[0m\u001b[1;33m.\u001b[0m\u001b[0mmean\u001b[0m\u001b[1;33m(\u001b[0m\u001b[1;33m)\u001b[0m\u001b[1;33m\u001b[0m\u001b[0m\n",
      "\u001b[0m\n",
      "ipdb> print(same_target)\n",
      "[]\n"
     ]
    }
   ],
   "source": [
    "comparison = {}\n",
    "\n",
    "for i in np.arange(len(cr2_files)):\n",
    "    if i < len(cr2_files) - 1:\n",
    "        print(i)\n",
    "        comparison[i] = compare(cr2_files[i], cr2_files[i+1], pixel_scale)\n",
    "        \n",
    "comparison"
   ]
  },
  {
   "cell_type": "code",
   "execution_count": null,
   "metadata": {
    "collapsed": false
   },
   "outputs": [],
   "source": [
    "x0 = [v[0] for v in comparison.values()]\n",
    "y0 = [v[1] for v in comparison.values()]\n",
    "#x1 = [v[2] for v in comparison.values()]\n",
    "#y1 = [v[3] for v in comparison.values()]\n",
    "\n",
    "r = np.arange(len(comparison))\n",
    "\n",
    "plt.scatter(r, x0, color='b', linewidths=2., label=\"X Difference\")\n",
    "plt.scatter(r, y0, color='r', linewidths=2., label=\"Y Difference\")\n",
    "#plt.scatter(r, x1, color='g', linewidths=2.)\n",
    "#plt.scatter(r, y1, color='k', linewidths=2.)\n",
    "plt.legend()"
   ]
  },
  {
   "cell_type": "code",
   "execution_count": 32,
   "metadata": {
    "collapsed": false
   },
   "outputs": [
    {
     "ename": "UnitConversionError",
     "evalue": "'arcsec' (angle) and 'ms' (time) are not convertible",
     "output_type": "error",
     "traceback": [
      "\u001b[1;31m---------------------------------------------------------------------------\u001b[0m",
      "\u001b[1;31mUnitConversionError\u001b[0m                       Traceback (most recent call last)",
      "\u001b[1;32m/home/panoptes/anaconda3/lib/python3.4/site-packages/astropy/units/core.py\u001b[0m in \u001b[0;36m_get_converter\u001b[1;34m(self, other, equivalencies)\u001b[0m\n\u001b[0;32m    852\u001b[0m         \u001b[1;32mtry\u001b[0m\u001b[1;33m:\u001b[0m\u001b[1;33m\u001b[0m\u001b[0m\n\u001b[1;32m--> 853\u001b[1;33m             \u001b[0mscale\u001b[0m \u001b[1;33m=\u001b[0m \u001b[0mself\u001b[0m\u001b[1;33m.\u001b[0m\u001b[0m_to\u001b[0m\u001b[1;33m(\u001b[0m\u001b[0mother\u001b[0m\u001b[1;33m)\u001b[0m\u001b[1;33m\u001b[0m\u001b[0m\n\u001b[0m\u001b[0;32m    854\u001b[0m         \u001b[1;32mexcept\u001b[0m \u001b[0mUnitsError\u001b[0m\u001b[1;33m:\u001b[0m\u001b[1;33m\u001b[0m\u001b[0m\n",
      "\u001b[1;32m/home/panoptes/anaconda3/lib/python3.4/site-packages/astropy/units/core.py\u001b[0m in \u001b[0;36m_to\u001b[1;34m(self, other)\u001b[0m\n\u001b[0;32m    918\u001b[0m         raise UnitConversionError(\n\u001b[1;32m--> 919\u001b[1;33m             \"'{0!r}' is not a scaled version of '{1!r}'\".format(self, other))\n\u001b[0m\u001b[0;32m    920\u001b[0m \u001b[1;33m\u001b[0m\u001b[0m\n",
      "\u001b[1;31mUnitConversionError\u001b[0m: 'Unit(\"arcsec\")' is not a scaled version of 'Unit(\"ms\")'",
      "\nDuring handling of the above exception, another exception occurred:\n",
      "\u001b[1;31mUnitConversionError\u001b[0m                       Traceback (most recent call last)",
      "\u001b[1;32m<ipython-input-32-3b1ebd978579>\u001b[0m in \u001b[0;36m<module>\u001b[1;34m()\u001b[0m\n\u001b[1;32m----> 1\u001b[1;33m \u001b[0mx1\u001b[0m \u001b[1;33m*\u001b[0m \u001b[0mpixel_scale\u001b[0m\u001b[1;33m.\u001b[0m\u001b[0mto\u001b[0m\u001b[1;33m(\u001b[0m\u001b[0mu\u001b[0m\u001b[1;33m.\u001b[0m\u001b[0mms\u001b[0m\u001b[1;33m)\u001b[0m\u001b[1;33m\u001b[0m\u001b[0m\n\u001b[0m",
      "\u001b[1;32m/home/panoptes/anaconda3/lib/python3.4/site-packages/astropy/units/quantity.py\u001b[0m in \u001b[0;36mto\u001b[1;34m(self, unit, equivalencies)\u001b[0m\n\u001b[0;32m    603\u001b[0m         \u001b[0munit\u001b[0m \u001b[1;33m=\u001b[0m \u001b[0mUnit\u001b[0m\u001b[1;33m(\u001b[0m\u001b[0munit\u001b[0m\u001b[1;33m)\u001b[0m\u001b[1;33m\u001b[0m\u001b[0m\n\u001b[0;32m    604\u001b[0m         new_val = np.asarray(\n\u001b[1;32m--> 605\u001b[1;33m             self.unit.to(unit, self.value, equivalencies=equivalencies))\n\u001b[0m\u001b[0;32m    606\u001b[0m         \u001b[1;32mreturn\u001b[0m \u001b[0mself\u001b[0m\u001b[1;33m.\u001b[0m\u001b[0m_new_view\u001b[0m\u001b[1;33m(\u001b[0m\u001b[0mnew_val\u001b[0m\u001b[1;33m,\u001b[0m \u001b[0munit\u001b[0m\u001b[1;33m)\u001b[0m\u001b[1;33m\u001b[0m\u001b[0m\n\u001b[0;32m    607\u001b[0m \u001b[1;33m\u001b[0m\u001b[0m\n",
      "\u001b[1;32m/home/panoptes/anaconda3/lib/python3.4/site-packages/astropy/units/core.py\u001b[0m in \u001b[0;36mto\u001b[1;34m(self, other, value, equivalencies)\u001b[0m\n\u001b[0;32m    950\u001b[0m             \u001b[0mIf\u001b[0m \u001b[0munits\u001b[0m \u001b[0mare\u001b[0m \u001b[0minconsistent\u001b[0m\u001b[1;33m\u001b[0m\u001b[0m\n\u001b[0;32m    951\u001b[0m         \"\"\"\n\u001b[1;32m--> 952\u001b[1;33m         \u001b[1;32mreturn\u001b[0m \u001b[0mself\u001b[0m\u001b[1;33m.\u001b[0m\u001b[0m_get_converter\u001b[0m\u001b[1;33m(\u001b[0m\u001b[0mother\u001b[0m\u001b[1;33m,\u001b[0m \u001b[0mequivalencies\u001b[0m\u001b[1;33m=\u001b[0m\u001b[0mequivalencies\u001b[0m\u001b[1;33m)\u001b[0m\u001b[1;33m(\u001b[0m\u001b[0mvalue\u001b[0m\u001b[1;33m)\u001b[0m\u001b[1;33m\u001b[0m\u001b[0m\n\u001b[0m\u001b[0;32m    953\u001b[0m \u001b[1;33m\u001b[0m\u001b[0m\n\u001b[0;32m    954\u001b[0m     \u001b[1;32mdef\u001b[0m \u001b[0min_units\u001b[0m\u001b[1;33m(\u001b[0m\u001b[0mself\u001b[0m\u001b[1;33m,\u001b[0m \u001b[0mother\u001b[0m\u001b[1;33m,\u001b[0m \u001b[0mvalue\u001b[0m\u001b[1;33m=\u001b[0m\u001b[1;36m1.0\u001b[0m\u001b[1;33m,\u001b[0m \u001b[0mequivalencies\u001b[0m\u001b[1;33m=\u001b[0m\u001b[1;33m[\u001b[0m\u001b[1;33m]\u001b[0m\u001b[1;33m)\u001b[0m\u001b[1;33m:\u001b[0m\u001b[1;33m\u001b[0m\u001b[0m\n",
      "\u001b[1;32m/home/panoptes/anaconda3/lib/python3.4/site-packages/astropy/units/core.py\u001b[0m in \u001b[0;36m_get_converter\u001b[1;34m(self, other, equivalencies)\u001b[0m\n\u001b[0;32m    854\u001b[0m         \u001b[1;32mexcept\u001b[0m \u001b[0mUnitsError\u001b[0m\u001b[1;33m:\u001b[0m\u001b[1;33m\u001b[0m\u001b[0m\n\u001b[0;32m    855\u001b[0m             return self._apply_equivalencies(\n\u001b[1;32m--> 856\u001b[1;33m                 self, other, self._normalize_equivalencies(equivalencies))\n\u001b[0m\u001b[0;32m    857\u001b[0m         \u001b[1;32mreturn\u001b[0m \u001b[1;32mlambda\u001b[0m \u001b[0mval\u001b[0m\u001b[1;33m:\u001b[0m \u001b[0mscale\u001b[0m \u001b[1;33m*\u001b[0m \u001b[0m_condition_arg\u001b[0m\u001b[1;33m(\u001b[0m\u001b[0mval\u001b[0m\u001b[1;33m)\u001b[0m\u001b[1;33m\u001b[0m\u001b[0m\n\u001b[0;32m    858\u001b[0m \u001b[1;33m\u001b[0m\u001b[0m\n",
      "\u001b[1;32m/home/panoptes/anaconda3/lib/python3.4/site-packages/astropy/units/core.py\u001b[0m in \u001b[0;36m_apply_equivalencies\u001b[1;34m(self, unit, other, equivalencies)\u001b[0m\n\u001b[0;32m    845\u001b[0m         raise UnitConversionError(\n\u001b[0;32m    846\u001b[0m             \"{0} and {1} are not convertible\".format(\n\u001b[1;32m--> 847\u001b[1;33m                 unit_str, other_str))\n\u001b[0m\u001b[0;32m    848\u001b[0m \u001b[1;33m\u001b[0m\u001b[0m\n\u001b[0;32m    849\u001b[0m     \u001b[1;32mdef\u001b[0m \u001b[0m_get_converter\u001b[0m\u001b[1;33m(\u001b[0m\u001b[0mself\u001b[0m\u001b[1;33m,\u001b[0m \u001b[0mother\u001b[0m\u001b[1;33m,\u001b[0m \u001b[0mequivalencies\u001b[0m\u001b[1;33m=\u001b[0m\u001b[1;33m[\u001b[0m\u001b[1;33m]\u001b[0m\u001b[1;33m)\u001b[0m\u001b[1;33m:\u001b[0m\u001b[1;33m\u001b[0m\u001b[0m\n",
      "\u001b[1;31mUnitConversionError\u001b[0m: 'arcsec' (angle) and 'ms' (time) are not convertible"
     ]
    }
   ],
   "source": [
    "x1 * pixel_scale.to(u.ms)"
   ]
  }
 ],
 "metadata": {
  "kernelspec": {
   "display_name": "Python 3",
   "language": "python",
   "name": "python3"
  },
  "language_info": {
   "codemirror_mode": {
    "name": "ipython",
    "version": 3
   },
   "file_extension": ".py",
   "mimetype": "text/x-python",
   "name": "python",
   "nbconvert_exporter": "python",
   "pygments_lexer": "ipython3",
   "version": "3.4.3"
  }
 },
 "nbformat": 4,
 "nbformat_minor": 0
}
