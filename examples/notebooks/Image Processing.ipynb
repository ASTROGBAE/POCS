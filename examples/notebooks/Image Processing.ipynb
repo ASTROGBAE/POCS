{
 "cells": [
  {
   "cell_type": "code",
   "execution_count": null,
   "metadata": {
    "collapsed": false
   },
   "outputs": [],
   "source": [
    "from matplotlib import pyplot as plt\n",
    "from astropy.io import fits\n",
    "import numpy as np\n",
    "from scipy import ndimage\n",
    "import re\n",
    "import glob\n",
    "import datetime\n",
    "\n",
    "from astropy.utils.data import get_file_contents\n",
    "import astropy.units as u\n",
    "from astropy.time import Time\n",
    "\n",
    "import pandas as pd\n",
    "\n",
    "%matplotlib inline\n",
    "from IPython.utils import io"
   ]
  },
  {
   "cell_type": "code",
   "execution_count": null,
   "metadata": {
    "collapsed": false
   },
   "outputs": [],
   "source": [
    "# Load the PANOPTES module dir\n",
    "import sys\n",
    "sys.path.append('../')\n",
    "\n",
    "# For development\n",
    "%load_ext autoreload\n",
    "%autoreload 2\n",
    "\n",
    "from panoptes.utils.images import *"
   ]
  },
  {
   "cell_type": "code",
   "execution_count": null,
   "metadata": {
    "collapsed": false
   },
   "outputs": [],
   "source": [
    "cr2_files = glob.glob('/home/wtgee/Desktop/*.cr2')\n",
    "cr2_files.sort()\n",
    "cr2_files"
   ]
  },
  {
   "cell_type": "code",
   "execution_count": null,
   "metadata": {
    "collapsed": true
   },
   "outputs": [],
   "source": [
    "pixel_scale = ((206.265) * (18.5 * u.micron) / (85 * u.mm)).cgs * u.arcsecond"
   ]
  },
  {
   "cell_type": "code",
   "execution_count": null,
   "metadata": {
    "collapsed": false
   },
   "outputs": [],
   "source": [
    "def compare(f0, f1):\n",
    "    pgm_00 = cr2_to_pgm(f0)\n",
    "    pgm_01 = cr2_to_pgm(f1)\n",
    "\n",
    "#    exif_00 = read_exif(pgm_00)\n",
    "    exif_01 = read_exif(f1)    \n",
    "    \n",
    "    raw_data_00 = read_pgm(pgm_00)\n",
    "    raw_data_01 = read_pgm(pgm_01)\n",
    "   \n",
    "    x0, y0 = measure_offset(raw_data_00,raw_data_01, box_width=200)\n",
    "    \n",
    "    #with io.capture_output() as captured:    \n",
    "    #    !/var/panoptes/bin/measure_offset $f0 $f1 \n",
    "        \n",
    "    #x1 = float(get_file_contents('xcent.txt'))\n",
    "    #y1 = float(get_file_contents('ycent.txt'))\n",
    "\n",
    "#    return ( x0, y0, x1, y1 )\n",
    "    fmt = '%a %b %d %H:%M:%S %Y'\n",
    "    t = datetime.datetime.strptime(exif_01.get('Timestamp'), fmt)\n",
    "    return (x0, y0, t)"
   ]
  },
  {
   "cell_type": "code",
   "execution_count": null,
   "metadata": {
    "collapsed": false
   },
   "outputs": [],
   "source": [
    "comparison = []\n",
    "\n",
    "for i in np.arange(len(cr2_files)):\n",
    "    if i < len(cr2_files) - 1:\n",
    "        comparison.append(compare(cr2_files[i], cr2_files[i+1]))"
   ]
  },
  {
   "cell_type": "code",
   "execution_count": null,
   "metadata": {
    "collapsed": false
   },
   "outputs": [],
   "source": [
    "x = [x[0] for x in comparison]\n",
    "y = [x[1] for x in comparison]\n",
    "dates = [x[2] for x in comparison]"
   ]
  },
  {
   "cell_type": "code",
   "execution_count": null,
   "metadata": {
    "collapsed": false
   },
   "outputs": [],
   "source": [
    "dt_index = pd.DatetimeIndex(dates)\n",
    "dt_index"
   ]
  },
  {
   "cell_type": "code",
   "execution_count": null,
   "metadata": {
    "collapsed": false
   },
   "outputs": [],
   "source": [
    "x_offset = pd.DataFrame(x, dt_index)\n",
    "y_offset = pd.DataFrame(y, dt_index)"
   ]
  },
  {
   "cell_type": "code",
   "execution_count": null,
   "metadata": {
    "collapsed": false
   },
   "outputs": [],
   "source": [
    "x_offset.plot()"
   ]
  },
  {
   "cell_type": "code",
   "execution_count": null,
   "metadata": {
    "collapsed": false
   },
   "outputs": [],
   "source": [
    "y_offset.plot()"
   ]
  }
 ],
 "metadata": {
  "kernelspec": {
   "display_name": "Python 3",
   "language": "python",
   "name": "python3"
  },
  "language_info": {
   "codemirror_mode": {
    "name": "ipython",
    "version": 3
   },
   "file_extension": ".py",
   "mimetype": "text/x-python",
   "name": "python",
   "nbconvert_exporter": "python",
   "pygments_lexer": "ipython3",
   "version": "3.4.3"
  }
 },
 "nbformat": 4,
 "nbformat_minor": 0
}
