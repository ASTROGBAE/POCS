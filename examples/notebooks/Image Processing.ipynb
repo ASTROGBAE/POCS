{
 "cells": [
  {
   "cell_type": "code",
   "execution_count": 1,
   "metadata": {
    "collapsed": false
   },
   "outputs": [
    {
     "name": "stderr",
     "output_type": "stream",
     "text": [
      "/home/wtgee/anaconda3/lib/python3.4/site-packages/IPython/kernel/__init__.py:13: ShimWarning: The `IPython.kernel` package has been deprecated. You should import from ipykernel or jupyter_client instead.\n",
      "  \"You should import from ipykernel or jupyter_client instead.\", ShimWarning)\n"
     ]
    }
   ],
   "source": [
    "from matplotlib import pyplot as plt\n",
    "from astropy.io import fits\n",
    "import numpy as np\n",
    "from scipy import ndimage\n",
    "import re\n",
    "import glob\n",
    "\n",
    "from astropy.utils.data import get_file_contents\n",
    "import astropy.units as u\n",
    "\n",
    "%matplotlib inline\n",
    "from IPython.utils import io"
   ]
  },
  {
   "cell_type": "code",
   "execution_count": 2,
   "metadata": {
    "collapsed": false
   },
   "outputs": [
    {
     "name": "stderr",
     "output_type": "stream",
     "text": [
      "INFO:PanoptesLogger:\n",
      "\n",
      "INFO:PanoptesLogger:********************************************************************************\n",
      "INFO:PanoptesLogger:\n",
      "\n",
      "DEBUG:PanoptesLogger:Adding warning logging to: PanError\n",
      "DEBUG:PanoptesLogger:Adding warning logging to: SerialData\n",
      "DEBUG:PanoptesLogger:Adding warning logging to: PanStateMachine\n",
      "DEBUG:PanoptesLogger:Adding warning logging to: AbstractCamera\n",
      "DEBUG:PanoptesLogger:Adding warning logging to: Observation\n",
      "DEBUG:PanoptesLogger:Adding warning logging to: Target\n",
      "DEBUG:PanoptesLogger:Adding warning logging to: Scheduler\n",
      "DEBUG:PanoptesLogger:Adding warning logging to: Observatory\n",
      "DEBUG:PanoptesLogger:Adding warning logging to: Panoptes\n",
      "DEBUG:PanoptesLogger:Adding warning logging to: Messaging\n",
      "DEBUG:PanoptesLogger:Adding warning logging to: EnvironmentalMonitor\n",
      "DEBUG:PanoptesLogger:Adding warning logging to: Webcams\n",
      "DEBUG:PanoptesLogger:Adding warning logging to: PanSensors\n"
     ]
    }
   ],
   "source": [
    "# Load the PANOPTES module dir\n",
    "import sys\n",
    "sys.path.append('../..')\n",
    "\n",
    "# For development\n",
    "%load_ext autoreload\n",
    "%autoreload 2\n",
    "\n",
    "from panoptes.utils.images import *"
   ]
  },
  {
   "cell_type": "code",
   "execution_count": 24,
   "metadata": {
    "collapsed": false
   },
   "outputs": [],
   "source": [
    "cr2_files = glob.glob('/home/wtgee/Desktop/*.cr2')\n",
    "cr2_files.sort()"
   ]
  },
  {
   "cell_type": "code",
   "execution_count": 4,
   "metadata": {
    "collapsed": true
   },
   "outputs": [],
   "source": [
    "pixel_scale = ((206.265) * (18.5 * u.micron) / (85 * u.mm)).cgs * u.arcsecond"
   ]
  },
  {
   "cell_type": "code",
   "execution_count": 5,
   "metadata": {
    "collapsed": false
   },
   "outputs": [],
   "source": [
    "def compare(f0, f1, pixel_scale=0.):\n",
    "    raw_data_00 = read_pgm(cr2_to_pgm(f0))\n",
    "    raw_data_01 = read_pgm(cr2_to_pgm(f1))\n",
    "\n",
    "    \n",
    "    x0, y0 = measure_offset(raw_data_00,raw_data_01, box_width=200)\n",
    "    \n",
    "    with io.capture_output() as captured:    \n",
    "        !/var/panoptes/bin/measure_offset $f0 $f1 \n",
    "        \n",
    "    x1 = float(get_file_contents('xcent.txt'))\n",
    "    y1 = float(get_file_contents('ycent.txt'))\n",
    "\n",
    "    return ( x0, y0, x1, y1 )"
   ]
  },
  {
   "cell_type": "code",
   "execution_count": 7,
   "metadata": {
    "collapsed": false
   },
   "outputs": [
    {
     "name": "stdout",
     "output_type": "stream",
     "text": [
      "0\n",
      "1\n",
      "2\n",
      "3\n",
      "4\n",
      "5\n",
      "6\n",
      "7\n"
     ]
    }
   ],
   "source": [
    "comparison = {}\n",
    "\n",
    "for i in np.arange(len(cr2_files)):\n",
    "    if i < len(cr2_files) - 1:\n",
    "        comparison[i] = compare(cr2_files[i], cr2_files[i+1], pixel_scale)"
   ]
  },
  {
   "cell_type": "code",
   "execution_count": 23,
   "metadata": {
    "collapsed": false
   },
   "outputs": [
    {
     "data": {
      "text/plain": [
       "<matplotlib.collections.PathCollection at 0x7f9e180d7f98>"
      ]
     },
     "execution_count": 23,
     "metadata": {},
     "output_type": "execute_result"
    },
    {
     "data": {
      "image/png": "[encoded data removed]",
      "text/plain": [
       "<matplotlib.figure.Figure at 0x7f9e180f44e0>"
      ]
     },
     "metadata": {},
     "output_type": "display_data"
    }
   ],
   "source": [
    "x0 = [v[0] for v in comparison.values()]\n",
    "y0 = [v[1] for v in comparison.values()]\n",
    "x1 = [v[2] for v in comparison.values()]\n",
    "y1 = [v[3] for v in comparison.values()]\n",
    "\n",
    "r = np.arange(len(comparison))\n",
    "\n",
    "plt.scatter(r, x0, color='b', linewidths=2.)\n",
    "plt.scatter(r, y0, color='r', linewidths=2.)\n",
    "plt.scatter(r, x1, color='g', linewidths=2.)\n",
    "plt.scatter(r, y1, color='k', linewidths=2.)"
   ]
  }
 ],
 "metadata": {
  "kernelspec": {
   "display_name": "Python 3",
   "language": "python",
   "name": "python3"
  },
  "language_info": {
   "codemirror_mode": {
    "name": "ipython",
    "version": 3
   },
   "file_extension": ".py",
   "mimetype": "text/x-python",
   "name": "python",
   "nbconvert_exporter": "python",
   "pygments_lexer": "ipython3",
   "version": "3.4.3"
  }
 },
 "nbformat": 4,
 "nbformat_minor": 0
}
