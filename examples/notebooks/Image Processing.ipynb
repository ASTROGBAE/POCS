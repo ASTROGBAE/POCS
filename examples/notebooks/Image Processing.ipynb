{
 "cells": [
  {
   "cell_type": "code",
   "execution_count": 1,
   "metadata": {
    "collapsed": false
   },
   "outputs": [
    {
     "name": "stderr",
     "output_type": "stream",
     "text": [
      "/home/panoptes/anaconda3/lib/python3.4/site-packages/IPython/kernel/__init__.py:13: ShimWarning: The `IPython.kernel` package has been deprecated. You should import from ipykernel or jupyter_client instead.\n",
      "  \"You should import from ipykernel or jupyter_client instead.\", ShimWarning)\n"
     ]
    }
   ],
   "source": [
    "from matplotlib import pyplot as plt\n",
    "from astropy.io import fits\n",
    "import numpy as np\n",
    "from scipy import ndimage\n",
    "import re\n",
    "import glob\n",
    "\n",
    "from astropy.utils.data import get_file_contents\n",
    "import astropy.units as u\n",
    "\n",
    "%matplotlib inline\n",
    "from IPython.utils import io"
   ]
  },
  {
   "cell_type": "code",
   "execution_count": 2,
   "metadata": {
    "collapsed": false
   },
   "outputs": [
    {
     "name": "stderr",
     "output_type": "stream",
     "text": [
      "INFO:PanoptesLogger:\n",
      "\n",
      "INFO:PanoptesLogger:********************************************************************************\n",
      "INFO:PanoptesLogger:\n",
      "\n",
      "DEBUG:PanoptesLogger:Adding warning logging to: PanError\n",
      "DEBUG:PanoptesLogger:Adding warning logging to: SerialData\n",
      "DEBUG:PanoptesLogger:Adding warning logging to: PanStateMachine\n",
      "DEBUG:PanoptesLogger:Adding warning logging to: AbstractCamera\n",
      "DEBUG:PanoptesLogger:Adding warning logging to: Observation\n",
      "DEBUG:PanoptesLogger:Adding warning logging to: Target\n",
      "DEBUG:PanoptesLogger:Adding warning logging to: Scheduler\n",
      "DEBUG:PanoptesLogger:Adding warning logging to: Observatory\n",
      "DEBUG:PanoptesLogger:Adding warning logging to: Panoptes\n",
      "DEBUG:PanoptesLogger:Adding warning logging to: Messaging\n",
      "DEBUG:PanoptesLogger:Adding warning logging to: EnvironmentalMonitor\n",
      "DEBUG:PanoptesLogger:Adding warning logging to: Webcams\n",
      "DEBUG:PanoptesLogger:Adding warning logging to: PanSensors\n"
     ]
    }
   ],
   "source": [
    "# Load the PANOPTES module dir\n",
    "import sys\n",
    "sys.path.append('../..')\n",
    "\n",
    "# For development\n",
    "%load_ext autoreload\n",
    "%autoreload 2\n",
    "\n",
    "from panoptes.utils.images import *"
   ]
  },
  {
   "cell_type": "code",
   "execution_count": 3,
   "metadata": {
    "collapsed": false
   },
   "outputs": [],
   "source": [
    "d = '/var/panoptes/images/20150920/raw'\n",
    "!cd $d"
   ]
  },
  {
   "cell_type": "code",
   "execution_count": 27,
   "metadata": {
    "collapsed": false
   },
   "outputs": [
    {
     "data": {
      "text/plain": [
       "['/var/panoptes/images/20150920/raw/01_11.cr2',\n",
       " '/var/panoptes/images/20150920/raw/01_12.cr2',\n",
       " '/var/panoptes/images/20150920/raw/01_120.cr2',\n",
       " '/var/panoptes/images/20150920/raw/01_121.cr2',\n",
       " '/var/panoptes/images/20150920/raw/01_122.cr2',\n",
       " '/var/panoptes/images/20150920/raw/01_123.cr2',\n",
       " '/var/panoptes/images/20150920/raw/01_124.cr2',\n",
       " '/var/panoptes/images/20150920/raw/01_125.cr2',\n",
       " '/var/panoptes/images/20150920/raw/01_126.cr2',\n",
       " '/var/panoptes/images/20150920/raw/01_127.cr2',\n",
       " '/var/panoptes/images/20150920/raw/01_128.cr2',\n",
       " '/var/panoptes/images/20150920/raw/01_129.cr2',\n",
       " '/var/panoptes/images/20150920/raw/01_140.cr2',\n",
       " '/var/panoptes/images/20150920/raw/01_141.cr2',\n",
       " '/var/panoptes/images/20150920/raw/01_142.cr2',\n",
       " '/var/panoptes/images/20150920/raw/01_143.cr2',\n",
       " '/var/panoptes/images/20150920/raw/01_144.cr2',\n",
       " '/var/panoptes/images/20150920/raw/01_145.cr2',\n",
       " '/var/panoptes/images/20150920/raw/01_146.cr2',\n",
       " '/var/panoptes/images/20150920/raw/01_150.cr2',\n",
       " '/var/panoptes/images/20150920/raw/01_151.cr2',\n",
       " '/var/panoptes/images/20150920/raw/01_152.cr2',\n",
       " '/var/panoptes/images/20150920/raw/01_153.cr2',\n",
       " '/var/panoptes/images/20150920/raw/01_154.cr2',\n",
       " '/var/panoptes/images/20150920/raw/01_155.cr2',\n",
       " '/var/panoptes/images/20150920/raw/01_156.cr2',\n",
       " '/var/panoptes/images/20150920/raw/01_157.cr2',\n",
       " '/var/panoptes/images/20150920/raw/01_158.cr2',\n",
       " '/var/panoptes/images/20150920/raw/01_159.cr2',\n",
       " '/var/panoptes/images/20150920/raw/01_160.cr2',\n",
       " '/var/panoptes/images/20150920/raw/01_161.cr2',\n",
       " '/var/panoptes/images/20150920/raw/01_162.cr2',\n",
       " '/var/panoptes/images/20150920/raw/01_163.cr2',\n",
       " '/var/panoptes/images/20150920/raw/01_164.cr2',\n",
       " '/var/panoptes/images/20150920/raw/01_165.cr2',\n",
       " '/var/panoptes/images/20150920/raw/01_166.cr2',\n",
       " '/var/panoptes/images/20150920/raw/01_167.cr2',\n",
       " '/var/panoptes/images/20150920/raw/01_168.cr2',\n",
       " '/var/panoptes/images/20150920/raw/01_169.cr2',\n",
       " '/var/panoptes/images/20150920/raw/01_170.cr2',\n",
       " '/var/panoptes/images/20150920/raw/01_171.cr2',\n",
       " '/var/panoptes/images/20150920/raw/01_172.cr2',\n",
       " '/var/panoptes/images/20150920/raw/01_173.cr2',\n",
       " '/var/panoptes/images/20150920/raw/01_174.cr2',\n",
       " '/var/panoptes/images/20150920/raw/01_175.cr2',\n",
       " '/var/panoptes/images/20150920/raw/01_176.cr2',\n",
       " '/var/panoptes/images/20150920/raw/01_177.cr2',\n",
       " '/var/panoptes/images/20150920/raw/01_178.cr2',\n",
       " '/var/panoptes/images/20150920/raw/01_179.cr2',\n",
       " '/var/panoptes/images/20150920/raw/01_180.cr2',\n",
       " '/var/panoptes/images/20150920/raw/01_181.cr2',\n",
       " '/var/panoptes/images/20150920/raw/01_182.cr2',\n",
       " '/var/panoptes/images/20150920/raw/01_183.cr2',\n",
       " '/var/panoptes/images/20150920/raw/01_184.cr2',\n",
       " '/var/panoptes/images/20150920/raw/01_185.cr2',\n",
       " '/var/panoptes/images/20150920/raw/01_186.cr2',\n",
       " '/var/panoptes/images/20150920/raw/01_187.cr2',\n",
       " '/var/panoptes/images/20150920/raw/01_188.cr2',\n",
       " '/var/panoptes/images/20150920/raw/01_189.cr2',\n",
       " '/var/panoptes/images/20150920/raw/01_190.cr2',\n",
       " '/var/panoptes/images/20150920/raw/01_191.cr2',\n",
       " '/var/panoptes/images/20150920/raw/01_192.cr2',\n",
       " '/var/panoptes/images/20150920/raw/01_193.cr2',\n",
       " '/var/panoptes/images/20150920/raw/01_194.cr2',\n",
       " '/var/panoptes/images/20150920/raw/01_195.cr2',\n",
       " '/var/panoptes/images/20150920/raw/01_196.cr2',\n",
       " '/var/panoptes/images/20150920/raw/01_197.cr2',\n",
       " '/var/panoptes/images/20150920/raw/01_198.cr2',\n",
       " '/var/panoptes/images/20150920/raw/01_199.cr2',\n",
       " '/var/panoptes/images/20150920/raw/01_200.cr2',\n",
       " '/var/panoptes/images/20150920/raw/01_201.cr2',\n",
       " '/var/panoptes/images/20150920/raw/01_202.cr2',\n",
       " '/var/panoptes/images/20150920/raw/01_203.cr2',\n",
       " '/var/panoptes/images/20150920/raw/01_204.cr2',\n",
       " '/var/panoptes/images/20150920/raw/01_205.cr2',\n",
       " '/var/panoptes/images/20150920/raw/01_206.cr2',\n",
       " '/var/panoptes/images/20150920/raw/01_207.cr2',\n",
       " '/var/panoptes/images/20150920/raw/01_208.cr2',\n",
       " '/var/panoptes/images/20150920/raw/01_209.cr2',\n",
       " '/var/panoptes/images/20150920/raw/01_210.cr2',\n",
       " '/var/panoptes/images/20150920/raw/01_211.cr2',\n",
       " '/var/panoptes/images/20150920/raw/01_212.cr2',\n",
       " '/var/panoptes/images/20150920/raw/01_213.cr2',\n",
       " '/var/panoptes/images/20150920/raw/01_214.cr2',\n",
       " '/var/panoptes/images/20150920/raw/01_215.cr2',\n",
       " '/var/panoptes/images/20150920/raw/01_216.cr2',\n",
       " '/var/panoptes/images/20150920/raw/01_217.cr2',\n",
       " '/var/panoptes/images/20150920/raw/01_218.cr2',\n",
       " '/var/panoptes/images/20150920/raw/01_219.cr2',\n",
       " '/var/panoptes/images/20150920/raw/01_220.cr2',\n",
       " '/var/panoptes/images/20150920/raw/01_221.cr2',\n",
       " '/var/panoptes/images/20150920/raw/01_222.cr2',\n",
       " '/var/panoptes/images/20150920/raw/01_223.cr2',\n",
       " '/var/panoptes/images/20150920/raw/01_224.cr2',\n",
       " '/var/panoptes/images/20150920/raw/01_225.cr2',\n",
       " '/var/panoptes/images/20150920/raw/01_226.cr2',\n",
       " '/var/panoptes/images/20150920/raw/01_227.cr2',\n",
       " '/var/panoptes/images/20150920/raw/01_228.cr2',\n",
       " '/var/panoptes/images/20150920/raw/01_229.cr2',\n",
       " '/var/panoptes/images/20150920/raw/01_230.cr2',\n",
       " '/var/panoptes/images/20150920/raw/01_231.cr2',\n",
       " '/var/panoptes/images/20150920/raw/01_232.cr2',\n",
       " '/var/panoptes/images/20150920/raw/01_233.cr2',\n",
       " '/var/panoptes/images/20150920/raw/01_234.cr2',\n",
       " '/var/panoptes/images/20150920/raw/01_235.cr2',\n",
       " '/var/panoptes/images/20150920/raw/01_236.cr2',\n",
       " '/var/panoptes/images/20150920/raw/01_237.cr2',\n",
       " '/var/panoptes/images/20150920/raw/01_238.cr2',\n",
       " '/var/panoptes/images/20150920/raw/01_239.cr2',\n",
       " '/var/panoptes/images/20150920/raw/01_240.cr2',\n",
       " '/var/panoptes/images/20150920/raw/01_241.cr2',\n",
       " '/var/panoptes/images/20150920/raw/01_242.cr2',\n",
       " '/var/panoptes/images/20150920/raw/01_243.cr2',\n",
       " '/var/panoptes/images/20150920/raw/01_244.cr2',\n",
       " '/var/panoptes/images/20150920/raw/01_245.cr2',\n",
       " '/var/panoptes/images/20150920/raw/01_246.cr2',\n",
       " '/var/panoptes/images/20150920/raw/01_247.cr2',\n",
       " '/var/panoptes/images/20150920/raw/01_248.cr2',\n",
       " '/var/panoptes/images/20150920/raw/01_249.cr2',\n",
       " '/var/panoptes/images/20150920/raw/01_250.cr2',\n",
       " '/var/panoptes/images/20150920/raw/01_251.cr2',\n",
       " '/var/panoptes/images/20150920/raw/01_252.cr2',\n",
       " '/var/panoptes/images/20150920/raw/01_253.cr2',\n",
       " '/var/panoptes/images/20150920/raw/01_254.cr2',\n",
       " '/var/panoptes/images/20150920/raw/01_255.cr2',\n",
       " '/var/panoptes/images/20150920/raw/01_256.cr2',\n",
       " '/var/panoptes/images/20150920/raw/01_257.cr2',\n",
       " '/var/panoptes/images/20150920/raw/01_258.cr2',\n",
       " '/var/panoptes/images/20150920/raw/01_259.cr2',\n",
       " '/var/panoptes/images/20150920/raw/01_260.cr2',\n",
       " '/var/panoptes/images/20150920/raw/01_261.cr2',\n",
       " '/var/panoptes/images/20150920/raw/01_262.cr2',\n",
       " '/var/panoptes/images/20150920/raw/01_263.cr2',\n",
       " '/var/panoptes/images/20150920/raw/01_264.cr2',\n",
       " '/var/panoptes/images/20150920/raw/01_265.cr2',\n",
       " '/var/panoptes/images/20150920/raw/01_266.cr2',\n",
       " '/var/panoptes/images/20150920/raw/01_267.cr2',\n",
       " '/var/panoptes/images/20150920/raw/01_268.cr2',\n",
       " '/var/panoptes/images/20150920/raw/01_269.cr2',\n",
       " '/var/panoptes/images/20150920/raw/01_270.cr2',\n",
       " '/var/panoptes/images/20150920/raw/01_271.cr2',\n",
       " '/var/panoptes/images/20150920/raw/01_272.cr2',\n",
       " '/var/panoptes/images/20150920/raw/01_273.cr2',\n",
       " '/var/panoptes/images/20150920/raw/01_274.cr2',\n",
       " '/var/panoptes/images/20150920/raw/01_275.cr2',\n",
       " '/var/panoptes/images/20150920/raw/01_276.cr2',\n",
       " '/var/panoptes/images/20150920/raw/01_277.cr2',\n",
       " '/var/panoptes/images/20150920/raw/01_278.cr2',\n",
       " '/var/panoptes/images/20150920/raw/01_279.cr2',\n",
       " '/var/panoptes/images/20150920/raw/01_280.cr2',\n",
       " '/var/panoptes/images/20150920/raw/01_281.cr2',\n",
       " '/var/panoptes/images/20150920/raw/01_282.cr2',\n",
       " '/var/panoptes/images/20150920/raw/01_283.cr2',\n",
       " '/var/panoptes/images/20150920/raw/01_284.cr2',\n",
       " '/var/panoptes/images/20150920/raw/01_285.cr2',\n",
       " '/var/panoptes/images/20150920/raw/01_286.cr2',\n",
       " '/var/panoptes/images/20150920/raw/01_287.cr2',\n",
       " '/var/panoptes/images/20150920/raw/01_288.cr2',\n",
       " '/var/panoptes/images/20150920/raw/01_289.cr2',\n",
       " '/var/panoptes/images/20150920/raw/01_290.cr2',\n",
       " '/var/panoptes/images/20150920/raw/01_291.cr2',\n",
       " '/var/panoptes/images/20150920/raw/01_292.cr2',\n",
       " '/var/panoptes/images/20150920/raw/01_293.cr2',\n",
       " '/var/panoptes/images/20150920/raw/01_294.cr2',\n",
       " '/var/panoptes/images/20150920/raw/01_295.cr2',\n",
       " '/var/panoptes/images/20150920/raw/01_296.cr2',\n",
       " '/var/panoptes/images/20150920/raw/01_297.cr2',\n",
       " '/var/panoptes/images/20150920/raw/01_298.cr2',\n",
       " '/var/panoptes/images/20150920/raw/01_299.cr2']"
      ]
     },
     "execution_count": 27,
     "metadata": {},
     "output_type": "execute_result"
    }
   ],
   "source": [
    "cr2_files = glob.glob('{}/01_*.cr2'.format(d))\n",
    "cr2_files.sort()\n",
    "cr2_files"
   ]
  },
  {
   "cell_type": "code",
   "execution_count": 34,
   "metadata": {
    "collapsed": false
   },
   "outputs": [],
   "source": [
    "c = cr2_files[0]"
   ]
  },
  {
   "cell_type": "code",
   "execution_count": 35,
   "metadata": {
    "collapsed": false
   },
   "outputs": [
    {
     "name": "stdout",
     "output_type": "stream",
     "text": [
      "\r\n",
      "Filename: /var/panoptes/images/20150920/raw/01_11.cr2\r\n",
      "Timestamp: Sun Sep 20 04:45:36 2015\r\n",
      "Camera: Canon EOS REBEL SL1\r\n",
      "ISO speed: 100\r\n",
      "Shutter: 29.9 sec\r\n",
      "Aperture: f/inf\r\n",
      "Focal length: 0.0 mm\r\n",
      "Embedded ICC profile: no\r\n",
      "Number of raw images: 1\r\n",
      "Thumb size:  5184 x 3456\r\n",
      "Full size:   5280 x 3528\r\n",
      "Image size:  5208 x 3476\r\n",
      "Output size: 5208 x 3476\r\n",
      "Raw colors: 3\r\n",
      "Filter pattern: RGGBRGGBRGGBRGGB\r\n",
      "Daylight multipliers: 2.266767 0.938615 1.281072\r\n",
      "Camera multipliers: 2068.000000 1024.000000 1589.000000 1024.000000\r\n"
     ]
    }
   ],
   "source": [
    "!dcraw -i -v $c"
   ]
  },
  {
   "cell_type": "code",
   "execution_count": 21,
   "metadata": {
    "collapsed": false
   },
   "outputs": [],
   "source": [
    "pixel_scale = ((206.265) * (18.5 * u.micron) / (85 * u.mm)).cgs * u.arcsecond"
   ]
  },
  {
   "cell_type": "code",
   "execution_count": 22,
   "metadata": {
    "collapsed": false
   },
   "outputs": [],
   "source": [
    "def compare(f0, f1, pixel_scale=0.):\n",
    "    print(f0, f1)\n",
    "    raw_data_00 = read_pgm(cr2_to_pgm(f0))\n",
    "    raw_data_01 = read_pgm(cr2_to_pgm(f1))\n",
    "\n",
    "    \n",
    "    x0, y0 = measure_offset(raw_data_00,raw_data_01, box_width=200)\n",
    "    \n",
    "    #with io.capture_output() as captured:    \n",
    "    #    !/var/panoptes/bin/measure_offset $f0 $f1 \n",
    "        \n",
    "    #x1 = float(get_file_contents('xcent.txt'))\n",
    "    #y1 = float(get_file_contents('ycent.txt'))\n",
    "\n",
    "    #return ( x0, y0, x1, y1 )\n",
    "    return (x0, y0)"
   ]
  },
  {
   "cell_type": "code",
   "execution_count": 23,
   "metadata": {
    "collapsed": false
   },
   "outputs": [
    {
     "name": "stdout",
     "output_type": "stream",
     "text": [
      "0\n",
      "/var/panoptes/images/20150920/raw/01_150.cr2 /var/panoptes/images/20150920/raw/01_151.cr2\n",
      "1\n",
      "/var/panoptes/images/20150920/raw/01_151.cr2 /var/panoptes/images/20150920/raw/01_152.cr2\n",
      "2\n",
      "/var/panoptes/images/20150920/raw/01_152.cr2 /var/panoptes/images/20150920/raw/01_153.cr2\n",
      "3\n",
      "/var/panoptes/images/20150920/raw/01_153.cr2 /var/panoptes/images/20150920/raw/01_154.cr2\n",
      "4\n",
      "/var/panoptes/images/20150920/raw/01_154.cr2 /var/panoptes/images/20150920/raw/01_155.cr2\n",
      "5\n",
      "/var/panoptes/images/20150920/raw/01_155.cr2 /var/panoptes/images/20150920/raw/01_156.cr2\n",
      "6\n",
      "/var/panoptes/images/20150920/raw/01_156.cr2 /var/panoptes/images/20150920/raw/01_157.cr2\n",
      "7\n",
      "/var/panoptes/images/20150920/raw/01_157.cr2 /var/panoptes/images/20150920/raw/01_158.cr2\n",
      "8\n",
      "/var/panoptes/images/20150920/raw/01_158.cr2 /var/panoptes/images/20150920/raw/01_159.cr2\n",
      "9\n",
      "/var/panoptes/images/20150920/raw/01_159.cr2 /var/panoptes/images/20150920/raw/01_160.cr2\n",
      "10\n",
      "/var/panoptes/images/20150920/raw/01_160.cr2 /var/panoptes/images/20150920/raw/01_161.cr2\n",
      "11\n",
      "/var/panoptes/images/20150920/raw/01_161.cr2 /var/panoptes/images/20150920/raw/01_162.cr2\n",
      "12\n",
      "/var/panoptes/images/20150920/raw/01_162.cr2 /var/panoptes/images/20150920/raw/01_163.cr2\n",
      "13\n",
      "/var/panoptes/images/20150920/raw/01_163.cr2 /var/panoptes/images/20150920/raw/01_164.cr2\n",
      "14\n",
      "/var/panoptes/images/20150920/raw/01_164.cr2 /var/panoptes/images/20150920/raw/01_165.cr2\n",
      "15\n",
      "/var/panoptes/images/20150920/raw/01_165.cr2 /var/panoptes/images/20150920/raw/01_166.cr2\n",
      "16\n",
      "/var/panoptes/images/20150920/raw/01_166.cr2 /var/panoptes/images/20150920/raw/01_167.cr2\n",
      "17\n",
      "/var/panoptes/images/20150920/raw/01_167.cr2 /var/panoptes/images/20150920/raw/01_168.cr2\n",
      "18\n",
      "/var/panoptes/images/20150920/raw/01_168.cr2 /var/panoptes/images/20150920/raw/01_169.cr2\n",
      "19\n",
      "/var/panoptes/images/20150920/raw/01_169.cr2 /var/panoptes/images/20150920/raw/01_170.cr2\n",
      "20\n",
      "/var/panoptes/images/20150920/raw/01_170.cr2 /var/panoptes/images/20150920/raw/01_171.cr2\n",
      "21\n",
      "/var/panoptes/images/20150920/raw/01_171.cr2 /var/panoptes/images/20150920/raw/01_172.cr2\n",
      "22\n",
      "/var/panoptes/images/20150920/raw/01_172.cr2 /var/panoptes/images/20150920/raw/01_173.cr2\n",
      "23\n",
      "/var/panoptes/images/20150920/raw/01_173.cr2 /var/panoptes/images/20150920/raw/01_174.cr2\n",
      "24\n",
      "/var/panoptes/images/20150920/raw/01_174.cr2 /var/panoptes/images/20150920/raw/01_175.cr2\n",
      "25\n",
      "/var/panoptes/images/20150920/raw/01_175.cr2 /var/panoptes/images/20150920/raw/01_176.cr2\n",
      "26\n",
      "/var/panoptes/images/20150920/raw/01_176.cr2 /var/panoptes/images/20150920/raw/01_177.cr2\n",
      "27\n",
      "/var/panoptes/images/20150920/raw/01_177.cr2 /var/panoptes/images/20150920/raw/01_178.cr2\n",
      "28\n",
      "/var/panoptes/images/20150920/raw/01_178.cr2 /var/panoptes/images/20150920/raw/01_179.cr2\n",
      "29\n",
      "/var/panoptes/images/20150920/raw/01_179.cr2 /var/panoptes/images/20150920/raw/01_180.cr2\n",
      "30\n",
      "/var/panoptes/images/20150920/raw/01_180.cr2 /var/panoptes/images/20150920/raw/01_181.cr2\n",
      "31\n",
      "/var/panoptes/images/20150920/raw/01_181.cr2 /var/panoptes/images/20150920/raw/01_182.cr2\n",
      "32\n",
      "/var/panoptes/images/20150920/raw/01_182.cr2 /var/panoptes/images/20150920/raw/01_183.cr2\n",
      "33\n",
      "/var/panoptes/images/20150920/raw/01_183.cr2 /var/panoptes/images/20150920/raw/01_184.cr2\n",
      "34\n",
      "/var/panoptes/images/20150920/raw/01_184.cr2 /var/panoptes/images/20150920/raw/01_185.cr2\n",
      "35\n",
      "/var/panoptes/images/20150920/raw/01_185.cr2 /var/panoptes/images/20150920/raw/01_186.cr2\n",
      "36\n",
      "/var/panoptes/images/20150920/raw/01_186.cr2 /var/panoptes/images/20150920/raw/01_187.cr2\n",
      "37\n",
      "/var/panoptes/images/20150920/raw/01_187.cr2 /var/panoptes/images/20150920/raw/01_188.cr2\n",
      "38\n",
      "/var/panoptes/images/20150920/raw/01_188.cr2 /var/panoptes/images/20150920/raw/01_189.cr2\n",
      "39\n",
      "/var/panoptes/images/20150920/raw/01_189.cr2 /var/panoptes/images/20150920/raw/01_190.cr2\n",
      "40\n",
      "/var/panoptes/images/20150920/raw/01_190.cr2 /var/panoptes/images/20150920/raw/01_191.cr2\n",
      "41\n",
      "/var/panoptes/images/20150920/raw/01_191.cr2 /var/panoptes/images/20150920/raw/01_192.cr2\n",
      "42\n",
      "/var/panoptes/images/20150920/raw/01_192.cr2 /var/panoptes/images/20150920/raw/01_193.cr2\n",
      "43\n",
      "/var/panoptes/images/20150920/raw/01_193.cr2 /var/panoptes/images/20150920/raw/01_194.cr2\n",
      "44\n",
      "/var/panoptes/images/20150920/raw/01_194.cr2 /var/panoptes/images/20150920/raw/01_195.cr2\n",
      "45\n",
      "/var/panoptes/images/20150920/raw/01_195.cr2 /var/panoptes/images/20150920/raw/01_196.cr2\n",
      "46\n",
      "/var/panoptes/images/20150920/raw/01_196.cr2 /var/panoptes/images/20150920/raw/01_197.cr2\n",
      "47\n",
      "/var/panoptes/images/20150920/raw/01_197.cr2 /var/panoptes/images/20150920/raw/01_198.cr2\n",
      "48\n",
      "/var/panoptes/images/20150920/raw/01_198.cr2 /var/panoptes/images/20150920/raw/01_199.cr2\n"
     ]
    },
    {
     "data": {
      "text/plain": [
       "{0: (0.5, -0.5),\n",
       " 1: (0.5, -0.5),\n",
       " 2: (0.27272727272727271, -0.27272727272727271),\n",
       " 3: (0.090909090909090912, -0.27272727272727271),\n",
       " 4: (0.61538461538461542, -0.46153846153846156),\n",
       " 5: (0.2857142857142857, -0.21428571428571427),\n",
       " 6: (0.0, -0.40000000000000002),\n",
       " 7: (-0.18181818181818182, -0.45454545454545453),\n",
       " 8: (-0.21428571428571427, -0.21428571428571427),\n",
       " 9: (0.45454545454545453, -0.54545454545454541),\n",
       " 10: (0.0, -0.18181818181818182),\n",
       " 11: (0.5, -0.5),\n",
       " 12: (1.0769230769230769, -0.076923076923076927),\n",
       " 13: (-0.1762114537444934, -0.26431718061674009),\n",
       " 14: (-1.2185430463576159, -0.25165562913907286),\n",
       " 15: (-0.35021097046413502, -0.1729957805907173),\n",
       " 16: (0.84974093264248707, -0.32642487046632124),\n",
       " 17: (-0.76923076923076927, -0.028846153846153848),\n",
       " 18: (-1.3972602739726028, -0.22602739726027396),\n",
       " 19: (0.88059701492537312, -0.11442786069651742),\n",
       " 20: (0.044897959183673466, -0.12653061224489795),\n",
       " 21: (-1.180232558139535, -0.19767441860465115),\n",
       " 22: (-0.62222222222222223, -0.12222222222222222),\n",
       " 23: (1.3333333333333333, -0.13333333333333333),\n",
       " 24: (-1.037037037037037, -0.37037037037037035),\n",
       " 25: (-1.1375, -0.28125),\n",
       " 26: (1.0365853658536586, -0.17073170731707318),\n",
       " 27: (-0.17721518987341772, -0.39240506329113922),\n",
       " 28: (-1.368421052631579, -0.090225563909774431),\n",
       " 29: (0.098765432098765427, -0.12345679012345678),\n",
       " 30: (0.83333333333333337, -0.42777777777777776),\n",
       " 31: (-0.989247311827957, -0.17204301075268819),\n",
       " 32: (-1.2453987730061349, -0.13496932515337423),\n",
       " 33: (0.95431472081218272, -0.27918781725888325),\n",
       " 34: (-0.0037593984962406013, -0.13533834586466165),\n",
       " 35: (-1.2380952380952381, -0.089285714285714288),\n",
       " 36: (0.16541353383458646, -0.18045112781954886),\n",
       " 37: (0.58771929824561409, -0.11842105263157894),\n",
       " 38: (-1.084848484848485, -0.29696969696969699),\n",
       " 39: (-1.0145985401459854, -0.18978102189781021),\n",
       " 40: (0.94871794871794868, -0.019230769230769232),\n",
       " 41: (-0.34156378600823045, -0.19341563786008231),\n",
       " 42: (-1.3741496598639455, -0.21088435374149661),\n",
       " 43: (0.12, -0.19272727272727272),\n",
       " 44: (0.379746835443038, -0.16033755274261605),\n",
       " 45: (-1.1949685534591195, -0.22641509433962265),\n",
       " 46: (-0.93406593406593408, -0.23626373626373626),\n",
       " 47: (0.65989847715736039, -0.21827411167512689),\n",
       " 48: (-0.5, -0.14423076923076922)}"
      ]
     },
     "execution_count": 23,
     "metadata": {},
     "output_type": "execute_result"
    }
   ],
   "source": [
    "comparison = {}\n",
    "\n",
    "for i in np.arange(len(cr2_files)):\n",
    "    if i < len(cr2_files) - 1:\n",
    "        print(i)\n",
    "        comparison[i] = compare(cr2_files[i], cr2_files[i+1], pixel_scale)\n",
    "        \n",
    "comparison"
   ]
  },
  {
   "cell_type": "code",
   "execution_count": 26,
   "metadata": {
    "collapsed": false
   },
   "outputs": [
    {
     "data": {
      "text/plain": [
       "<matplotlib.legend.Legend at 0x7f0cc0a9ae48>"
      ]
     },
     "execution_count": 26,
     "metadata": {},
     "output_type": "execute_result"
    },
    {
     "data": {
      "image/png": "[encoded data removed]",
      "text/plain": [
       "<matplotlib.figure.Figure at 0x7f0cae9fb668>"
      ]
     },
     "metadata": {},
     "output_type": "display_data"
    }
   ],
   "source": [
    "x0 = [v[0] for v in comparison.values()]\n",
    "y0 = [v[1] for v in comparison.values()]\n",
    "#x1 = [v[2] for v in comparison.values()]\n",
    "#y1 = [v[3] for v in comparison.values()]\n",
    "\n",
    "r = np.arange(len(comparison))\n",
    "\n",
    "plt.plot(r, x0, color='b', label=\"X Difference\")\n",
    "plt.plot(r, y0, color='r', label=\"Y Difference\")\n",
    "#plt.scatter(r, x1, color='g', linewidths=2.)\n",
    "#plt.scatter(r, y1, color='k', linewidths=2.)\n",
    "plt.legend()"
   ]
  },
  {
   "cell_type": "code",
   "execution_count": null,
   "metadata": {
    "collapsed": false
   },
   "outputs": [],
   "source": [
    "x1 * pixel_scale.to(u.ms)"
   ]
  }
 ],
 "metadata": {
  "kernelspec": {
   "display_name": "Python 3",
   "language": "python",
   "name": "python3"
  },
  "language_info": {
   "codemirror_mode": {
    "name": "ipython",
    "version": 3
   },
   "file_extension": ".py",
   "mimetype": "text/x-python",
   "name": "python",
   "nbconvert_exporter": "python",
   "pygments_lexer": "ipython3",
   "version": "3.4.3"
  }
 },
 "nbformat": 4,
 "nbformat_minor": 0
}
