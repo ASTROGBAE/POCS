{
 "cells": [
  {
   "cell_type": "code",
   "execution_count": 1,
   "metadata": {
    "collapsed": false
   },
   "outputs": [
    {
     "name": "stderr",
     "output_type": "stream",
     "text": [
      "/home/panoptes/anaconda3/lib/python3.4/site-packages/IPython/kernel/__init__.py:13: ShimWarning: The `IPython.kernel` package has been deprecated. You should import from ipykernel or jupyter_client instead.\n",
      "  \"You should import from ipykernel or jupyter_client instead.\", ShimWarning)\n"
     ]
    }
   ],
   "source": [
    "from matplotlib import pyplot as plt\n",
    "from astropy.io import fits\n",
    "import numpy as np\n",
    "from scipy import ndimage\n",
    "import re\n",
    "import glob\n",
    "import datetime\n",
    "import os\n",
    "import seaborn\n",
    "\n",
    "from astropy.utils.data import get_file_contents\n",
    "import astropy.units as u\n",
    "from astropy.time import Time\n",
    "from astropy.utils.console import ProgressBar\n",
    "\n",
    "import pandas as pd\n",
    "\n",
    "%matplotlib inline\n",
    "plt.style.use('ggplot')\n",
    "from IPython.utils import io"
   ]
  },
  {
   "cell_type": "code",
   "execution_count": 2,
   "metadata": {
    "collapsed": false
   },
   "outputs": [
    {
     "name": "stderr",
     "output_type": "stream",
     "text": [
      "INFO:PanoptesLogger:\n",
      "\n",
      "INFO:PanoptesLogger:********************************************************************************\n",
      "INFO:PanoptesLogger:\n",
      "\n",
      "DEBUG:PanoptesLogger:Adding warning logging to: PanError\n",
      "DEBUG:PanoptesLogger:Adding warning logging to: SerialData\n",
      "DEBUG:PanoptesLogger:Adding warning logging to: PanStateMachine\n",
      "DEBUG:PanoptesLogger:Adding warning logging to: WeatherStation\n",
      "DEBUG:PanoptesLogger:Adding warning logging to: AbstractCamera\n",
      "DEBUG:PanoptesLogger:Adding warning logging to: Observation\n",
      "DEBUG:PanoptesLogger:Adding warning logging to: Target\n",
      "DEBUG:PanoptesLogger:Adding warning logging to: Scheduler\n",
      "DEBUG:PanoptesLogger:Adding warning logging to: Observatory\n",
      "DEBUG:PanoptesLogger:Adding warning logging to: Panoptes\n",
      "DEBUG:PanoptesLogger:Adding warning logging to: Messaging\n",
      "DEBUG:PanoptesLogger:Adding warning logging to: EnvironmentalMonitor\n",
      "DEBUG:PanoptesLogger:Adding warning logging to: Webcams\n",
      "DEBUG:PanoptesLogger:Adding warning logging to: PanSensors\n"
     ]
    }
   ],
   "source": [
    "# Load the PANOPTES module dir\n",
    "import sys\n",
    "sys.path.append('../')\n",
    "\n",
    "# For development\n",
    "%load_ext autoreload\n",
    "%autoreload 2\n",
    "\n",
    "from panoptes.utils.images import *"
   ]
  },
  {
   "cell_type": "code",
   "execution_count": 26,
   "metadata": {
    "collapsed": false
   },
   "outputs": [],
   "source": [
    "dir1 = '/var/panoptes/images/20150925/01_150924_22[4-7]*.cr2'"
   ]
  },
  {
   "cell_type": "code",
   "execution_count": 28,
   "metadata": {
    "collapsed": false,
    "scrolled": true
   },
   "outputs": [
    {
     "data": {
      "text/plain": [
       "['/var/panoptes/images/20150925/01_150924_224012.cr2',\n",
       " '/var/panoptes/images/20150925/01_150924_224027.cr2',\n",
       " '/var/panoptes/images/20150925/01_150924_224042.cr2',\n",
       " '/var/panoptes/images/20150925/01_150924_224057.cr2',\n",
       " '/var/panoptes/images/20150925/01_150924_224112.cr2',\n",
       " '/var/panoptes/images/20150925/01_150924_224127.cr2',\n",
       " '/var/panoptes/images/20150925/01_150924_224142.cr2',\n",
       " '/var/panoptes/images/20150925/01_150924_224157.cr2',\n",
       " '/var/panoptes/images/20150925/01_150924_224212.cr2',\n",
       " '/var/panoptes/images/20150925/01_150924_224228.cr2',\n",
       " '/var/panoptes/images/20150925/01_150924_224242.cr2',\n",
       " '/var/panoptes/images/20150925/01_150924_224257.cr2',\n",
       " '/var/panoptes/images/20150925/01_150924_224312.cr2',\n",
       " '/var/panoptes/images/20150925/01_150924_224327.cr2',\n",
       " '/var/panoptes/images/20150925/01_150924_224343.cr2',\n",
       " '/var/panoptes/images/20150925/01_150924_224357.cr2',\n",
       " '/var/panoptes/images/20150925/01_150924_224413.cr2',\n",
       " '/var/panoptes/images/20150925/01_150924_224427.cr2',\n",
       " '/var/panoptes/images/20150925/01_150924_224442.cr2',\n",
       " '/var/panoptes/images/20150925/01_150924_224457.cr2',\n",
       " '/var/panoptes/images/20150925/01_150924_224512.cr2',\n",
       " '/var/panoptes/images/20150925/01_150924_224528.cr2',\n",
       " '/var/panoptes/images/20150925/01_150924_224542.cr2',\n",
       " '/var/panoptes/images/20150925/01_150924_224557.cr2',\n",
       " '/var/panoptes/images/20150925/01_150924_224613.cr2',\n",
       " '/var/panoptes/images/20150925/01_150924_224627.cr2',\n",
       " '/var/panoptes/images/20150925/01_150924_224643.cr2',\n",
       " '/var/panoptes/images/20150925/01_150924_224658.cr2',\n",
       " '/var/panoptes/images/20150925/01_150924_224712.cr2',\n",
       " '/var/panoptes/images/20150925/01_150924_224728.cr2',\n",
       " '/var/panoptes/images/20150925/01_150924_224742.cr2',\n",
       " '/var/panoptes/images/20150925/01_150924_224758.cr2',\n",
       " '/var/panoptes/images/20150925/01_150924_224813.cr2',\n",
       " '/var/panoptes/images/20150925/01_150924_224828.cr2',\n",
       " '/var/panoptes/images/20150925/01_150924_224842.cr2',\n",
       " '/var/panoptes/images/20150925/01_150924_224857.cr2',\n",
       " '/var/panoptes/images/20150925/01_150924_224913.cr2',\n",
       " '/var/panoptes/images/20150925/01_150924_224928.cr2',\n",
       " '/var/panoptes/images/20150925/01_150924_224942.cr2',\n",
       " '/var/panoptes/images/20150925/01_150924_224958.cr2',\n",
       " '/var/panoptes/images/20150925/01_150924_225013.cr2',\n",
       " '/var/panoptes/images/20150925/01_150924_225027.cr2',\n",
       " '/var/panoptes/images/20150925/01_150924_225042.cr2',\n",
       " '/var/panoptes/images/20150925/01_150924_225058.cr2',\n",
       " '/var/panoptes/images/20150925/01_150924_225112.cr2',\n",
       " '/var/panoptes/images/20150925/01_150924_225128.cr2',\n",
       " '/var/panoptes/images/20150925/01_150924_225142.cr2',\n",
       " '/var/panoptes/images/20150925/01_150924_225158.cr2',\n",
       " '/var/panoptes/images/20150925/01_150924_225213.cr2',\n",
       " '/var/panoptes/images/20150925/01_150924_225228.cr2',\n",
       " '/var/panoptes/images/20150925/01_150924_225243.cr2',\n",
       " '/var/panoptes/images/20150925/01_150924_225258.cr2',\n",
       " '/var/panoptes/images/20150925/01_150924_225313.cr2',\n",
       " '/var/panoptes/images/20150925/01_150924_225327.cr2',\n",
       " '/var/panoptes/images/20150925/01_150924_225342.cr2',\n",
       " '/var/panoptes/images/20150925/01_150924_225358.cr2',\n",
       " '/var/panoptes/images/20150925/01_150924_225413.cr2',\n",
       " '/var/panoptes/images/20150925/01_150924_225427.cr2',\n",
       " '/var/panoptes/images/20150925/01_150924_225443.cr2',\n",
       " '/var/panoptes/images/20150925/01_150924_225458.cr2',\n",
       " '/var/panoptes/images/20150925/01_150924_225513.cr2',\n",
       " '/var/panoptes/images/20150925/01_150924_225528.cr2',\n",
       " '/var/panoptes/images/20150925/01_150924_225543.cr2',\n",
       " '/var/panoptes/images/20150925/01_150924_225558.cr2',\n",
       " '/var/panoptes/images/20150925/01_150924_225613.cr2',\n",
       " '/var/panoptes/images/20150925/01_150924_225627.cr2',\n",
       " '/var/panoptes/images/20150925/01_150924_225643.cr2',\n",
       " '/var/panoptes/images/20150925/01_150924_225658.cr2',\n",
       " '/var/panoptes/images/20150925/01_150924_225713.cr2']"
      ]
     },
     "execution_count": 28,
     "metadata": {},
     "output_type": "execute_result"
    }
   ],
   "source": [
    "cr2_files = glob.glob(dir1)\n",
    "cr2_files.sort()\n",
    "cr2_files"
   ]
  },
  {
   "cell_type": "code",
   "execution_count": 29,
   "metadata": {
    "collapsed": false
   },
   "outputs": [
    {
     "data": {
      "text/latex": [
       "$0.013103894 \\; \\mathrm{{}^{\\prime\\prime}}$"
      ],
      "text/plain": [
       "<Quantity 0.013103894117647057 arcsec>"
      ]
     },
     "execution_count": 29,
     "metadata": {},
     "output_type": "execute_result"
    }
   ],
   "source": [
    "pixel_scale = ((206.265) * (5.4 * u.micron) / (85 * u.mm)).cgs * u.arcsecond\n",
    "pixel_scale"
   ]
  },
  {
   "cell_type": "code",
   "execution_count": 30,
   "metadata": {
    "collapsed": false
   },
   "outputs": [],
   "source": [
    "def compare_files(f0, f1, compare=False):\n",
    "    pgm_00 = f0.replace('.cr2','.pgm')\n",
    "    pgm_01 = f1.replace('.cr2','.pgm')    \n",
    "    \n",
    "    #if not os.path.exists(pgm_00):\n",
    "    pgm_00 = cr2_to_pgm(f0)\n",
    "    #else:\n",
    "    #    print(\"Path exists, using {}\".format(pgm_00))\n",
    "                \n",
    "    #if not os.path.exists(pgm_01):\n",
    "    pgm_01 = cr2_to_pgm(f1)\n",
    "    #else:\n",
    "    #    print(\"Path exists, using {}\".format(pgm_01))                \n",
    "\n",
    "#    exif_00 = read_exif(pgm_00)\n",
    "    exif_01 = read_exif(f1)    \n",
    "    \n",
    "\n",
    "    raw_data_00 = read_pgm(pgm_00)\n",
    "    # print(raw_data_00)\n",
    "    raw_data_01 = read_pgm(pgm_01)\n",
    "    # print(raw_data_01)\n",
    "\n",
    "    x0, y0 = measure_offset(raw_data_00,raw_data_01, box_width=200)\n",
    "\n",
    "    fmt = '%a %b %d %H:%M:%S %Y'\n",
    "    t = datetime.datetime.strptime(exif_01.get('Timestamp'), fmt)\n",
    "\n",
    "    if compare:\n",
    "        with io.capture_output() as captured:    \n",
    "            !/var/panoptes/bin/measure_offset $f0 $f1 \n",
    "\n",
    "        x1 = float(get_file_contents('xcent.txt'))\n",
    "        y1 = float(get_file_contents('ycent.txt'))\n",
    "        \n",
    "        vals = (x0, y0, x1, y1, t)\n",
    "    else:\n",
    "        vals = (x0, y0, t)\n",
    "\n",
    "    return vals"
   ]
  },
  {
   "cell_type": "code",
   "execution_count": 13,
   "metadata": {
    "collapsed": false
   },
   "outputs": [],
   "source": [
    "comparison = []\n",
    "\n",
    "for i in np.arange(len(cr2_files)):\n",
    "    if i < len(cr2_files) - 1:\n",
    "        comparison.append(compare_files(cr2_files[i], cr2_files[i+1]))"
   ]
  },
  {
   "cell_type": "code",
   "execution_count": 14,
   "metadata": {
    "collapsed": false
   },
   "outputs": [
    {
     "data": {
      "text/plain": [
       "[(-0.5, 0.0, datetime.datetime(2015, 9, 25, 8, 48, 19)),\n",
       " (0.0, 0.0, datetime.datetime(2015, 9, 25, 8, 48, 34)),\n",
       " (-0.5, 0.0, datetime.datetime(2015, 9, 25, 8, 48, 50)),\n",
       " (1.0, 0.0, datetime.datetime(2015, 9, 25, 8, 49, 5)),\n",
       " (1.0, 0.0, datetime.datetime(2015, 9, 25, 8, 49, 20)),\n",
       " (0.0, 0.0, datetime.datetime(2015, 9, 25, 8, 49, 34)),\n",
       " (0.0, 0.0, datetime.datetime(2015, 9, 25, 8, 49, 50)),\n",
       " (0.0, 0.0, datetime.datetime(2015, 9, 25, 8, 50, 5)),\n",
       " (0.0, 0.0, datetime.datetime(2015, 9, 25, 8, 50, 20)),\n",
       " (0.0, 0.0, datetime.datetime(2015, 9, 25, 8, 50, 35)),\n",
       " (0.0, 0.0, datetime.datetime(2015, 9, 25, 8, 50, 50)),\n",
       " (0.66666666666666663, 0.0, datetime.datetime(2015, 9, 25, 8, 51, 5)),\n",
       " (1.3333333333333333, 0.0, datetime.datetime(2015, 9, 25, 8, 51, 19)),\n",
       " (0.0, 0.0, datetime.datetime(2015, 9, 25, 8, 51, 34)),\n",
       " (0.0, 0.0, datetime.datetime(2015, 9, 25, 8, 51, 50)),\n",
       " (0.0, 0.0, datetime.datetime(2015, 9, 25, 8, 52, 5)),\n",
       " (0.0, 0.0, datetime.datetime(2015, 9, 25, 8, 52, 19)),\n",
       " (0.0, 0.0, datetime.datetime(2015, 9, 25, 8, 52, 35)),\n",
       " (0.0, 0.0, datetime.datetime(2015, 9, 25, 8, 52, 50)),\n",
       " (0.0, 0.0, datetime.datetime(2015, 9, 25, 8, 53, 5)),\n",
       " (0.0, 0.0, datetime.datetime(2015, 9, 25, 8, 53, 20)),\n",
       " (0.0, 0.0, datetime.datetime(2015, 9, 25, 8, 53, 35)),\n",
       " (-1.0, -0.33333333333333331, datetime.datetime(2015, 9, 25, 8, 53, 50)),\n",
       " (-0.33333333333333331,\n",
       "  -0.33333333333333331,\n",
       "  datetime.datetime(2015, 9, 25, 8, 54, 5)),\n",
       " (-0.33333333333333331,\n",
       "  0.33333333333333331,\n",
       "  datetime.datetime(2015, 9, 25, 8, 54, 20)),\n",
       " (-0.33333333333333331,\n",
       "  0.33333333333333331,\n",
       "  datetime.datetime(2015, 9, 25, 8, 54, 35)),\n",
       " (0.0, 0.0, datetime.datetime(2015, 9, 25, 8, 54, 50)),\n",
       " (0.0, 0.0, datetime.datetime(2015, 9, 25, 8, 55, 5))]"
      ]
     },
     "execution_count": 14,
     "metadata": {},
     "output_type": "execute_result"
    }
   ],
   "source": [
    "comparison"
   ]
  },
  {
   "cell_type": "code",
   "execution_count": 15,
   "metadata": {
    "collapsed": false
   },
   "outputs": [
    {
     "data": {
      "text/plain": [
       "DatetimeIndex(['2015-09-25 08:48:19', '2015-09-25 08:48:34',\n",
       "               '2015-09-25 08:48:50', '2015-09-25 08:49:05',\n",
       "               '2015-09-25 08:49:20', '2015-09-25 08:49:34',\n",
       "               '2015-09-25 08:49:50', '2015-09-25 08:50:05',\n",
       "               '2015-09-25 08:50:20', '2015-09-25 08:50:35',\n",
       "               '2015-09-25 08:50:50', '2015-09-25 08:51:05',\n",
       "               '2015-09-25 08:51:19', '2015-09-25 08:51:34',\n",
       "               '2015-09-25 08:51:50', '2015-09-25 08:52:05',\n",
       "               '2015-09-25 08:52:19', '2015-09-25 08:52:35',\n",
       "               '2015-09-25 08:52:50', '2015-09-25 08:53:05',\n",
       "               '2015-09-25 08:53:20', '2015-09-25 08:53:35',\n",
       "               '2015-09-25 08:53:50', '2015-09-25 08:54:05',\n",
       "               '2015-09-25 08:54:20', '2015-09-25 08:54:35',\n",
       "               '2015-09-25 08:54:50', '2015-09-25 08:55:05'],\n",
       "              dtype='datetime64[ns]', freq=None, tz=None)"
      ]
     },
     "execution_count": 15,
     "metadata": {},
     "output_type": "execute_result"
    }
   ],
   "source": [
    "x0 = [x[0] for x in comparison]\n",
    "y0 = [x[1]*-1 for x in comparison]\n",
    "#x1 = [x[2] for x in comparison]\n",
    "#y1 = [x[3] for x in comparison]\n",
    "\n",
    "dates = [x[-1] for x in comparison]\n",
    "dt_index = pd.DatetimeIndex(dates)\n",
    "dt_index"
   ]
  },
  {
   "cell_type": "code",
   "execution_count": 16,
   "metadata": {
    "collapsed": false
   },
   "outputs": [],
   "source": [
    "x0_offset = pd.DataFrame(x0, dt_index)\n",
    "y0_offset = pd.DataFrame(y0, dt_index)\n",
    "#x1_offset = pd.DataFrame(y1, dt_index)\n",
    "#y1_offset = pd.DataFrame(x1, dt_index)"
   ]
  },
  {
   "cell_type": "code",
   "execution_count": 17,
   "metadata": {
    "collapsed": false
   },
   "outputs": [],
   "source": [
    "#series = pd.concat([x0_offset, x1_offset, y0_offset, y1_offset], axis=1)\n",
    "#series.columns=[\"Gee $\\Delta{x}$\",\"Guyon $\\Delta{x}$\",\"Gee $\\Delta{y}$\",\"Guyon $\\Delta{y}$\"]\n",
    "\n",
    "series = pd.concat([x0_offset, y0_offset], axis=1)\n",
    "series.columns=[\"Gee $\\Delta{x}$\",\"Gee $\\Delta{y}$\"]\n",
    "\n",
    "series.index = dt_index"
   ]
  },
  {
   "cell_type": "code",
   "execution_count": 18,
   "metadata": {
    "collapsed": false
   },
   "outputs": [
    {
     "data": {
      "text/html": [
       "<div>\n",
       "<table border=\"1\" class=\"dataframe\">\n",
       "  <thead>\n",
       "    <tr style=\"text-align: right;\">\n",
       "      <th></th>\n",
       "      <th>Gee $\\Delta{x}$</th>\n",
       "      <th>Gee $\\Delta{y}$</th>\n",
       "    </tr>\n",
       "  </thead>\n",
       "  <tbody>\n",
       "    <tr>\n",
       "      <th>2015-09-25 08:48:19</th>\n",
       "      <td>-0.500000</td>\n",
       "      <td>-0.000000</td>\n",
       "    </tr>\n",
       "    <tr>\n",
       "      <th>2015-09-25 08:48:34</th>\n",
       "      <td>0.000000</td>\n",
       "      <td>-0.000000</td>\n",
       "    </tr>\n",
       "    <tr>\n",
       "      <th>2015-09-25 08:48:50</th>\n",
       "      <td>-0.500000</td>\n",
       "      <td>-0.000000</td>\n",
       "    </tr>\n",
       "    <tr>\n",
       "      <th>2015-09-25 08:49:05</th>\n",
       "      <td>1.000000</td>\n",
       "      <td>-0.000000</td>\n",
       "    </tr>\n",
       "    <tr>\n",
       "      <th>2015-09-25 08:49:20</th>\n",
       "      <td>1.000000</td>\n",
       "      <td>-0.000000</td>\n",
       "    </tr>\n",
       "    <tr>\n",
       "      <th>2015-09-25 08:49:34</th>\n",
       "      <td>0.000000</td>\n",
       "      <td>-0.000000</td>\n",
       "    </tr>\n",
       "    <tr>\n",
       "      <th>2015-09-25 08:49:50</th>\n",
       "      <td>0.000000</td>\n",
       "      <td>-0.000000</td>\n",
       "    </tr>\n",
       "    <tr>\n",
       "      <th>2015-09-25 08:50:05</th>\n",
       "      <td>0.000000</td>\n",
       "      <td>-0.000000</td>\n",
       "    </tr>\n",
       "    <tr>\n",
       "      <th>2015-09-25 08:50:20</th>\n",
       "      <td>0.000000</td>\n",
       "      <td>-0.000000</td>\n",
       "    </tr>\n",
       "    <tr>\n",
       "      <th>2015-09-25 08:50:35</th>\n",
       "      <td>0.000000</td>\n",
       "      <td>-0.000000</td>\n",
       "    </tr>\n",
       "    <tr>\n",
       "      <th>2015-09-25 08:50:50</th>\n",
       "      <td>0.000000</td>\n",
       "      <td>-0.000000</td>\n",
       "    </tr>\n",
       "    <tr>\n",
       "      <th>2015-09-25 08:51:05</th>\n",
       "      <td>0.666667</td>\n",
       "      <td>-0.000000</td>\n",
       "    </tr>\n",
       "    <tr>\n",
       "      <th>2015-09-25 08:51:19</th>\n",
       "      <td>1.333333</td>\n",
       "      <td>-0.000000</td>\n",
       "    </tr>\n",
       "    <tr>\n",
       "      <th>2015-09-25 08:51:34</th>\n",
       "      <td>0.000000</td>\n",
       "      <td>-0.000000</td>\n",
       "    </tr>\n",
       "    <tr>\n",
       "      <th>2015-09-25 08:51:50</th>\n",
       "      <td>0.000000</td>\n",
       "      <td>-0.000000</td>\n",
       "    </tr>\n",
       "    <tr>\n",
       "      <th>2015-09-25 08:52:05</th>\n",
       "      <td>0.000000</td>\n",
       "      <td>-0.000000</td>\n",
       "    </tr>\n",
       "    <tr>\n",
       "      <th>2015-09-25 08:52:19</th>\n",
       "      <td>0.000000</td>\n",
       "      <td>-0.000000</td>\n",
       "    </tr>\n",
       "    <tr>\n",
       "      <th>2015-09-25 08:52:35</th>\n",
       "      <td>0.000000</td>\n",
       "      <td>-0.000000</td>\n",
       "    </tr>\n",
       "    <tr>\n",
       "      <th>2015-09-25 08:52:50</th>\n",
       "      <td>0.000000</td>\n",
       "      <td>-0.000000</td>\n",
       "    </tr>\n",
       "    <tr>\n",
       "      <th>2015-09-25 08:53:05</th>\n",
       "      <td>0.000000</td>\n",
       "      <td>-0.000000</td>\n",
       "    </tr>\n",
       "    <tr>\n",
       "      <th>2015-09-25 08:53:20</th>\n",
       "      <td>0.000000</td>\n",
       "      <td>-0.000000</td>\n",
       "    </tr>\n",
       "    <tr>\n",
       "      <th>2015-09-25 08:53:35</th>\n",
       "      <td>0.000000</td>\n",
       "      <td>-0.000000</td>\n",
       "    </tr>\n",
       "    <tr>\n",
       "      <th>2015-09-25 08:53:50</th>\n",
       "      <td>-1.000000</td>\n",
       "      <td>0.333333</td>\n",
       "    </tr>\n",
       "    <tr>\n",
       "      <th>2015-09-25 08:54:05</th>\n",
       "      <td>-0.333333</td>\n",
       "      <td>0.333333</td>\n",
       "    </tr>\n",
       "    <tr>\n",
       "      <th>2015-09-25 08:54:20</th>\n",
       "      <td>-0.333333</td>\n",
       "      <td>-0.333333</td>\n",
       "    </tr>\n",
       "    <tr>\n",
       "      <th>2015-09-25 08:54:35</th>\n",
       "      <td>-0.333333</td>\n",
       "      <td>-0.333333</td>\n",
       "    </tr>\n",
       "    <tr>\n",
       "      <th>2015-09-25 08:54:50</th>\n",
       "      <td>0.000000</td>\n",
       "      <td>-0.000000</td>\n",
       "    </tr>\n",
       "    <tr>\n",
       "      <th>2015-09-25 08:55:05</th>\n",
       "      <td>0.000000</td>\n",
       "      <td>-0.000000</td>\n",
       "    </tr>\n",
       "  </tbody>\n",
       "</table>\n",
       "</div>"
      ],
      "text/plain": [
       "                     Gee $\\Delta{x}$  Gee $\\Delta{y}$\n",
       "2015-09-25 08:48:19        -0.500000        -0.000000\n",
       "2015-09-25 08:48:34         0.000000        -0.000000\n",
       "2015-09-25 08:48:50        -0.500000        -0.000000\n",
       "2015-09-25 08:49:05         1.000000        -0.000000\n",
       "2015-09-25 08:49:20         1.000000        -0.000000\n",
       "2015-09-25 08:49:34         0.000000        -0.000000\n",
       "2015-09-25 08:49:50         0.000000        -0.000000\n",
       "2015-09-25 08:50:05         0.000000        -0.000000\n",
       "2015-09-25 08:50:20         0.000000        -0.000000\n",
       "2015-09-25 08:50:35         0.000000        -0.000000\n",
       "2015-09-25 08:50:50         0.000000        -0.000000\n",
       "2015-09-25 08:51:05         0.666667        -0.000000\n",
       "2015-09-25 08:51:19         1.333333        -0.000000\n",
       "2015-09-25 08:51:34         0.000000        -0.000000\n",
       "2015-09-25 08:51:50         0.000000        -0.000000\n",
       "2015-09-25 08:52:05         0.000000        -0.000000\n",
       "2015-09-25 08:52:19         0.000000        -0.000000\n",
       "2015-09-25 08:52:35         0.000000        -0.000000\n",
       "2015-09-25 08:52:50         0.000000        -0.000000\n",
       "2015-09-25 08:53:05         0.000000        -0.000000\n",
       "2015-09-25 08:53:20         0.000000        -0.000000\n",
       "2015-09-25 08:53:35         0.000000        -0.000000\n",
       "2015-09-25 08:53:50        -1.000000         0.333333\n",
       "2015-09-25 08:54:05        -0.333333         0.333333\n",
       "2015-09-25 08:54:20        -0.333333        -0.333333\n",
       "2015-09-25 08:54:35        -0.333333        -0.333333\n",
       "2015-09-25 08:54:50         0.000000        -0.000000\n",
       "2015-09-25 08:55:05         0.000000        -0.000000"
      ]
     },
     "execution_count": 18,
     "metadata": {},
     "output_type": "execute_result"
    }
   ],
   "source": [
    "series"
   ]
  },
  {
   "cell_type": "code",
   "execution_count": 19,
   "metadata": {
    "collapsed": false
   },
   "outputs": [
    {
     "data": {
      "text/plain": [
       "<matplotlib.legend.Legend at 0x7f72c4731ac8>"
      ]
     },
     "execution_count": 19,
     "metadata": {},
     "output_type": "execute_result"
    },
    {
     "data": {
      "image/png": "[encoded data removed]",
      "text/plain": [
       "<matplotlib.figure.Figure at 0x7f72c4731128>"
      ]
     },
     "metadata": {},
     "output_type": "display_data"
    }
   ],
   "source": [
    "series.plot()\n",
    "plt.legend(loc=1)"
   ]
  }
 ],
 "metadata": {
  "kernelspec": {
   "display_name": "Python 3",
   "language": "python",
   "name": "python3"
  },
  "language_info": {
   "codemirror_mode": {
    "name": "ipython",
    "version": 3
   },
   "file_extension": ".py",
   "mimetype": "text/x-python",
   "name": "python",
   "nbconvert_exporter": "python",
   "pygments_lexer": "ipython3",
   "version": "3.4.3"
  }
 },
 "nbformat": 4,
 "nbformat_minor": 0
}
