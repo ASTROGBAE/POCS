{
 "cells": [
  {
   "cell_type": "code",
   "execution_count": 1,
   "metadata": {
    "collapsed": false
   },
   "outputs": [],
   "source": [
    "from pocs import POCS\n",
    "from pocs.utils.images.calculations import get_pec_data, get_pec_fit, make_pec_fit_fn\n",
    "from astropy.table import Table\n",
    "from matplotlib import pyplot as plt\n",
    "%matplotlib inline\n",
    "\n",
    "%load_ext autoreload\n",
    "%autoreload 2"
   ]
  },
  {
   "cell_type": "code",
   "execution_count": 2,
   "metadata": {
    "collapsed": true
   },
   "outputs": [
    {
     "name": "stderr",
     "output_type": "stream",
     "text": [
      "2016-07-18 12:41:39 ganymede panoptes[11061] INFO Loading state table: simple_state_table\n",
      "2016-07-18 12:41:39 ganymede panoptes[11061] INFO ********************************************************************************\n",
      "2016-07-18 12:41:39 ganymede panoptes[11061] INFO Initializing PANOPTES unit\n",
      "2016-07-18 12:41:39 ganymede panoptes[11061] INFO Welcome PanTester!\n",
      "2016-07-18 12:41:39 ganymede panoptes[11061] INFO \t observatory\n",
      "2016-07-18 12:41:39 ganymede pocs.observatory[11061] INFO \tInitializing observatory\n",
      "2016-07-18 12:41:39 ganymede pocs.observatory[11061] INFO \t\t Setting up location\n",
      "2016-07-18 12:41:39 ganymede pocs.observatory[11061] INFO \t\t Setting up mount\n",
      "2016-07-18 12:41:39 ganymede pocs.mount.simulator[11061] INFO \t\tUsing simulator mount\n",
      "2016-07-18 12:41:39 ganymede pocs.observatory[11061] INFO \t\t Setting up cameras\n",
      "2016-07-18 12:41:39 ganymede pocs.camera.simulator[11061] INFO \t\t Using simulator camera\n",
      "2016-07-18 12:41:39 ganymede pocs.camera.simulator[11061] INFO \t\t Using simulator camera\n",
      "2016-07-18 12:41:39 ganymede pocs.observatory[11061] INFO \t\t Setting up scheduler\n",
      "/home/wtgee/anaconda3/lib/python3.5/site-packages/matplotlib/__init__.py:1350: UserWarning:  This call to matplotlib.use() has no effect\n",
      "because the backend has already been chosen;\n",
      "matplotlib.use() must be called *before* pylab, matplotlib.pyplot,\n",
      "or matplotlib.backends is imported for the first time.\n",
      "\n",
      "  warnings.warn(_use_error_msg)\n",
      "2016-07-18 12:41:40 ganymede pocs.observatory[11061] INFO \t Observatory initialized\n",
      "2016-07-18 12:41:40 ganymede panoptes[11061] INFO PanTester says: Hi there!\n"
     ]
    }
   ],
   "source": [
    "# Get a POCS simulator so we can use the Observer\n",
    "pocs = POCS(simulator=['all'])"
   ]
  },
  {
   "cell_type": "markdown",
   "metadata": {},
   "source": [
    "## Generating a PEC graph for an image sequence\n",
    "\n",
    "The image utils contains a function to gather all the PEC data from a specific directory, called `get_pec_data`. This function takes a directory name, guide image (will search for one in the directory), and observer (usually `pocs.observer`). The guide image has already been solved during operation so should contain a reference WCS (if the guide image is a CR2 it will automatically be converted to a FITS and solved)"
   ]
  },
  {
   "cell_type": "code",
   "execution_count": 3,
   "metadata": {
    "collapsed": false
   },
   "outputs": [],
   "source": [
    "image_seq_dir = 'Tres3/20160708T093741/'"
   ]
  },
  {
   "cell_type": "markdown",
   "metadata": {},
   "source": [
    "**_Note: The function below will attempt to plate-solve all the images if they have not already been solved. This can take a while._**"
   ]
  },
  {
   "cell_type": "code",
   "execution_count": 5,
   "metadata": {
    "collapsed": false
   },
   "outputs": [],
   "source": [
    "# The cameraid_000 prefix are the 30-second exposures\n",
    "pec_table = get_pec_data(image_seq_dir, img_prefix='ee04d1_000', observer=pocs.observatory.scheduler, verbose=False)"
   ]
  },
  {
   "cell_type": "code",
   "execution_count": 6,
   "metadata": {
    "collapsed": false
   },
   "outputs": [
    {
     "data": {
      "text/html": [
       "&lt;Table length=15&gt;\n",
       "<table id=\"table140180443557784-863512\" class=\"table table-striped table-bordered table-condensed\">\n",
       "<thead><tr><th>time_range</th><th>dec</th><th>dt</th><th>ra</th><th>ra_as_rate</th><th>dec_as_rate</th><th>ha</th><th>dec_as</th><th>offset</th><th>ra_as</th></tr></thead>\n",
       "<tr><td>+57577.40317</td><td>+37.551</td><td>60.0</td><td>+268.027</td><td>+0.00000</td><td>+0.00000</td><td>+8.309</td><td>+0.000</td><td>60.0</td><td>+0.000</td></tr>\n",
       "<tr><td>+57577.40377</td><td>+37.551</td><td>52.0</td><td>+268.028</td><td>+0.06088</td><td>-0.02779</td><td>+8.525</td><td>-1.445</td><td>112.0</td><td>+3.166</td></tr>\n",
       "<tr><td>+57577.40436</td><td>+37.550</td><td>51.0</td><td>+268.025</td><td>-0.15989</td><td>-0.03012</td><td>+8.741</td><td>-1.536</td><td>163.0</td><td>-8.154</td></tr>\n",
       "<tr><td>+57577.40495</td><td>+37.550</td><td>51.0</td><td>+268.021</td><td>-0.28020</td><td>-0.01828</td><td>+8.958</td><td>-0.932</td><td>214.0</td><td>-14.290</td></tr>\n",
       "<tr><td>+57577.40554</td><td>+37.550</td><td>51.0</td><td>+268.018</td><td>-0.26216</td><td>-0.01848</td><td>+9.175</td><td>-0.943</td><td>265.0</td><td>-13.370</td></tr>\n",
       "<tr><td>+57577.40613</td><td>+37.550</td><td>51.0</td><td>+268.014</td><td>-0.22129</td><td>-0.02013</td><td>+9.391</td><td>-1.027</td><td>316.0</td><td>-11.286</td></tr>\n",
       "<tr><td>+57577.40674</td><td>+37.550</td><td>52.0</td><td>+268.015</td><td>+0.04425</td><td>-0.00045</td><td>+9.607</td><td>-0.024</td><td>368.0</td><td>+2.301</td></tr>\n",
       "<tr><td>+57577.40733</td><td>+37.549</td><td>51.0</td><td>+268.017</td><td>+0.11392</td><td>-0.01904</td><td>+9.819</td><td>-0.971</td><td>419.0</td><td>+5.810</td></tr>\n",
       "<tr><td>+57577.40792</td><td>+37.549</td><td>51.0</td><td>+268.020</td><td>+0.26530</td><td>-0.02410</td><td>+10.028</td><td>-1.229</td><td>470.0</td><td>+13.530</td></tr>\n",
       "<tr><td>+57577.40851</td><td>+37.549</td><td>51.0</td><td>+268.025</td><td>+0.34300</td><td>-0.02340</td><td>+10.236</td><td>-1.194</td><td>521.0</td><td>+17.493</td></tr>\n",
       "<tr><td>+57577.40910</td><td>+37.548</td><td>51.0</td><td>+268.026</td><td>+0.07045</td><td>-0.02162</td><td>+10.448</td><td>-1.103</td><td>572.0</td><td>+3.593</td></tr>\n",
       "<tr><td>+57577.40969</td><td>+37.548</td><td>51.0</td><td>+268.025</td><td>-0.09656</td><td>-0.01327</td><td>+10.663</td><td>-0.677</td><td>623.0</td><td>-4.925</td></tr>\n",
       "<tr><td>+57577.41028</td><td>+37.548</td><td>51.0</td><td>+268.019</td><td>-0.41348</td><td>-0.02378</td><td>+10.882</td><td>-1.213</td><td>674.0</td><td>-21.087</td></tr>\n",
       "<tr><td>+57577.41087</td><td>+37.548</td><td>51.0</td><td>+268.016</td><td>-0.22512</td><td>-0.01078</td><td>+11.098</td><td>-0.550</td><td>725.0</td><td>-11.481</td></tr>\n",
       "<tr><td>+57577.41146</td><td>+37.547</td><td>51.0</td><td>+268.012</td><td>-0.28088</td><td>-0.02218</td><td>+11.315</td><td>-1.131</td><td>776.0</td><td>-14.325</td></tr>\n",
       "</table><style>table.dataTable {clear: both; width: auto !important; margin: 0 !important;}\n",
       ".dataTables_info, .dataTables_length, .dataTables_filter, .dataTables_paginate{\n",
       "display: inline-block; margin-right: 1em; }\n",
       ".paginate_button { margin-right: 5px; }\n",
       "</style>\n",
       "<script>\n",
       "require.config({paths: {\n",
       "    datatables: 'https://cdn.datatables.net/1.10.9/js/jquery.dataTables.min'\n",
       "}});\n",
       "require([\"datatables\"], function(){\n",
       "    console.log(\"$('#table140180443557784-863512').dataTable()\");\n",
       "    $('#table140180443557784-863512').dataTable({\n",
       "        \"order\": [],\n",
       "        \"iDisplayLength\": 5,\n",
       "        \"aLengthMenu\": [[5, 10, 25, 50, 100, 500, 1000, -1], [5, 10, 25, 50, 100, 500, 1000, 'All']],\n",
       "        \"pagingType\": \"full_numbers\"\n",
       "    });\n",
       "});\n",
       "</script>\n"
      ],
      "text/plain": [
       "<IPython.core.display.HTML object>"
      ]
     },
     "execution_count": 6,
     "metadata": {},
     "output_type": "execute_result"
    }
   ],
   "source": [
    "# Show an example of the data\n",
    "pec_table.show_in_notebook(display_length=5)"
   ]
  },
  {
   "cell_type": "code",
   "execution_count": 7,
   "metadata": {
    "collapsed": false
   },
   "outputs": [
    {
     "data": {
      "text/plain": [
       "array([  3.08959064,   0.28267034, -10.69954637,  -0.03298436])"
      ]
     },
     "execution_count": 7,
     "metadata": {},
     "output_type": "execute_result"
    }
   ],
   "source": [
    "# Fit the data\n",
    "params = get_pec_fit(pec_table)\n",
    "params"
   ]
  },
  {
   "cell_type": "code",
   "execution_count": 8,
   "metadata": {
    "collapsed": false
   },
   "outputs": [],
   "source": [
    "# Create the fit function\n",
    "pec_fn = make_pec_fit_fn(params)"
   ]
  },
  {
   "cell_type": "code",
   "execution_count": 11,
   "metadata": {
    "collapsed": false
   },
   "outputs": [
    {
     "data": {
      "text/plain": [
       "<matplotlib.text.Text at 0x7f7e4cb86a90>"
      ]
     },
     "execution_count": 11,
     "metadata": {},
     "output_type": "execute_result"
    },
    {
     "data": {
      "image/png": "[encoded data removed]",
      "text/plain": [
       "<matplotlib.figure.Figure at 0x7f7e4d8917b8>"
      ]
     },
     "metadata": {},
     "output_type": "display_data"
    }
   ],
   "source": [
    "plt.scatter(pec_table['ha'],[pec_fn(x) for x in pec_table['ra']])\n",
    "plt.xlabel('HA')\n",
    "plt.ylabel('RA Offset')\n",
    "plt.title(\"RA [as] offset for given HA\")"
   ]
  }
 ],
 "metadata": {
  "kernelspec": {
   "display_name": "Python 3",
   "language": "python",
   "name": "python3"
  },
  "language_info": {
   "codemirror_mode": {
    "name": "ipython",
    "version": 3
   },
   "file_extension": ".py",
   "mimetype": "text/x-python",
   "name": "python",
   "nbconvert_exporter": "python",
   "pygments_lexer": "ipython3",
   "version": "3.5.1"
  }
 },
 "nbformat": 4,
 "nbformat_minor": 0
}
